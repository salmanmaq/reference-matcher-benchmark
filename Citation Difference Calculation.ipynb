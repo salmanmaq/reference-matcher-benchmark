{
 "cells": [
  {
   "cell_type": "markdown",
   "metadata": {},
   "source": [
    "### Load the Data"
   ]
  },
  {
   "cell_type": "code",
   "execution_count": 337,
   "metadata": {},
   "outputs": [],
   "source": [
    "import numpy as np\n",
    "import pandas as pd\n",
    "from collections import defaultdict\n",
    "import ast\n",
    "import matplotlib.pyplot as plt\n",
    "\n",
    "np.set_printoptions(threshold=np.nan)\n",
    "pd.options.display.max_colwidth = 1000"
   ]
  },
  {
   "cell_type": "code",
   "execution_count": null,
   "metadata": {},
   "outputs": [],
   "source": [
    "%%time\n",
    "\n",
    "# Read the records\n",
    "records = pd.read_csv('new-citations.tsv', sep='\\t', header=None)\n",
    "records.columns = ['recID', 'oldRef', 'newRef', 'metaData']\n",
    "\n",
    "print('Total Records: {}'.format(len(records)))"
   ]
  },
  {
   "cell_type": "code",
   "execution_count": 8,
   "metadata": {},
   "outputs": [
    {
     "name": "stdout",
     "output_type": "stream",
     "text": [
      "Total number of mismatches: 177184\n",
      "CPU times: user 97.5 ms, sys: 16.1 ms, total: 114 ms\n",
      "Wall time: 112 ms\n"
     ]
    }
   ],
   "source": [
    "%%time\n",
    "\n",
    "# Filter out all the mismatched records\n",
    "not_equal = records['oldRef'] != records['newRef']\n",
    "mismatches = records[not_equal]\n",
    "\n",
    "print('Total number of mismatches: {}'.format(len(mismatches)))"
   ]
  },
  {
   "cell_type": "markdown",
   "metadata": {},
   "source": [
    "### Parse the metaData into a DataFrame"
   ]
  },
  {
   "cell_type": "code",
   "execution_count": null,
   "metadata": {},
   "outputs": [],
   "source": [
    "%%time\n",
    "\n",
    "total_mismatches = len(mismatches)\n",
    "for i, record in enumerate(mismatches.iterrows()):\n",
    "    \n",
    "    row_data = {}\n",
    "    \n",
    "    row_data['report_numbers'] = 0\n",
    "    row_data['artid'] = 0\n",
    "    row_data['journal_title'] = 0\n",
    "    row_data['journal_volume'] = 0\n",
    "    row_data['page_start'] = 0\n",
    "    row_data['dois'] = 0\n",
    "    row_data['misc'] = 0\n",
    "    row_data['arxiv_eprint'] = 0\n",
    "    row_data['isbn'] = 0\n",
    "    meta_data = ast.literal_eval(record[1]['metaData'])\n",
    "    \n",
    "    reference_info = meta_data.get('reference')\n",
    "    \n",
    "    if reference_info:\n",
    "\n",
    "        if reference_info.get('publication_info'):\n",
    "            row_data['artid'] = reference_info.get('publication_info').get('artid')\n",
    "            row_data['journal_title'] = reference_info.get('publication_info').get('journal_title')\n",
    "            row_data['journal_volume'] = reference_info.get('publication_info').get('journal_volume')\n",
    "            row_data['page_start'] = reference_info.get('publication_info').get('page_start')\n",
    "\n",
    "        if reference_info.get('report_numbers'):\n",
    "            row_data['report_numbers'] = reference_info.get('report_numbers')\n",
    "\n",
    "        if reference_info.get('dois'):\n",
    "            row_data['dois'] = reference_info.get('dois')\n",
    "\n",
    "        if reference_info.get('misc'):\n",
    "            row_data['misc'] = reference_info.get('misc')\n",
    "\n",
    "        if reference_info.get('arxiv_eprint'):\n",
    "            row_data['arxiv_eprint'] = reference_info.get('arxiv_eprint')\n",
    "\n",
    "        if reference_info.get('isbn'):\n",
    "            row_data['isbn'] = reference_info.get('isbn')\n",
    "\n",
    "    row_data['recID'] = record[1]['recID']\n",
    "    row_data['oldRef'] = record[1]['oldRef']\n",
    "    row_data['newRef'] = record[1]['newRef']\n",
    "    \n",
    "    if i == 0:\n",
    "        parsed_data = pd.DataFrame(row_data, index=[0])\n",
    "    else:\n",
    "        parsed_data.loc[i] = row_data\n",
    "        \n",
    "    print('Completed {} / {}'.format(i + 1, total_mismatches))"
   ]
  },
  {
   "cell_type": "code",
   "execution_count": 234,
   "metadata": {},
   "outputs": [],
   "source": [
    "# Rearrange the columns of the parsed data DataFrame\n",
    "parsed_data = parsed_data[['recID', 'oldRef', 'newRef', 'journal_title', 'journal_volume', 'artid', \n",
    "             'page_start', 'report_numbers', 'dois', 'isbn', 'arxiv_eprint', 'misc']]"
   ]
  },
  {
   "cell_type": "markdown",
   "metadata": {},
   "source": [
    "### Generate meaningful views of the whole record to get statistics about difference in citation numbers"
   ]
  },
  {
   "cell_type": "code",
   "execution_count": 396,
   "metadata": {},
   "outputs": [],
   "source": [
    "# Get the citation counts as per legacy\n",
    "old = records.oldRef.value_counts()\n",
    "old = old.sort_index()"
   ]
  },
  {
   "cell_type": "code",
   "execution_count": 397,
   "metadata": {},
   "outputs": [],
   "source": [
    "# Get the citation counts as per the new Labs algorithms\n",
    "new = records.newRef.value_counts()\n",
    "new = new.sort_index()"
   ]
  },
  {
   "cell_type": "code",
   "execution_count": 424,
   "metadata": {},
   "outputs": [],
   "source": [
    "# Calculate the difference between the two counts\n",
    "diff = old - new\n",
    "diff = diff.sort_values(ascending=False)\n",
    "\n",
    "# Remove the value for zero differences\n",
    "diff[1:].value_counts().sort_index()"
   ]
  },
  {
   "cell_type": "code",
   "execution_count": 433,
   "metadata": {},
   "outputs": [
    {
     "data": {
      "text/plain": [
       "Text(0.5,0,'Difference between the number of citations between the legacy and Labs algorithm')"
      ]
     },
     "execution_count": 433,
     "metadata": {},
     "output_type": "execute_result"
    },
    {
     "data": {
      "image/png": "[encoded data removed]",
      "text/plain": [
       "<Figure size 432x288 with 1 Axes>"
      ]
     },
     "metadata": {},
     "output_type": "display_data"
    }
   ],
   "source": [
    "# Draw a cumulative distribution plot\n",
    "%matplotlib inline\n",
    "cumulative = np.cumsum(diff[1:].value_counts().sort_index()[-10:10]) #Ignore the articles with ID 0 because they are unlinked\n",
    "plt.plot(cumulative, c='blue')\n",
    "plt.title('Cumulative Difference between the old algorithm and the new algorithm')\n",
    "plt.ylabel('Cumulative number of articles')\n",
    "plt.xlabel('Difference between the number of citations between the legacy and Labs algorithm')"
   ]
  },
  {
   "cell_type": "code",
   "execution_count": 644,
   "metadata": {},
   "outputs": [
    {
     "data": {
      "image/png": "[encoded data removed]",
      "text/plain": [
       "<Figure size 432x288 with 1 Axes>"
      ]
     },
     "metadata": {},
     "output_type": "display_data"
    }
   ],
   "source": [
    "# Draw a histogram of the frequency distribution\n",
    "plt.hist(cumulative[-5:5], bins=100)\n",
    "ax = plt.gca()"
   ]
  },
  {
   "cell_type": "code",
   "execution_count": 390,
   "metadata": {},
   "outputs": [
    {
     "data": {
      "text/plain": [
       "0.7362864921377056"
      ]
     },
     "execution_count": 390,
     "metadata": {},
     "output_type": "execute_result"
    }
   ],
   "source": [
    "693696 / len(records.recID.unique())"
   ]
  },
  {
   "cell_type": "code",
   "execution_count": 412,
   "metadata": {},
   "outputs": [
    {
     "data": {
      "text/plain": [
       "1653661"
      ]
     },
     "execution_count": 412,
     "metadata": {},
     "output_type": "execute_result"
    }
   ],
   "source": [
    "records.recID.max()"
   ]
  },
  {
   "cell_type": "markdown",
   "metadata": {},
   "source": [
    "### Load the old citation counts and compare against the new ones"
   ]
  },
  {
   "cell_type": "code",
   "execution_count": 483,
   "metadata": {},
   "outputs": [],
   "source": [
    "# Read the records\n",
    "old_records = pd.read_csv('old-citation-counts.tsv', sep='\\t')\n",
    "old_records.columns = ['recID', 'citation_count']\n",
    "old_records = old_records.set_index('recID')"
   ]
  },
  {
   "cell_type": "code",
   "execution_count": 564,
   "metadata": {},
   "outputs": [],
   "source": [
    "# Order the legacy number of citations by citation count\n",
    "legacy = old_records.citation_count.sort_values(ascending=False)"
   ]
  },
  {
   "cell_type": "code",
   "execution_count": 588,
   "metadata": {},
   "outputs": [],
   "source": [
    "# Get the citation counts as per the new Labs algorithms\n",
    "labs = records.newRef.value_counts()\n",
    "labs = labs[1:] # Ignore the records with recID == 0"
   ]
  },
  {
   "cell_type": "code",
   "execution_count": 632,
   "metadata": {},
   "outputs": [],
   "source": [
    "# Calculate the difference between the two\n",
    "diff2 = labs - legacy\n",
    "\n",
    "# Extract the valid values from the difference i.e. != NaN\n",
    "diff2 = diff2.valid()"
   ]
  },
  {
   "cell_type": "code",
   "execution_count": 655,
   "metadata": {},
   "outputs": [
    {
     "name": "stdout",
     "output_type": "stream",
     "text": [
      "Total number of unique Cited articles as per legacy: 760203\n",
      "Total number of unique Cited articles as per Labs: 759481\n",
      "Difference in Number between the Legacy and Labs Records: 722\n",
      "\n",
      "Total Number of Unique Articles which cite other papers: 942155\n",
      "\n",
      "Number of Cited articles with zero difference: 652046\n",
      "Percentage of Cited articles with zero difference: 85.85 %\n"
     ]
    }
   ],
   "source": [
    "# Indicate Number of articles with zero differences in citation counts\n",
    "num_cited_legacy = len(legacy.index.unique())\n",
    "num_cited_labs = len(labs.index.unique())\n",
    "um_unique_articles = len(records.recID.unique())\n",
    "print('Total number of unique Cited articles as per legacy: {}'.format(num_cited_legacy))\n",
    "print('Total number of unique Cited articles as per Labs: {}'.format(num_cited_labs))\n",
    "print('Difference in Number between the Legacy and Labs Records: {}'.format(num_cited_legacy - num_cited_labs))\n",
    "print('\\nTotal Number of Unique Articles which cite other papers: {}\\n'.format(num_unique_articles))\n",
    "\n",
    "num_zero_diff = diff2.value_counts()[0]\n",
    "zero_diff = num_zero_diff / num_cited_labs * 100\n",
    "print('Number of Cited articles with zero difference: {}'.format(num_zero_diff))\n",
    "print('Percentage of Cited articles with zero difference: {0:0.2f} %'.format(zero_diff))"
   ]
  },
  {
   "cell_type": "code",
   "execution_count": 567,
   "metadata": {},
   "outputs": [
    {
     "data": {
      "text/plain": [
       "([<matplotlib.axis.XTick at 0x7f22f6ddeac8>,\n",
       "  <matplotlib.axis.XTick at 0x7f22f6dde278>,\n",
       "  <matplotlib.axis.XTick at 0x7f22f6df6518>,\n",
       "  <matplotlib.axis.XTick at 0x7f22f6df69e8>,\n",
       "  <matplotlib.axis.XTick at 0x7f22f6df6eb8>,\n",
       "  <matplotlib.axis.XTick at 0x7f22f6dfc198>,\n",
       "  <matplotlib.axis.XTick at 0x7f22f6dfc5f8>,\n",
       "  <matplotlib.axis.XTick at 0x7f22f6dfcac8>,\n",
       "  <matplotlib.axis.XTick at 0x7f22f6dfce80>,\n",
       "  <matplotlib.axis.XTick at 0x7f22f6e024a8>,\n",
       "  <matplotlib.axis.XTick at 0x7f22f6e02978>,\n",
       "  <matplotlib.axis.XTick at 0x7f22f6e02e48>,\n",
       "  <matplotlib.axis.XTick at 0x7f22f6e05358>],\n",
       " <a list of 13 Text xticklabel objects>)"
      ]
     },
     "execution_count": 567,
     "metadata": {},
     "output_type": "execute_result"
    },
    {
     "data": {
      "image/png": "[encoded data removed]",
      "text/plain": [
       "<Figure size 432x288 with 1 Axes>"
      ]
     },
     "metadata": {},
     "output_type": "display_data"
    }
   ],
   "source": [
    "# Draw a cumulative distribution plot\n",
    "%matplotlib inline\n",
    "cumulative = np.cumsum(diff2.value_counts().sort_index()[-6:-1]) #Ignore the articles with ID 0 because they are unlinked\n",
    "cumulative2 = np.cumsum(diff2.value_counts().sort_index()[1:6])\n",
    "plt.plot(cumulative, c='blue')\n",
    "plt.plot(cumulative2, c='blue')\n",
    "plt.title('Cumulative Difference between the old algorithm and the new algorithm \\n (Zero difference ignored for better visualization)')\n",
    "plt.ylabel('Cumulative number of articles')\n",
    "plt.xlabel('Difference between the number of citations between the legacy and Labs algorithm')\n",
    "plt.xticks(np.arange(-6, 7, 1.0))"
   ]
  },
  {
   "cell_type": "code",
   "execution_count": 634,
   "metadata": {},
   "outputs": [
    {
     "data": {
      "text/plain": [
       "([<matplotlib.axis.XTick at 0x7f22f6cf5a20>,\n",
       "  <matplotlib.axis.XTick at 0x7f22f6cf5358>,\n",
       "  <matplotlib.axis.XTick at 0x7f22f6ffda20>,\n",
       "  <matplotlib.axis.XTick at 0x7f22f6ff0e10>,\n",
       "  <matplotlib.axis.XTick at 0x7f22f6f64c50>,\n",
       "  <matplotlib.axis.XTick at 0x7f22f6ff0e80>,\n",
       "  <matplotlib.axis.XTick at 0x7f22f6fed198>,\n",
       "  <matplotlib.axis.XTick at 0x7f22f6fed3c8>,\n",
       "  <matplotlib.axis.XTick at 0x7f22f6f84400>,\n",
       "  <matplotlib.axis.XTick at 0x7f22fd0ae898>,\n",
       "  <matplotlib.axis.XTick at 0x7f22f7038048>],\n",
       " <a list of 11 Text xticklabel objects>)"
      ]
     },
     "execution_count": 634,
     "metadata": {},
     "output_type": "execute_result"
    },
    {
     "data": {
      "image/png": "[encoded data removed]",
      "text/plain": [
       "<Figure size 432x288 with 1 Axes>"
      ]
     },
     "metadata": {},
     "output_type": "display_data"
    }
   ],
   "source": [
    "# Plot the results which show the occurenc of the frequency of the citation differences\n",
    "%matplotlib inline\n",
    "cumulative = diff2.value_counts().sort_index()[-5:-1] #Ignore the articles with ID 0 because they are unlinked\n",
    "cumulative2 = diff2.value_counts().sort_index()[1:5]\n",
    "plt.plot(cumulative, c='blue')\n",
    "plt.plot(cumulative2, c='blue')\n",
    "plt.title('Difference between the old algorithm and the new algorithm  \\n (Zero difference ignored for better visualization)')\n",
    "plt.ylabel('Number of articles')\n",
    "plt.xlabel('Difference between the number of citations between the legacy and Labs algorithm')\n",
    "plt.xticks(np.arange(-5, 6, 1.0))"
   ]
  },
  {
   "cell_type": "code",
   "execution_count": 600,
   "metadata": {},
   "outputs": [
    {
     "name": "stdout",
     "output_type": "stream",
     "text": [
      "Total 36923 articles lost citations in the Labs algorithm, with maximum lost count being -1020.0\n",
      "CPU times: user 17.2 s, sys: 0 ns, total: 17.2 s\n",
      "Wall time: 17.2 s\n"
     ]
    }
   ],
   "source": [
    "%%time\n",
    "# Get the articles which have lost citations\n",
    "lost = diff2 < 0\n",
    "lost_citations = diff2[lost]\n",
    "print('Total {} articles lost citations in the Labs algorithm, with maximum lost count being {}'.format(\n",
    "    len(lost_citations), lost_citations.min()))"
   ]
  },
  {
   "cell_type": "code",
   "execution_count": 601,
   "metadata": {},
   "outputs": [
    {
     "name": "stdout",
     "output_type": "stream",
     "text": [
      "Total 67857 articles gained citations in the Labs algorithm, with maximum gained count being 1005.0\n",
      "CPU times: user 17.4 s, sys: 3.68 ms, total: 17.4 s\n",
      "Wall time: 17.4 s\n"
     ]
    }
   ],
   "source": [
    "%%time\n",
    "# Get the articles which have gained citations\n",
    "gained = diff2 > 0\n",
    "gained_citations = diff2[gained]\n",
    "print('Total {} articles gained citations in the Labs algorithm, with maximum gained count being {}'.format(\n",
    "    len(gained_citations), gained_citations.max()))"
   ]
  },
  {
   "cell_type": "code",
   "execution_count": 641,
   "metadata": {},
   "outputs": [],
   "source": [
    "# Get the ordered lists\n",
    "\n",
    "# Get the combined list\n",
    "sorted_overall = pd.DataFrame(diff2.sort_values())\n",
    "sorted_overall.columns = ['Citation_Difference']\n",
    "\n",
    "# Get the list for lost citations\n",
    "sorted_lost = pd.DataFrame(lost_citations.sort_values(ascending=True))\n",
    "sorted_lost.columns = ['Citation_Difference']\n",
    "\n",
    "# Get the list for gained citations\n",
    "sorted_gained = pd.DataFrame(gained_citations.sort_values(ascending=False))\n",
    "sorted_gained.columns = ['Citation_Difference']"
   ]
  },
  {
   "cell_type": "code",
   "execution_count": 643,
   "metadata": {},
   "outputs": [],
   "source": [
    "# Export all the ordered lists to CSV\n",
    "sorted_overall.to_csv('Citation Differences/complete_list.csv')\n",
    "sorted_lost.to_csv('Citation Differences/lost_citations_list.csv')\n",
    "sorted_gained.to_csv('Citation Differences/gained_citations_list.csv')"
   ]
  },
  {
   "cell_type": "code",
   "execution_count": 649,
   "metadata": {},
   "outputs": [
    {
     "data": {
      "text/plain": [
       "760203"
      ]
     },
     "execution_count": 649,
     "metadata": {},
     "output_type": "execute_result"
    }
   ],
   "source": []
  },
  {
   "cell_type": "code",
   "execution_count": 650,
   "metadata": {},
   "outputs": [
    {
     "data": {
      "text/plain": [
       "759481"
      ]
     },
     "execution_count": 650,
     "metadata": {},
     "output_type": "execute_result"
    }
   ],
   "source": []
  },
  {
   "cell_type": "code",
   "execution_count": null,
   "metadata": {},
   "outputs": [],
   "source": []
  }
 ],
 "metadata": {
  "kernelspec": {
   "display_name": "Python 3",
   "language": "python",
   "name": "python3"
  },
  "language_info": {
   "codemirror_mode": {
    "name": "ipython",
    "version": 3
   },
   "file_extension": ".py",
   "mimetype": "text/x-python",
   "name": "python",
   "nbconvert_exporter": "python",
   "pygments_lexer": "ipython3",
   "version": "3.5.2"
  }
 },
 "nbformat": 4,
 "nbformat_minor": 2
}
