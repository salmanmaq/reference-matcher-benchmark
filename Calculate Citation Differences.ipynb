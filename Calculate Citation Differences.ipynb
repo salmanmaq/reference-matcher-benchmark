{
 "cells": [
  {
   "cell_type": "code",
   "execution_count": 55,
   "metadata": {},
   "outputs": [],
   "source": [
    "import numpy as np\n",
    "import pandas as pd\n",
    "import os\n",
    "\n",
    "pd.options.display.max_colwidth = 1000"
   ]
  },
  {
   "cell_type": "code",
   "execution_count": 60,
   "metadata": {},
   "outputs": [],
   "source": [
    "csv_save_dir = 'output_csvs'\n",
    "if not os.path.exists(csv_save_dir):\n",
    "    os.makedirs(csv_save_dir)"
   ]
  },
  {
   "cell_type": "code",
   "execution_count": 2,
   "metadata": {},
   "outputs": [
    {
     "name": "stdout",
     "output_type": "stream",
     "text": [
      "Total Records: 30230224\n",
      "CPU times: user 2min 32s, sys: 7.79 s, total: 2min 40s\n",
      "Wall time: 2min 40s\n"
     ]
    }
   ],
   "source": [
    "%%time\n",
    "\n",
    "# Read information for the new records\n",
    "records = pd.read_csv('new-citations.tsv', sep='\\t', header=None)\n",
    "records.columns = ['recID', 'oldRef', 'newRef', 'metaData']\n",
    "\n",
    "print('Total Records: {}'.format(len(records)))"
   ]
  },
  {
   "cell_type": "code",
   "execution_count": 3,
   "metadata": {},
   "outputs": [],
   "source": [
    "# Read the new citation counts\n",
    "labs = pd.read_csv('new-citation-counts.tsv', sep='\\t', header=None)\n",
    "labs.columns = ['recID', 'Citation_Difference']\n",
    "\n",
    "# Index by recIDs\n",
    "labs_indexed = labs.set_index('recID')"
   ]
  },
  {
   "cell_type": "code",
   "execution_count": 4,
   "metadata": {},
   "outputs": [],
   "source": [
    "# Read the legacy citation counts\n",
    "legacy = pd.read_csv('old-citation-counts.tsv', sep='\\t')\n",
    "legacy.columns = ['recID', 'Citation_Difference']\n",
    "\n",
    "# Index by recrod IDs\n",
    "legacy_indexed = legacy.set_index('recID')"
   ]
  },
  {
   "cell_type": "code",
   "execution_count": 5,
   "metadata": {},
   "outputs": [],
   "source": [
    "# Compute the difference in citation counts between Labs and Legacy\n",
    "diff = labs_indexed - legacy_indexed"
   ]
  },
  {
   "cell_type": "code",
   "execution_count": 6,
   "metadata": {},
   "outputs": [
    {
     "name": "stdout",
     "output_type": "stream",
     "text": [
      "6032 articles are differently indexed between the legacy and labs records and have no correspondence\n"
     ]
    }
   ],
   "source": [
    "# Filter out the NaNs\n",
    "is_nan = diff.Citation_Difference.isna()\n",
    "NaN_entries = diff[is_nan]\n",
    "\n",
    "print('{} articles are differently indexed between the legacy and labs records and have no correspondence'.format(len(NaN_entries)))"
   ]
  },
  {
   "cell_type": "code",
   "execution_count": 7,
   "metadata": {},
   "outputs": [],
   "source": [
    "# Filter the valid entries\n",
    "is_valid = ~diff.Citation_Difference.isna()\n",
    "valid_diff = diff[is_valid]"
   ]
  },
  {
   "cell_type": "code",
   "execution_count": 8,
   "metadata": {},
   "outputs": [
    {
     "name": "stdout",
     "output_type": "stream",
     "text": [
      "Total 46256 articles lost citations in the Labs algorithm, with maximum lost count being Citation_Difference   -1023.0\n",
      "dtype: float64\n"
     ]
    }
   ],
   "source": [
    "# Get the articles which have lost citations\n",
    "lost = valid_diff.Citation_Difference < 0\n",
    "lost_citations = valid_diff[lost]\n",
    "print('Total {} articles lost citations in the Labs algorithm, with maximum lost count being {}'.format(\n",
    "    len(lost_citations), lost_citations.min()))\n",
    "\n",
    "# Sort the list\n",
    "lost_citations = lost_citations.sort_values('Citation_Difference')"
   ]
  },
  {
   "cell_type": "code",
   "execution_count": 9,
   "metadata": {},
   "outputs": [
    {
     "name": "stdout",
     "output_type": "stream",
     "text": [
      "Total 19416 articles gained citations in the Labs algorithm, with maximum gained count being Citation_Difference    408.0\n",
      "dtype: float64\n"
     ]
    }
   ],
   "source": [
    "# Get the articles which have gained citations\n",
    "gained = valid_diff.Citation_Difference > 0\n",
    "gained_citations = valid_diff[gained]\n",
    "print('Total {} articles gained citations in the Labs algorithm, with maximum gained count being {}'.format(\n",
    "    len(gained_citations), gained_citations.max()))\n",
    "\n",
    "# Sort the list\n",
    "gained_citations = gained_citations.sort_values('Citation_Difference', ascending=False)"
   ]
  },
  {
   "cell_type": "code",
   "execution_count": 10,
   "metadata": {},
   "outputs": [],
   "source": [
    "# Get the counts for absolute differences in citation numbers\n",
    "abs_diff = np.abs(valid_diff)\n",
    "abs_diff = abs_diff.sort_values('Citation_Difference', ascending=False)\n",
    "\n",
    "# Filter out the zero difference entries\n",
    "non_zero_diff = abs_diff.Citation_Difference != 0\n",
    "abs_diff = abs_diff[non_zero_diff]"
   ]
  },
  {
   "cell_type": "code",
   "execution_count": 54,
   "metadata": {},
   "outputs": [],
   "source": [
    "# Initialize extended DataFrames for the differences\n",
    "lost_citations_ext = lost_citations\n",
    "gained_citations_ext = gained_citations\n",
    "abs_diff_ext = abs_diff\n",
    "\n",
    "# For lost citations\n",
    "lost_citations_ext['Legacy_Count'] = legacy_indexed.loc[lost_citations.index]\n",
    "lost_citations_ext['Labs_Count'] = labs_indexed.loc[lost_citations.index]\n",
    "\n",
    "# For gained citations\n",
    "gained_citations_ext['Legacy_Count'] = legacy_indexed.loc[gained_citations.index]\n",
    "gained_citations_ext['Labs_Count'] = labs_indexed.loc[gained_citations.index]\n",
    "\n",
    "# For absolute difference in citation counts\n",
    "abs_diff_ext['Legacy_Count'] = legacy_indexed.loc[abs_diff.index]\n",
    "abs_diff_ext['Labs_Count'] = labs_indexed.loc[abs_diff.index]"
   ]
  },
  {
   "cell_type": "code",
   "execution_count": 58,
   "metadata": {},
   "outputs": [],
   "source": [
    "# Save the citation difference DataFrames to CSV Files\n",
    "lost_citations_ext.to_csv(os.path.join(csv_save_dir, 'lost_citations.csv'))\n",
    "gained_citations_ext.to_csv(os.path.join(csv_save_dir, 'gained_citations.csv'))\n",
    "abs_diff_ext.to_csv(os.path.join(csv_save_dir, 'overall_difference.csv'))"
   ]
  },
  {
   "cell_type": "markdown",
   "metadata": {},
   "source": [
    "### Some useful statistics"
   ]
  },
  {
   "cell_type": "code",
   "execution_count": 13,
   "metadata": {},
   "outputs": [
    {
     "name": "stdout",
     "output_type": "stream",
     "text": [
      "Total number of unique Cited articles as per legacy: 760203\n",
      "Total number of unique Cited articles as per Labs: 759481\n",
      "Difference in Number between the Legacy and Labs Records: 722\n",
      "\n",
      "Total Number of Unique Articles which cite other papers: 942155\n",
      "\n",
      "Number of Cited articles with zero difference: 691154\n",
      "Percentage of Cited articles with zero difference: 90.92 %\n"
     ]
    }
   ],
   "source": [
    "# Indicate Number of articles with zero differences in citation counts\n",
    "num_cited_legacy = len(legacy.index.unique())\n",
    "num_cited_labs = len(labs.index.unique())\n",
    "num_unique_articles = len(records.recID.unique())\n",
    "print('Total number of unique Cited articles as per legacy: {}'.format(num_cited_legacy))\n",
    "print('Total number of unique Cited articles as per Labs: {}'.format(num_cited_labs))\n",
    "print('Difference in Number between the Legacy and Labs Records: {}'.format(num_cited_legacy - num_cited_labs))\n",
    "print('\\nTotal Number of Unique Articles which cite other papers: {}\\n'.format(num_unique_articles))\n",
    "\n",
    "num_zero_diff = valid_diff.Citation_Difference.value_counts()[0]\n",
    "zero_diff = num_zero_diff / num_cited_legacy * 100\n",
    "print('Number of Cited articles with zero difference: {}'.format(num_zero_diff))\n",
    "print('Percentage of Cited articles with zero difference: {0:0.2f} %'.format(zero_diff))"
   ]
  },
  {
   "cell_type": "code",
   "execution_count": 14,
   "metadata": {},
   "outputs": [
    {
     "name": "stdout",
     "output_type": "stream",
     "text": [
      "Percent (%) of Citation Counts Difference in Labs\n",
      "1.0    6.652828\n",
      "2.0    0.992498\n",
      "3.0    0.330307\n",
      "4.0    0.168508\n",
      "5.0    0.100499\n",
      "Name: Citation_Difference, dtype: float64\n",
      "\n",
      "Total 2996 records with difference greater than 5 - Percentage: 0.3941052587269453 %\n",
      "\n"
     ]
    }
   ],
   "source": [
    "# Percentage Differences for absolute differences\n",
    "abs_diff_counts = abs_diff.Citation_Difference.value_counts()\n",
    "print('Percent (%) of Citation Counts Difference in Labs')\n",
    "print(abs_diff_counts[:5] / num_cited_legacy * 100)\n",
    "\n",
    "num_grt5 = sum(abs_diff_counts[6:])\n",
    "percent_grt5 = num_grt5 / num_cited_legacy * 100\n",
    "print('\\nTotal {} records with difference greater than 5 - Percentage: {} %\\n'.format(num_grt5, percent_grt5))"
   ]
  },
  {
   "cell_type": "code",
   "execution_count": 15,
   "metadata": {},
   "outputs": [
    {
     "name": "stdout",
     "output_type": "stream",
     "text": [
      "Percent (%) of Citation Counts Lost in Labs\n",
      "-1.0    4.818450\n",
      "-2.0    0.701655\n",
      "-3.0    0.201788\n",
      "-4.0    0.091949\n",
      "-5.0    0.050381\n",
      "Name: Citation_Difference, dtype: float64\n",
      "\n",
      "Total 1676 records with lost citations greater than 5 - Percentage: 0.22046742777915898 %\n",
      "\n"
     ]
    }
   ],
   "source": [
    "# Percentage Differences for lost citations\n",
    "lost_citations_count = lost_citations.Citation_Difference.value_counts()\n",
    "lost_percent_diff = lost_citations_count/ num_cited_legacy * 100\n",
    "print('Percent (%) of Citation Counts Lost in Labs')\n",
    "print(lost_percent_diff[:-5])\n",
    "\n",
    "lost_grt5 = sum(lost_citations_count[-6:])\n",
    "lost_percent_grt5 = lost_grt5 / num_cited_legacy * 100\n",
    "print('\\nTotal {} records with lost citations greater than 5 - Percentage: {} %\\n'.format(lost_grt5, lost_percent_grt5))"
   ]
  },
  {
   "cell_type": "code",
   "execution_count": 16,
   "metadata": {},
   "outputs": [
    {
     "name": "stdout",
     "output_type": "stream",
     "text": [
      "Percent (%) of Citation Counts Gained in Labs\n",
      "1.0    1.834378\n",
      "2.0    0.290843\n",
      "3.0    0.128518\n",
      "4.0    0.076558\n",
      "5.0    0.050118\n",
      "Name: Citation_Difference, dtype: float64\n",
      "\n",
      "Total 1320 records with gained citations greater than 5 - Percentage: 0.17363783094778631 %\n",
      "\n"
     ]
    }
   ],
   "source": [
    "# Percentage Differences for gained citations\n",
    "gained_citations_count = gained_citations.Citation_Difference.value_counts()\n",
    "gained_percent_diff = gained_citations_count/ num_cited_legacy * 100\n",
    "print('Percent (%) of Citation Counts Gained in Labs')\n",
    "print(gained_percent_diff[:5])\n",
    "\n",
    "gained_grt5 = sum(gained_citations_count[6:])\n",
    "gained_percent_grt5 = gained_grt5 / num_cited_legacy * 100\n",
    "print('\\nTotal {} records with gained citations greater than 5 - Percentage: {} %\\n'.format(gained_grt5, gained_percent_grt5))"
   ]
  },
  {
   "cell_type": "markdown",
   "metadata": {},
   "source": [
    "### Checking specific files"
   ]
  },
  {
   "cell_type": "code",
   "execution_count": 17,
   "metadata": {},
   "outputs": [
    {
     "name": "stdout",
     "output_type": "stream",
     "text": [
      "Citation_Difference    35.0\n",
      "Legacy_Count           36.0\n",
      "Labs_Count              1.0\n",
      "Name: 1264209, dtype: float64\n"
     ]
    }
   ],
   "source": [
    "print(abs_diff.loc[1264209])\n",
    "# Comment: Losing Citations - Labs seems to assign it to the same\n",
    "# article but with a different recID i.e. 621784, except once."
   ]
  },
  {
   "cell_type": "code",
   "execution_count": 18,
   "metadata": {},
   "outputs": [
    {
     "data": {
      "text/plain": [
       "Citation_Difference    0.0\n",
       "Name: 7731, dtype: float64"
      ]
     },
     "execution_count": 18,
     "metadata": {},
     "output_type": "execute_result"
    }
   ],
   "source": [
    "diff.loc[7731]\n",
    "# Comment: No difference in citations in Labs and Legacy\n",
    "# Also, yes, it seems to be taken into account in Labs"
   ]
  },
  {
   "cell_type": "code",
   "execution_count": 19,
   "metadata": {},
   "outputs": [
    {
     "name": "stdout",
     "output_type": "stream",
     "text": [
      "Citation_Difference    30.0\n",
      "Legacy_Count           38.0\n",
      "Labs_Count              8.0\n",
      "Name: 1331417, dtype: float64\n"
     ]
    }
   ],
   "source": [
    "print(abs_diff.loc[1331417])\n",
    "# Comment: Losing citations - Labs doesn't seem to assign this article to any recID. \n",
    "# Code \"m\" in the INSPIRE Legacy XML records."
   ]
  },
  {
   "cell_type": "code",
   "execution_count": 20,
   "metadata": {},
   "outputs": [
    {
     "name": "stdout",
     "output_type": "stream",
     "text": [
      "Citation_Difference    26.0\n",
      "Legacy_Count           47.0\n",
      "Labs_Count             21.0\n",
      "Name: 1432092, dtype: float64\n"
     ]
    }
   ],
   "source": [
    "print(abs_diff.loc[1432092])\n",
    "# Comment: Losing citations - Sometimes Labs doesn't associate it with any article. Code \"m\""
   ]
  },
  {
   "cell_type": "code",
   "execution_count": 21,
   "metadata": {},
   "outputs": [
    {
     "name": "stdout",
     "output_type": "stream",
     "text": [
      "Citation_Difference    35.0\n",
      "Legacy_Count           43.0\n",
      "Labs_Count              8.0\n",
      "Name: 700866, dtype: float64\n"
     ]
    }
   ],
   "source": [
    "print(abs_diff.loc[700866])\n",
    "# Comment: Losing Citations - Labs doesn't seem to assign this article to any recID."
   ]
  },
  {
   "cell_type": "markdown",
   "metadata": {},
   "source": [
    "### Further checking functionality"
   ]
  },
  {
   "cell_type": "code",
   "execution_count": 41,
   "metadata": {},
   "outputs": [],
   "source": [
    "# Get all the records in both oldRef and newRef which are unique\n",
    "old_unique = pd.DataFrame(records.oldRef.unique())\n",
    "new_unique = pd.DataFrame(records.newRef.unique())"
   ]
  },
  {
   "cell_type": "code",
   "execution_count": 42,
   "metadata": {},
   "outputs": [],
   "source": [
    "# Get the lists of records which are in Labs abut not Legacy and vice-versa\n",
    "old_unique_diff = np.isin(old_unique, new_unique, assume_unique=True)\n",
    "new_unique_diff = np.isin(new_unique, old_unique, assume_unique=True)\n",
    "\n",
    "labs_only = new_unique[~new_unique_diff]\n",
    "legacy_only = old_unique[~old_unique_diff]"
   ]
  },
  {
   "cell_type": "code",
   "execution_count": 59,
   "metadata": {},
   "outputs": [],
   "source": [
    "# Import the records as CSV\n",
    "legacy_only.to_csv(os.path.join(csv_save_dir, 'legacy_only.csv'), index=False)\n",
    "labs_only.to_csv(os.path.join(csv_save_dir, 'labs_only.csv'), index=False)"
   ]
  },
  {
   "cell_type": "markdown",
   "metadata": {},
   "source": [
    "### Querying Particular records"
   ]
  },
  {
   "cell_type": "markdown",
   "metadata": {},
   "source": [
    "###### Based on the particular lists generated above,  we can view the lists and query for particular records using the following commands\n",
    "\n",
    "###### For example, we want to check all entries corresponding to a particular record ID:\n",
    "\n",
    "records[records.recID == 3281]\n",
    "\n",
    "###### Similarly, we want to check a cited article according to legacy:\n",
    "\n",
    "records[records.oldRef == 3281]\n",
    "\n",
    "###### And according to Labs:\n",
    "\n",
    "records[records.newRef == 3281]\n",
    "\n",
    "###### If we want to see all the mismatches between Labs and Legacy\n",
    "records[records.oldRef != records.newRef]\n",
    "\n",
    "##### Potentially endless queires can be done on these DataFrames to generate meaningful views of the data for detecting discrepancies. "
   ]
  },
  {
   "cell_type": "code",
   "execution_count": null,
   "metadata": {},
   "outputs": [],
   "source": []
  }
 ],
 "metadata": {
  "kernelspec": {
   "display_name": "Python 3",
   "language": "python",
   "name": "python3"
  },
  "language_info": {
   "codemirror_mode": {
    "name": "ipython",
    "version": 3
   },
   "file_extension": ".py",
   "mimetype": "text/x-python",
   "name": "python",
   "nbconvert_exporter": "python",
   "pygments_lexer": "ipython3",
   "version": "3.5.2"
  }
 },
 "nbformat": 4,
 "nbformat_minor": 2
}
