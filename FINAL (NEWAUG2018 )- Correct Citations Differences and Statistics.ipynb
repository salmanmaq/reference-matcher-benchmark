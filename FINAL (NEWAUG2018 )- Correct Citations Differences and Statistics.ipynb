{
 "cells": [
  {
   "cell_type": "code",
   "execution_count": 1,
   "metadata": {},
   "outputs": [],
   "source": [
    "import numpy as np\n",
    "import pandas as pd\n",
    "import os\n",
    "import matplotlib.pyplot as plt\n",
    "\n",
    "pd.options.display.max_colwidth = 1000"
   ]
  },
  {
   "cell_type": "code",
   "execution_count": 2,
   "metadata": {},
   "outputs": [],
   "source": [
    "csv_save_dir = 'output_csvs_NEW_AUG_2018'\n",
    "if not os.path.exists(csv_save_dir):\n",
    "    os.makedirs(csv_save_dir)"
   ]
  },
  {
   "cell_type": "code",
   "execution_count": 3,
   "metadata": {},
   "outputs": [
    {
     "name": "stdout",
     "output_type": "stream",
     "text": [
      "Total Records: 31175879\n",
      "CPU times: user 3min 9s, sys: 10.9 s, total: 3min 20s\n",
      "Wall time: 3min 30s\n"
     ]
    }
   ],
   "source": [
    "%%time\n",
    "\n",
    "# Read information for the new records\n",
    "records = pd.read_csv('new-citations-NEWAUG2018.tsv', sep='\\t', header=None)\n",
    "records.columns = ['recID', 'oldRef', 'newRef', 'metaData']\n",
    "\n",
    "print('Total Records: {}'.format(len(records)))"
   ]
  },
  {
   "cell_type": "code",
   "execution_count": 4,
   "metadata": {},
   "outputs": [],
   "source": [
    "# Read the new citation counts\n",
    "labs = pd.read_csv('new-citation-counts-NEWAUG2018.tsv', sep='\\t', header=None)\n",
    "labs.columns = ['recID', 'Citation_Difference']\n",
    "# Citation_Difference is actually citation count but is used here for ease later when subtracting\n",
    "\n",
    "# Index by recIDs\n",
    "labs_indexed = labs.set_index('recID')"
   ]
  },
  {
   "cell_type": "code",
   "execution_count": 5,
   "metadata": {},
   "outputs": [],
   "source": [
    "# Read the legacy citation counts\n",
    "legacy = pd.read_csv('old-citation-counts-AUG2018.csv', sep=',')\n",
    "legacy.columns = ['recID', 'Citation_Difference', 'Timestamp']\n",
    "# Citation_Difference is actually citation count but is used here for ease later when subtracting\n",
    "legacy = legacy.drop(['Timestamp'], axis='columns')\n",
    "\n",
    "# Index by recrod IDs\n",
    "legacy_indexed = legacy.set_index('recID')"
   ]
  },
  {
   "cell_type": "code",
   "execution_count": 6,
   "metadata": {},
   "outputs": [],
   "source": [
    "# Compute the difference in citation counts between Labs and Legacy\n",
    "diff = labs_indexed - legacy_indexed"
   ]
  },
  {
   "cell_type": "code",
   "execution_count": 7,
   "metadata": {},
   "outputs": [
    {
     "name": "stdout",
     "output_type": "stream",
     "text": [
      "11239 articles are differently indexed between the legacy and labs records and have no correspondence\n"
     ]
    }
   ],
   "source": [
    "# Filter out the NaNs\n",
    "is_nan = diff.Citation_Difference.isna()\n",
    "NaN_entries = diff[is_nan]\n",
    "\n",
    "print('{} articles are differently indexed between the legacy and labs records and have no correspondence'.format(len(NaN_entries)))"
   ]
  },
  {
   "cell_type": "code",
   "execution_count": 8,
   "metadata": {},
   "outputs": [],
   "source": [
    "# Filter the valid entries\n",
    "is_valid = ~diff.Citation_Difference.isna()\n",
    "valid_diff = diff[is_valid]"
   ]
  },
  {
   "cell_type": "code",
   "execution_count": 9,
   "metadata": {},
   "outputs": [],
   "source": [
    "# Get the articles which have lost citations\n",
    "lost = valid_diff.Citation_Difference < 0\n",
    "lost_citations = valid_diff[lost]\n",
    "\n",
    "# Sort the list\n",
    "lost_citations = lost_citations.sort_values('Citation_Difference')"
   ]
  },
  {
   "cell_type": "code",
   "execution_count": 10,
   "metadata": {},
   "outputs": [],
   "source": [
    "# Get the articles which have gained citations\n",
    "gained = valid_diff.Citation_Difference > 0\n",
    "gained_citations = valid_diff[gained]\n",
    "\n",
    "# Sort the list\n",
    "gained_citations = gained_citations.sort_values('Citation_Difference', ascending=False)"
   ]
  },
  {
   "cell_type": "code",
   "execution_count": 11,
   "metadata": {},
   "outputs": [],
   "source": [
    "# Get the counts for absolute differences in citation numbers\n",
    "abs_diff = np.abs(valid_diff)\n",
    "abs_diff = abs_diff.sort_values('Citation_Difference', ascending=False)\n",
    "\n",
    "# Get just the zero difference entries\n",
    "zero_diff = abs_diff.Citation_Difference == 0\n",
    "zero_diff = abs_diff[zero_diff]\n",
    "\n",
    "# Filter out the zero difference entries\n",
    "non_zero_diff = abs_diff.Citation_Difference != 0\n",
    "abs_diff = abs_diff[non_zero_diff]"
   ]
  },
  {
   "cell_type": "code",
   "execution_count": 12,
   "metadata": {},
   "outputs": [],
   "source": [
    "# Initialize extended DataFrames for the differences\n",
    "lost_citations_ext = lost_citations\n",
    "gained_citations_ext = gained_citations\n",
    "abs_diff_ext = abs_diff\n",
    "\n",
    "# For lost citations\n",
    "lost_citations_ext['Legacy_Count'] = legacy_indexed.loc[lost_citations.index]\n",
    "lost_citations_ext['Labs_Count'] = labs_indexed.loc[lost_citations.index]\n",
    "\n",
    "# For gained citations\n",
    "gained_citations_ext['Legacy_Count'] = legacy_indexed.loc[gained_citations.index]\n",
    "gained_citations_ext['Labs_Count'] = labs_indexed.loc[gained_citations.index]\n",
    "\n",
    "# For absolute difference in citation counts\n",
    "abs_diff_ext['Legacy_Count'] = legacy_indexed.loc[abs_diff.index]\n",
    "abs_diff_ext['Labs_Count'] = labs_indexed.loc[abs_diff.index]"
   ]
  },
  {
   "cell_type": "markdown",
   "metadata": {},
   "source": [
    "### Incorporate \"invalid/NaN\" entries"
   ]
  },
  {
   "cell_type": "code",
   "execution_count": 13,
   "metadata": {},
   "outputs": [],
   "source": [
    "invalid_records = NaN_entries.index"
   ]
  },
  {
   "cell_type": "code",
   "execution_count": 14,
   "metadata": {},
   "outputs": [
    {
     "data": {
      "text/plain": [
       "8945"
      ]
     },
     "execution_count": 14,
     "metadata": {},
     "output_type": "execute_result"
    }
   ],
   "source": [
    "legacy_NaNs = np.intersect1d(legacy_indexed.index, invalid_records)\n",
    "legacy_only = legacy_indexed.loc[list(legacy_NaNs)]\n",
    "len(legacy_only)"
   ]
  },
  {
   "cell_type": "code",
   "execution_count": 15,
   "metadata": {},
   "outputs": [
    {
     "data": {
      "text/plain": [
       "2294"
      ]
     },
     "execution_count": 15,
     "metadata": {},
     "output_type": "execute_result"
    }
   ],
   "source": [
    "labs_NaNs = np.intersect1d(labs_indexed.index, invalid_records)\n",
    "labs_only = labs_indexed.loc[list(labs_NaNs)]\n",
    "len(labs_only)"
   ]
  },
  {
   "cell_type": "code",
   "execution_count": 16,
   "metadata": {},
   "outputs": [],
   "source": [
    "# PLEASE RUN ONLY ONCE TO AVOID MULTIPLE APPENDS\n",
    "\n",
    "# Initialize extended DataFrames for the \"invalid\" differences\n",
    "legacy_only_ext = legacy_only\n",
    "labs_only_ext = labs_only\n",
    "\n",
    "# For legacy_only (Lost citations)\n",
    "legacy_only_ext['Legacy_Count'] = legacy_only.Citation_Difference\n",
    "legacy_only_ext['Labs_Count'] = 0\n",
    "\n",
    "\n",
    "# For labs_only (Gained citations)\n",
    "labs_only_ext['Legacy_Count'] = 0\n",
    "labs_only_ext['Labs_Count'] = labs_only.Citation_Difference\n",
    "\n",
    "# Append to the appropriate categories\n",
    "abs_diff_ext = abs_diff_ext.append(legacy_only_ext)\n",
    "abs_diff_ext = abs_diff_ext.append(labs_only_ext)\n",
    "abs_diff_ext = abs_diff_ext.sort_values('Citation_Difference', ascending=False)\n",
    "\n",
    "gained_citations_ext = gained_citations_ext.append(labs_only_ext)\n",
    "gained_citations_ext = gained_citations_ext.sort_values('Citation_Difference', ascending=False)\n",
    "\n",
    "legacy_only_ext.Citation_Difference = legacy_only_ext.Citation_Difference * -1\n",
    "lost_citations_ext = lost_citations_ext.append(legacy_only_ext)\n",
    "lost_citations_ext = lost_citations_ext.sort_values('Citation_Difference')"
   ]
  },
  {
   "cell_type": "code",
   "execution_count": 17,
   "metadata": {},
   "outputs": [],
   "source": [
    "# Save the citation difference DataFrames to CSV Files\n",
    "lost_citations_ext.to_csv(os.path.join(csv_save_dir, 'lost_citations_prev.csv'))\n",
    "gained_citations_ext.to_csv(os.path.join(csv_save_dir, 'gained_citations_prev.csv'))\n",
    "abs_diff_ext.to_csv(os.path.join(csv_save_dir, 'overall_difference_prev.csv'))"
   ]
  },
  {
   "cell_type": "markdown",
   "metadata": {},
   "source": [
    "### Investigate records which were not imported"
   ]
  },
  {
   "cell_type": "code",
   "execution_count": 54,
   "metadata": {},
   "outputs": [],
   "source": [
    "diff_recids = list(abs_diff_ext.index)\n",
    "def check_if_record_exists(recid):\n",
    "    url = 'http://localhost:5000/api/literature/'+str(recid)\n",
    "    json_data = requests.get(url).json()\n",
    "    if json_data.get('status') == 404:\n",
    "        return False\n",
    "    else:\n",
    "        return True"
   ]
  },
  {
   "cell_type": "code",
   "execution_count": 55,
   "metadata": {},
   "outputs": [],
   "source": [
    "exist_list = []\n",
    "not_exist_list = []\n",
    "for recid in diff_recids:\n",
    "    if check_if_record_exists(recid):\n",
    "        exist_list.append(recid)\n",
    "    else:\n",
    "        not_exist_list.append(recid)"
   ]
  },
  {
   "cell_type": "code",
   "execution_count": 75,
   "metadata": {},
   "outputs": [
    {
     "data": {
      "text/plain": [
       "78253"
      ]
     },
     "execution_count": 75,
     "metadata": {},
     "output_type": "execute_result"
    }
   ],
   "source": [
    "len(exist_list)"
   ]
  },
  {
   "cell_type": "code",
   "execution_count": 57,
   "metadata": {
    "scrolled": true
   },
   "outputs": [
    {
     "data": {
      "text/plain": [
       "118"
      ]
     },
     "execution_count": 57,
     "metadata": {},
     "output_type": "execute_result"
    }
   ],
   "source": [
    "len(not_exist_list)"
   ]
  },
  {
   "cell_type": "markdown",
   "metadata": {},
   "source": [
    "#### Filter out records which were not imported"
   ]
  },
  {
   "cell_type": "code",
   "execution_count": 76,
   "metadata": {},
   "outputs": [],
   "source": [
    "abs_diff_ext = abs_diff_ext.reindex(exist_list)\n",
    "lost_citations_ext = lost_citations_ext.reindex(exist_list)\n",
    "lost_citations_ext = lost_citations_ext[~lost_citations_ext.Citation_Difference.isna()]\n",
    "gained_citations_ext = gained_citations_ext.reindex(exist_list)\n",
    "gained_citations_ext = gained_citations_ext[~gained_citations_ext.Citation_Difference.isna()]"
   ]
  },
  {
   "cell_type": "markdown",
   "metadata": {},
   "source": [
    "### Some useful statistics"
   ]
  },
  {
   "cell_type": "code",
   "execution_count": 78,
   "metadata": {},
   "outputs": [
    {
     "name": "stdout",
     "output_type": "stream",
     "text": [
      "Total number of unique Cited articles as per legacy: 776108\n",
      "Total number of unique Cited articles as per Labs: 769457\n",
      "Union of the above two - Total unique cited articles: 778284\n",
      "\n",
      "Total Number of Unique Articles which cite other papers: 964161\n",
      "\n",
      "Number of Cited articles with zero difference: 700031\n",
      "Percentage of Cited articles with zero difference: 89.95 %\n"
     ]
    }
   ],
   "source": [
    "# Indicate Number of articles with zero differences in citation counts\n",
    "num_cited_legacy = len(legacy.index.unique())\n",
    "num_cited_labs = len(labs.index.unique())\n",
    "num_unique_articles = len(records.recID.unique())\n",
    "total_unique_cited_articles = len(np.union1d(legacy_indexed.index, labs_indexed.index)) - len(not_exist_list)\n",
    "print('Total number of unique Cited articles as per legacy: {}'.format(num_cited_legacy))\n",
    "print('Total number of unique Cited articles as per Labs: {}'.format(num_cited_labs))\n",
    "print('Union of the above two - Total unique cited articles: {}'.format(total_unique_cited_articles))\n",
    "print('\\nTotal Number of Unique Articles which cite other papers: {}\\n'.format(num_unique_articles))\n",
    "\n",
    "num_zero_diff = valid_diff.Citation_Difference.value_counts()[0]\n",
    "percent_zero_diff = num_zero_diff / total_unique_cited_articles * 100\n",
    "print('Number of Cited articles with zero difference: {}'.format(num_zero_diff))\n",
    "print('Percentage of Cited articles with zero difference: {0:0.2f} %'.format(percent_zero_diff))"
   ]
  },
  {
   "cell_type": "code",
   "execution_count": 79,
   "metadata": {},
   "outputs": [
    {
     "name": "stdout",
     "output_type": "stream",
     "text": [
      "Total Number of article with changes in citation counts in Labs: 78253\n",
      "\n",
      "Number of articles with changes in Citation Counts in Labs\n",
      "1.0    60989\n",
      "2.0     8764\n",
      "3.0     2964\n",
      "4.0     1404\n",
      "5.0      810\n",
      "Name: Citation_Difference, dtype: int64\n",
      "\n",
      "Percent (%) of Citation Counts Difference in Labs\n",
      "1.0    7.836343\n",
      "2.0    1.126067\n",
      "3.0    0.380838\n",
      "4.0    0.180397\n",
      "5.0    0.104075\n",
      "Name: Citation_Difference, dtype: float64\n",
      "\n",
      "Total 3322 records with difference greater than 5 - Percentage: 0.4268364761449548 %\n",
      "\n"
     ]
    }
   ],
   "source": [
    "# Percentage Differences for absolute differences\n",
    "abs_diff_counts = abs_diff_ext.Citation_Difference.value_counts()\n",
    "print('Total Number of article with changes in citation counts in Labs: {}'.format(len(abs_diff_ext)))\n",
    "\n",
    "print('\\nNumber of articles with changes in Citation Counts in Labs')\n",
    "print(abs_diff_counts[:5])\n",
    "\n",
    "print('\\nPercent (%) of Citation Counts Difference in Labs')\n",
    "print(abs_diff_counts[:5] / total_unique_cited_articles * 100)\n",
    "\n",
    "num_grt5 = sum(abs_diff_counts[6:])\n",
    "percent_grt5 = num_grt5 / total_unique_cited_articles * 100\n",
    "print('\\nTotal {} records with difference greater than 5 - Percentage: {} %\\n'.format(num_grt5, percent_grt5))"
   ]
  },
  {
   "cell_type": "code",
   "execution_count": 80,
   "metadata": {},
   "outputs": [
    {
     "name": "stdout",
     "output_type": "stream",
     "text": [
      "Total Number of article with loss in citation counts in Labs: 56166\n",
      "\n",
      "Number of articles losing Citation Counts in Labs\n",
      "-1.0    43149\n",
      "-2.0     6564\n",
      "-3.0     2160\n",
      "-4.0     1017\n",
      "-5.0      609\n",
      "Name: Citation_Difference, dtype: int64\n",
      "\n",
      "Percent (%) of Citation Counts Lost in Labs\n",
      "-1.0    5.544120\n",
      "-2.0    0.843394\n",
      "-3.0    0.277534\n",
      "-4.0    0.130672\n",
      "-5.0    0.078249\n",
      "Name: Citation_Difference, dtype: float64\n",
      "\n",
      "Total 2667 records with lost citations greater than 5 - Percentage: 0.3426769662488243 %\n",
      "\n"
     ]
    }
   ],
   "source": [
    "# Percentage Differences for lost citations\n",
    "lost_citations_count = lost_citations_ext.Citation_Difference.value_counts()\n",
    "print('Total Number of article with loss in citation counts in Labs: {}'.format(len(lost_citations_ext)))\n",
    "\n",
    "print('\\nNumber of articles losing Citation Counts in Labs')\n",
    "print(lost_citations_count[:-5])\n",
    "\n",
    "lost_percent_diff = lost_citations_count/ total_unique_cited_articles * 100\n",
    "print('\\nPercent (%) of Citation Counts Lost in Labs')\n",
    "print(lost_percent_diff[:-5])\n",
    "\n",
    "lost_grt5 = sum(lost_citations_count[-6:])\n",
    "lost_percent_grt5 = lost_grt5 / total_unique_cited_articles * 100\n",
    "print('\\nTotal {} records with lost citations greater than 5 - Percentage: {} %\\n'.format(lost_grt5, lost_percent_grt5))"
   ]
  },
  {
   "cell_type": "code",
   "execution_count": 81,
   "metadata": {},
   "outputs": [
    {
     "name": "stdout",
     "output_type": "stream",
     "text": [
      "Total Number of article with gain in citation counts in Labs: 22087\n",
      "\n",
      "Number of articles gaining Citation Counts in Labs\n",
      "1.0    17840\n",
      "2.0     2200\n",
      "3.0      804\n",
      "4.0      387\n",
      "5.0      201\n",
      "Name: Citation_Difference, dtype: int64\n",
      "\n",
      "Percent (%) of Citation Counts Gained in Labs\n",
      "1.0    2.292222\n",
      "2.0    0.282673\n",
      "3.0    0.103304\n",
      "4.0    0.049725\n",
      "5.0    0.025826\n",
      "Name: Citation_Difference, dtype: float64\n",
      "\n",
      "Total 655 records with gained citations greater than 5 - Percentage: 0.08415950989613047 %\n",
      "\n"
     ]
    }
   ],
   "source": [
    "# Percentage Differences for gained citations\n",
    "gained_citations_count = gained_citations_ext.Citation_Difference.value_counts()\n",
    "print('Total Number of article with gain in citation counts in Labs: {}'.format(len(gained_citations_ext)))\n",
    "\n",
    "print('\\nNumber of articles gaining Citation Counts in Labs')\n",
    "print(gained_citations_count[:5])\n",
    "\n",
    "gained_percent_diff = gained_citations_count/ total_unique_cited_articles * 100\n",
    "print('\\nPercent (%) of Citation Counts Gained in Labs')\n",
    "print(gained_percent_diff[:5])\n",
    "\n",
    "\n",
    "gained_grt5 = sum(gained_citations_count[6:])\n",
    "gained_percent_grt5 = gained_grt5 / total_unique_cited_articles * 100\n",
    "print('\\nTotal {} records with gained citations greater than 5 - Percentage: {} %\\n'.format(gained_grt5, gained_percent_grt5))"
   ]
  },
  {
   "cell_type": "markdown",
   "metadata": {},
   "source": [
    "### Analyze \"Core-ness\" of the records with citation differences"
   ]
  },
  {
   "cell_type": "code",
   "execution_count": 82,
   "metadata": {},
   "outputs": [],
   "source": [
    "core_list = pd.read_csv('inspire_core_list_NEWAUG2018.txt', sep='\\n', header=None)"
   ]
  },
  {
   "cell_type": "markdown",
   "metadata": {},
   "source": [
    "##### For Absolute differences"
   ]
  },
  {
   "cell_type": "code",
   "execution_count": 83,
   "metadata": {},
   "outputs": [
    {
     "name": "stdout",
     "output_type": "stream",
     "text": [
      "Of 78253 records with citation differences, 52599 are CORE and 25654 are Non-Core\n",
      "Of the above, CORE records have 129175.0 different number of citations while Non-Core articles have 47337.0 different number of citations\n"
     ]
    }
   ],
   "source": [
    "core_articles_with_diff = np.intersect1d(abs_diff_ext.index, core_list[0].unique())\n",
    "non_core_articles_with_diff = np.setxor1d(core_articles_with_diff, abs_diff_ext.index)\n",
    "\n",
    "print('Of {} records with citation differences, {} are CORE and {} are Non-Core'.format(len(abs_diff_ext), len(core_articles_with_diff), len(non_core_articles_with_diff)))\n",
    "\n",
    "core_changed_citations = abs_diff_ext.loc[list(core_articles_with_diff)].Citation_Difference.sum()\n",
    "non_core_changed_citations = abs_diff_ext.loc[list(non_core_articles_with_diff)].Citation_Difference.sum()\n",
    "\n",
    "print('Of the above, CORE records have {} different number of citations while Non-Core articles have {} different number of citations'.format(core_changed_citations, non_core_changed_citations))\n",
    "\n",
    "core_articles_with_diff_ext = abs_diff_ext.loc[core_articles_with_diff].sort_values('Citation_Difference', ascending=False)\n",
    "non_core_articles_with_diff_ext = abs_diff_ext.loc[non_core_articles_with_diff].sort_values('Citation_Difference', ascending=False)"
   ]
  },
  {
   "cell_type": "code",
   "execution_count": 84,
   "metadata": {},
   "outputs": [
    {
     "name": "stdout",
     "output_type": "stream",
     "text": [
      "\n",
      "Number of CORE articles with changes in Citation Counts in Labs\n",
      "1.0    40306\n",
      "2.0     5963\n",
      "3.0     2094\n",
      "4.0     1032\n",
      "5.0      581\n",
      "Name: Citation_Difference, dtype: int64\n",
      "\n",
      "Percent (%) of CORE Citation Counts Difference in Labs\n",
      "1.0    5.178829\n",
      "2.0    0.766173\n",
      "3.0    0.269053\n",
      "4.0    0.132599\n",
      "5.0    0.074651\n",
      "Name: Citation_Difference, dtype: float64\n",
      "\n",
      "Total 2623 CORE records with difference greater than 5 - Percentage: 0.33702350298862627 %\n",
      "\n"
     ]
    }
   ],
   "source": [
    "# For Core\n",
    "core_diff_counts = core_articles_with_diff_ext.Citation_Difference.value_counts()\n",
    "\n",
    "print('\\nNumber of CORE articles with changes in Citation Counts in Labs')\n",
    "print(core_diff_counts[:5])\n",
    "\n",
    "print('\\nPercent (%) of CORE Citation Counts Difference in Labs')\n",
    "print(core_diff_counts[:5] / total_unique_cited_articles * 100)\n",
    "\n",
    "core_num_grt5 = sum(core_diff_counts[6:])\n",
    "core_percent_grt5 = core_num_grt5 / total_unique_cited_articles * 100\n",
    "print('\\nTotal {} CORE records with difference greater than 5 - Percentage: {} %\\n'.format(core_num_grt5, core_percent_grt5))"
   ]
  },
  {
   "cell_type": "code",
   "execution_count": 85,
   "metadata": {},
   "outputs": [
    {
     "name": "stdout",
     "output_type": "stream",
     "text": [
      "\n",
      "Number of non-CORE articles with changes in Citation Counts in Labs\n",
      "1.0    20683\n",
      "2.0     2801\n",
      "3.0      870\n",
      "4.0      372\n",
      "5.0      229\n",
      "Name: Citation_Difference, dtype: int64\n",
      "\n",
      "Percent (%) of non-CORE Citation Counts Difference in Labs\n",
      "1.0    2.657513\n",
      "2.0    0.359894\n",
      "3.0    0.111784\n",
      "4.0    0.047797\n",
      "5.0    0.029424\n",
      "Name: Citation_Difference, dtype: float64\n",
      "\n",
      "Total 699 non-CORE records with difference greater than 5 - Percentage: 0.08981297315632854 %\n",
      "\n"
     ]
    }
   ],
   "source": [
    "# For Non-Core\n",
    "non_core_diff_counts = non_core_articles_with_diff_ext.Citation_Difference.value_counts()\n",
    "\n",
    "print('\\nNumber of non-CORE articles with changes in Citation Counts in Labs')\n",
    "print(non_core_diff_counts[:5])\n",
    "\n",
    "print('\\nPercent (%) of non-CORE Citation Counts Difference in Labs')\n",
    "print(non_core_diff_counts[:5] / total_unique_cited_articles * 100)\n",
    "\n",
    "non_core_num_grt5 = sum(non_core_diff_counts[6:])\n",
    "non_core_percent_grt5 = non_core_num_grt5 / total_unique_cited_articles * 100\n",
    "print('\\nTotal {} non-CORE records with difference greater than 5 - Percentage: {} %\\n'.format(non_core_num_grt5, non_core_percent_grt5))"
   ]
  },
  {
   "cell_type": "markdown",
   "metadata": {},
   "source": [
    "##### For Lost Citations"
   ]
  },
  {
   "cell_type": "code",
   "execution_count": 86,
   "metadata": {},
   "outputs": [
    {
     "name": "stdout",
     "output_type": "stream",
     "text": [
      "Of 56166 records with citation losses, 35904 are CORE and 20262 are Non-Core\n",
      "Of the above, CORE records have lost 99033.0 citations while Non-Core articles have lost 39362.0 citations\n"
     ]
    }
   ],
   "source": [
    "core_articles_with_loss = np.intersect1d(lost_citations_ext.index, core_list[0].unique())\n",
    "non_core_articles_with_loss = np.setxor1d(core_articles_with_loss, lost_citations_ext.index)\n",
    "\n",
    "print('Of {} records with citation losses, {} are CORE and {} are Non-Core'.format(len(lost_citations_ext), len(core_articles_with_loss), len(non_core_articles_with_loss)))\n",
    "\n",
    "core_lost_citations = lost_citations_ext.loc[list(core_articles_with_loss)].Citation_Difference.sum()\n",
    "non_core_lost_citations = lost_citations_ext.loc[list(non_core_articles_with_loss)].Citation_Difference.sum()\n",
    "\n",
    "print('Of the above, CORE records have lost {} citations while Non-Core articles have lost {} citations'.format(abs(core_lost_citations), abs(non_core_lost_citations)))\n",
    "\n",
    "core_articles_with_loss_ext = lost_citations_ext.loc[core_articles_with_loss].sort_values('Citation_Difference')\n",
    "non_core_articles_with_loss_ext = lost_citations_ext.loc[non_core_articles_with_loss].sort_values('Citation_Difference')"
   ]
  },
  {
   "cell_type": "code",
   "execution_count": 87,
   "metadata": {},
   "outputs": [
    {
     "name": "stdout",
     "output_type": "stream",
     "text": [
      "\n",
      "Number of CORE articles with loss in Citation Counts in Labs\n",
      "-1.0    27140\n",
      "-2.0     4180\n",
      "-3.0     1400\n",
      "-4.0      699\n",
      "-5.0      412\n",
      "Name: Citation_Difference, dtype: int64\n",
      "\n",
      "Percent (%) of CORE Citation Lost in Labs\n",
      "-1.0    3.487159\n",
      "-2.0    0.537079\n",
      "-3.0    0.179883\n",
      "-4.0    0.089813\n",
      "-5.0    0.052937\n",
      "Name: Citation_Difference, dtype: float64\n",
      "\n",
      "Total 2073 CORE records with loss greater than 5 - Percentage: 0.2663552122361503 %\n",
      "\n"
     ]
    }
   ],
   "source": [
    "# For Core\n",
    "core_lost_counts = core_articles_with_loss_ext.Citation_Difference.value_counts()\n",
    "\n",
    "print('\\nNumber of CORE articles with loss in Citation Counts in Labs')\n",
    "print(core_lost_counts[:-5])\n",
    "\n",
    "print('\\nPercent (%) of CORE Citation Lost in Labs')\n",
    "print(core_lost_counts[:-5] / total_unique_cited_articles * 100)\n",
    "\n",
    "core_lost_grt5 = sum(core_lost_counts[-6:])\n",
    "core_lost_percent_grt5 = core_lost_grt5 / total_unique_cited_articles * 100\n",
    "print('\\nTotal {} CORE records with loss greater than 5 - Percentage: {} %\\n'.format(core_lost_grt5, core_lost_percent_grt5))"
   ]
  },
  {
   "cell_type": "code",
   "execution_count": 88,
   "metadata": {},
   "outputs": [
    {
     "name": "stdout",
     "output_type": "stream",
     "text": [
      "\n",
      "Number of non-CORE articles with loss in Citation Counts in Labs\n",
      "-1.0    16009\n",
      "-2.0     2384\n",
      "-3.0      760\n",
      "-4.0      318\n",
      "-5.0      197\n",
      "Name: Citation_Difference, dtype: int64\n",
      "\n",
      "Percent (%) of non-CORE Citation Counts Lost in Labs\n",
      "-1.0    2.056961\n",
      "-2.0    0.306315\n",
      "-3.0    0.097651\n",
      "-4.0    0.040859\n",
      "-5.0    0.025312\n",
      "Name: Citation_Difference, dtype: float64\n",
      "\n",
      "Total 594 Non-CORE records with loss greater than 5 - Percentage: 0.07632175401267403 %\n",
      "\n"
     ]
    }
   ],
   "source": [
    "# For Non-Core\n",
    "non_core_lost_counts = non_core_articles_with_loss_ext.Citation_Difference.value_counts()\n",
    "\n",
    "print('\\nNumber of non-CORE articles with loss in Citation Counts in Labs')\n",
    "print(non_core_lost_counts[:-5])\n",
    "\n",
    "print('\\nPercent (%) of non-CORE Citation Counts Lost in Labs')\n",
    "print(non_core_lost_counts[:-5] / total_unique_cited_articles * 100)\n",
    "\n",
    "non_core_lost_grt5 = sum(non_core_lost_counts[-6:])\n",
    "non_core_lost_percent_grt5 = non_core_lost_grt5 / total_unique_cited_articles * 100\n",
    "print('\\nTotal {} Non-CORE records with loss greater than 5 - Percentage: {} %\\n'.format(non_core_lost_grt5, non_core_lost_percent_grt5))"
   ]
  },
  {
   "cell_type": "markdown",
   "metadata": {},
   "source": [
    "##### For Gained Citations"
   ]
  },
  {
   "cell_type": "code",
   "execution_count": 89,
   "metadata": {},
   "outputs": [
    {
     "name": "stdout",
     "output_type": "stream",
     "text": [
      "Of 22087 records with citation gains, 16695 are CORE and 5392 are Non-Core\n",
      "Of the above, CORE records have gained 30142.0 citations while Non-Core articles have gained 7975.0 citations\n"
     ]
    }
   ],
   "source": [
    "core_articles_with_gain = np.intersect1d(gained_citations_ext.index, core_list[0].unique())\n",
    "non_core_articles_with_gain = np.setxor1d(core_articles_with_gain, gained_citations_ext.index)\n",
    "\n",
    "print('Of {} records with citation gains, {} are CORE and {} are Non-Core'.format(len(gained_citations_ext), len(core_articles_with_gain), len(non_core_articles_with_gain)))\n",
    "\n",
    "core_gained_citations = gained_citations_ext.loc[list(core_articles_with_gain)].Citation_Difference.sum()\n",
    "non_core_gained_citations = gained_citations_ext.loc[list(non_core_articles_with_gain)].Citation_Difference.sum()\n",
    "\n",
    "print('Of the above, CORE records have gained {} citations while Non-Core articles have gained {} citations'.format(abs(core_gained_citations), abs(non_core_gained_citations)))\n",
    "\n",
    "core_articles_with_gain_ext = gained_citations_ext.loc[core_articles_with_gain].sort_values('Citation_Difference', ascending=False)\n",
    "non_core_articles_with_gain_ext = gained_citations_ext.loc[non_core_articles_with_gain].sort_values('Citation_Difference', ascending=False)"
   ]
  },
  {
   "cell_type": "code",
   "execution_count": 90,
   "metadata": {},
   "outputs": [
    {
     "name": "stdout",
     "output_type": "stream",
     "text": [
      "\n",
      "Number of CORE articles with gain in Citation Counts in Labs\n",
      "1.0    13166\n",
      "2.0     1783\n",
      "3.0      694\n",
      "4.0      333\n",
      "5.0      169\n",
      "Name: Citation_Difference, dtype: int64\n",
      "\n",
      "Percent (%) of CORE Citation Gained in Labs\n",
      "1.0    1.691670\n",
      "2.0    0.229094\n",
      "3.0    0.089171\n",
      "4.0    0.042786\n",
      "5.0    0.021714\n",
      "Name: Citation_Difference, dtype: float64\n",
      "\n",
      "Total 550 CORE records with gain greater than 5 - Percentage: 0.07066829075247597 %\n",
      "\n"
     ]
    }
   ],
   "source": [
    "# For Core\n",
    "core_gained_counts = core_articles_with_gain_ext.Citation_Difference.value_counts()\n",
    "\n",
    "print('\\nNumber of CORE articles with gain in Citation Counts in Labs')\n",
    "print(core_gained_counts[:5])\n",
    "\n",
    "print('\\nPercent (%) of CORE Citation Gained in Labs')\n",
    "print(core_gained_counts[:5] / total_unique_cited_articles * 100)\n",
    "\n",
    "core_gained_grt5 = sum(core_gained_counts[6:])\n",
    "core_gained_percent_grt5 = core_gained_grt5 / total_unique_cited_articles * 100\n",
    "print('\\nTotal {} CORE records with gain greater than 5 - Percentage: {} %\\n'.format(core_gained_grt5, core_gained_percent_grt5))"
   ]
  },
  {
   "cell_type": "code",
   "execution_count": 91,
   "metadata": {},
   "outputs": [
    {
     "name": "stdout",
     "output_type": "stream",
     "text": [
      "\n",
      "Number of non-CORE articles with gain in Citation Counts in Labs\n",
      "1.0    4674\n",
      "2.0     417\n",
      "3.0     110\n",
      "4.0      54\n",
      "5.0      32\n",
      "Name: Citation_Difference, dtype: int64\n",
      "\n",
      "Percent (%) of non-CORE Citation Counts Gained in Labs\n",
      "1.0    0.600552\n",
      "2.0    0.053579\n",
      "3.0    0.014134\n",
      "4.0    0.006938\n",
      "5.0    0.004112\n",
      "Name: Citation_Difference, dtype: float64\n",
      "\n",
      "Total 105 non-CORE records with gain greater than 5 - Percentage: 0.013491219143654502 %\n",
      "\n"
     ]
    }
   ],
   "source": [
    "# For Non-Core\n",
    "non_core_gained_counts = non_core_articles_with_gain_ext.Citation_Difference.value_counts()\n",
    "\n",
    "print('\\nNumber of non-CORE articles with gain in Citation Counts in Labs')\n",
    "print(non_core_gained_counts[:5])\n",
    "\n",
    "print('\\nPercent (%) of non-CORE Citation Counts Gained in Labs')\n",
    "print(non_core_gained_counts[:5] / total_unique_cited_articles * 100)\n",
    "\n",
    "non_core_gained_grt5 = sum(non_core_gained_counts[6:])\n",
    "non_core_gained_percent_grt5 = non_core_gained_grt5 / total_unique_cited_articles * 100\n",
    "print('\\nTotal {} non-CORE records with gain greater than 5 - Percentage: {} %\\n'.format(non_core_gained_grt5, non_core_gained_percent_grt5))"
   ]
  },
  {
   "cell_type": "markdown",
   "metadata": {},
   "source": [
    "##### For citations with zero difference"
   ]
  },
  {
   "cell_type": "code",
   "execution_count": 92,
   "metadata": {},
   "outputs": [
    {
     "name": "stdout",
     "output_type": "stream",
     "text": [
      "Of 700031 records with 0 citation differences, 440089 are CORE and 259942 are Non-Core\n"
     ]
    }
   ],
   "source": [
    "core_articles_with_zero_diff = np.intersect1d(zero_diff.index, core_list[0].unique())\n",
    "non_core_articles_with_zero_diff = np.setxor1d(core_articles_with_zero_diff, zero_diff.index)\n",
    "\n",
    "print('Of {} records with 0 citation differences, {} are CORE and {} are Non-Core'.format(len(zero_diff), len(core_articles_with_zero_diff), len(non_core_articles_with_zero_diff)))"
   ]
  },
  {
   "cell_type": "markdown",
   "metadata": {},
   "source": [
    "### Analyze by \"citeable\""
   ]
  },
  {
   "cell_type": "code",
   "execution_count": 93,
   "metadata": {},
   "outputs": [],
   "source": [
    "citeable_list = pd.read_csv('inspire_citeable_list_NEWAUG2018.txt', sep='\\n', header=None)"
   ]
  },
  {
   "cell_type": "markdown",
   "metadata": {},
   "source": [
    "##### For Absolute differences"
   ]
  },
  {
   "cell_type": "code",
   "execution_count": 94,
   "metadata": {},
   "outputs": [
    {
     "name": "stdout",
     "output_type": "stream",
     "text": [
      "Of 78253 records with citation differences, 74730 are Citeable and 3523 are Non-Citeable\n",
      "Of the above, Citeable records have 164519.0 number of citations while Non-Citeable articles have 11993.0 different number of citations\n"
     ]
    }
   ],
   "source": [
    "citeable_articles_with_diff = np.intersect1d(abs_diff_ext.index, citeable_list[0].unique())\n",
    "non_citeable_articles_with_diff = np.setxor1d(citeable_articles_with_diff, abs_diff_ext.index)\n",
    "\n",
    "print('Of {} records with citation differences, {} are Citeable and {} are Non-Citeable'.format(len(abs_diff_ext), len(citeable_articles_with_diff), len(non_citeable_articles_with_diff)))\n",
    "\n",
    "citeable_changed_citations = abs_diff_ext.loc[list(citeable_articles_with_diff)].Citation_Difference.sum()\n",
    "non_citeable_changed_citations = abs_diff_ext.loc[list(non_citeable_articles_with_diff)].Citation_Difference.sum()\n",
    "\n",
    "print('Of the above, Citeable records have {} number of citations while Non-Citeable articles have {} different number of citations'.format(citeable_changed_citations, non_citeable_changed_citations))\n",
    "\n",
    "citeable_articles_with_diff_ext = abs_diff_ext.loc[citeable_articles_with_diff].sort_values('Citation_Difference', ascending=False)\n",
    "non_citeable_articles_with_diff_ext = abs_diff_ext.loc[non_citeable_articles_with_diff].sort_values('Citation_Difference', ascending=False)"
   ]
  },
  {
   "cell_type": "code",
   "execution_count": 95,
   "metadata": {},
   "outputs": [
    {
     "name": "stdout",
     "output_type": "stream",
     "text": [
      "\n",
      "Number of Citeable articles with changes in Citation Counts in Labs\n",
      "1.0    58552\n",
      "2.0     8289\n",
      "3.0     2778\n",
      "4.0     1305\n",
      "5.0      739\n",
      "Name: Citation_Difference, dtype: int64\n",
      "\n",
      "Percent (%) of Citeable Citation Counts Difference in Labs\n",
      "1.0    7.523218\n",
      "2.0    1.065035\n",
      "3.0    0.356939\n",
      "4.0    0.167677\n",
      "5.0    0.094952\n",
      "Name: Citation_Difference, dtype: float64\n",
      "\n",
      "Total 3067 Citeable records with difference greater than 5 - Percentage: 0.39407208679607963 %\n",
      "\n"
     ]
    }
   ],
   "source": [
    "# For Citeable\n",
    "citeable_diff_counts = citeable_articles_with_diff_ext.Citation_Difference.value_counts()\n",
    "\n",
    "print('\\nNumber of Citeable articles with changes in Citation Counts in Labs')\n",
    "print(citeable_diff_counts[:5])\n",
    "\n",
    "print('\\nPercent (%) of Citeable Citation Counts Difference in Labs')\n",
    "print(citeable_diff_counts[:5] / total_unique_cited_articles * 100)\n",
    "\n",
    "citeable_num_grt5 = sum(citeable_diff_counts[6:])\n",
    "citeable_percent_grt5 = citeable_num_grt5 / total_unique_cited_articles * 100\n",
    "print('\\nTotal {} Citeable records with difference greater than 5 - Percentage: {} %\\n'.format(citeable_num_grt5, citeable_percent_grt5))"
   ]
  },
  {
   "cell_type": "code",
   "execution_count": 96,
   "metadata": {},
   "outputs": [
    {
     "name": "stdout",
     "output_type": "stream",
     "text": [
      "\n",
      "Number of non-Citeable articles with changes in Citation Counts in Labs\n",
      "1.0    2437\n",
      "2.0     475\n",
      "3.0     186\n",
      "4.0      99\n",
      "5.0      71\n",
      "Name: Citation_Difference, dtype: int64\n",
      "\n",
      "Percent (%) of non-Citeable Citation Counts Difference in Labs\n",
      "1.0    0.313125\n",
      "2.0    0.061032\n",
      "3.0    0.023899\n",
      "4.0    0.012720\n",
      "5.0    0.009123\n",
      "Name: Citation_Difference, dtype: float64\n",
      "\n",
      "Total 216 non-Citeable records with difference greater than 5 - Percentage: 0.027753365095517832 %\n",
      "\n"
     ]
    }
   ],
   "source": [
    "# For Non-Citeable\n",
    "non_citeable_diff_counts = non_citeable_articles_with_diff_ext.Citation_Difference.value_counts()\n",
    "\n",
    "print('\\nNumber of non-Citeable articles with changes in Citation Counts in Labs')\n",
    "print(non_citeable_diff_counts[:5])\n",
    "\n",
    "print('\\nPercent (%) of non-Citeable Citation Counts Difference in Labs')\n",
    "print(non_citeable_diff_counts[:5] / total_unique_cited_articles * 100)\n",
    "\n",
    "non_citeable_num_grt5 = sum(non_citeable_diff_counts[6:])\n",
    "non_citeable_percent_grt5 = non_citeable_num_grt5 / total_unique_cited_articles * 100\n",
    "print('\\nTotal {} non-Citeable records with difference greater than 5 - Percentage: {} %\\n'.format(non_citeable_num_grt5, non_citeable_percent_grt5))"
   ]
  },
  {
   "cell_type": "markdown",
   "metadata": {},
   "source": [
    "##### For Lost Citations"
   ]
  },
  {
   "cell_type": "code",
   "execution_count": 97,
   "metadata": {},
   "outputs": [
    {
     "name": "stdout",
     "output_type": "stream",
     "text": [
      "Of 56166 records with citation losses, 53591 are Citeable and 2575 are Non-Citeable\n",
      "Of the above, Citeable records have lost 128040.0 citations while Non-Citeable articles have lost 10355.0 citations\n"
     ]
    }
   ],
   "source": [
    "citeable_articles_with_loss = np.intersect1d(lost_citations_ext.index, citeable_list[0].unique())\n",
    "non_citeable_articles_with_loss = np.setxor1d(citeable_articles_with_loss, lost_citations_ext.index)\n",
    "\n",
    "print('Of {} records with citation losses, {} are Citeable and {} are Non-Citeable'.format(len(lost_citations_ext), len(citeable_articles_with_loss), len(non_citeable_articles_with_loss)))\n",
    "\n",
    "citeable_lost_citations = lost_citations_ext.loc[list(citeable_articles_with_loss)].Citation_Difference.sum()\n",
    "non_citeable_lost_citations = lost_citations_ext.loc[list(non_citeable_articles_with_loss)].Citation_Difference.sum()\n",
    "\n",
    "print('Of the above, Citeable records have lost {} citations while Non-Citeable articles have lost {} citations'.format(abs(citeable_lost_citations), abs(non_citeable_lost_citations)))\n",
    "\n",
    "citeable_articles_with_loss_ext = lost_citations_ext.loc[citeable_articles_with_loss].sort_values('Citation_Difference')\n",
    "non_citeable_articles_with_loss_ext = lost_citations_ext.loc[non_citeable_articles_with_loss].sort_values('Citation_Difference')"
   ]
  },
  {
   "cell_type": "code",
   "execution_count": 98,
   "metadata": {},
   "outputs": [
    {
     "name": "stdout",
     "output_type": "stream",
     "text": [
      "\n",
      "Number of Citeable articles with loss in Citation Counts in Labs\n",
      "-1.0    41435\n",
      "-2.0     6214\n",
      "-3.0     2025\n",
      "-4.0      939\n",
      "-5.0      548\n",
      "Name: Citation_Difference, dtype: int64\n",
      "\n",
      "Percent (%) of Citeable Citation Lost in Labs\n",
      "-1.0    5.323892\n",
      "-2.0    0.798423\n",
      "-3.0    0.260188\n",
      "-4.0    0.120650\n",
      "-5.0    0.070411\n",
      "Name: Citation_Difference, dtype: float64\n",
      "\n",
      "Total 2430 Citeable records with loss greater than 5 - Percentage: 0.3122253573245756 %\n",
      "\n"
     ]
    }
   ],
   "source": [
    "# For Citeable\n",
    "citeable_lost_counts = citeable_articles_with_loss_ext.Citation_Difference.value_counts()\n",
    "\n",
    "print('\\nNumber of Citeable articles with loss in Citation Counts in Labs')\n",
    "print(citeable_lost_counts[:-5])\n",
    "\n",
    "print('\\nPercent (%) of Citeable Citation Lost in Labs')\n",
    "print(citeable_lost_counts[:-5] / total_unique_cited_articles * 100)\n",
    "\n",
    "citeable_lost_grt5 = sum(citeable_lost_counts[-6:])\n",
    "citeable_lost_percent_grt5 = citeable_lost_grt5 / total_unique_cited_articles * 100\n",
    "print('\\nTotal {} Citeable records with loss greater than 5 - Percentage: {} %\\n'.format(citeable_lost_grt5, citeable_lost_percent_grt5))"
   ]
  },
  {
   "cell_type": "code",
   "execution_count": 99,
   "metadata": {},
   "outputs": [
    {
     "name": "stdout",
     "output_type": "stream",
     "text": [
      "\n",
      "Number of non-Citeable articles with loss in Citation Counts in Labs\n",
      "-1.0    1714\n",
      "-2.0     350\n",
      "-3.0     135\n",
      "-4.0      78\n",
      "-5.0      61\n",
      "Name: Citation_Difference, dtype: int64\n",
      "\n",
      "Percent (%) of non-Citeable Citation Counts Lost in Labs\n",
      "-1.0    0.220228\n",
      "-2.0    0.044971\n",
      "-3.0    0.017346\n",
      "-4.0    0.010022\n",
      "-5.0    0.007838\n",
      "Name: Citation_Difference, dtype: float64\n",
      "\n",
      "Total 202 Non-Citeable records with loss greater than 5 - Percentage: 0.0259545358763639 %\n",
      "\n"
     ]
    }
   ],
   "source": [
    "# For Non-Citeable\n",
    "non_citeable_lost_counts = non_citeable_articles_with_loss_ext.Citation_Difference.value_counts()\n",
    "\n",
    "print('\\nNumber of non-Citeable articles with loss in Citation Counts in Labs')\n",
    "print(non_citeable_lost_counts[:-5])\n",
    "\n",
    "print('\\nPercent (%) of non-Citeable Citation Counts Lost in Labs')\n",
    "print(non_citeable_lost_counts[:-5] / total_unique_cited_articles * 100)\n",
    "\n",
    "non_citeable_lost_grt5 = sum(non_citeable_lost_counts[-6:])\n",
    "non_citeable_lost_percent_grt5 = non_citeable_lost_grt5 / total_unique_cited_articles * 100\n",
    "print('\\nTotal {} Non-Citeable records with loss greater than 5 - Percentage: {} %\\n'.format(non_citeable_lost_grt5, non_citeable_lost_percent_grt5))"
   ]
  },
  {
   "cell_type": "markdown",
   "metadata": {},
   "source": [
    "##### For Gained Citations"
   ]
  },
  {
   "cell_type": "code",
   "execution_count": 100,
   "metadata": {},
   "outputs": [
    {
     "name": "stdout",
     "output_type": "stream",
     "text": [
      "Of 22087 records with citation gains, 21139 are Citeable and 948 are Non-Citeable\n",
      "Of the above, Citeable records have gained 36479.0 citations while Non-Citeable articles have gained 1638.0 citations\n"
     ]
    }
   ],
   "source": [
    "citeable_articles_with_gain = np.intersect1d(gained_citations_ext.index, citeable_list[0].unique())\n",
    "non_citeable_articles_with_gain = np.setxor1d(citeable_articles_with_gain, gained_citations_ext.index)\n",
    "\n",
    "print('Of {} records with citation gains, {} are Citeable and {} are Non-Citeable'.format(len(gained_citations_ext), len(citeable_articles_with_gain), len(non_citeable_articles_with_gain)))\n",
    "\n",
    "citeable_gained_citations = gained_citations_ext.loc[list(citeable_articles_with_gain)].Citation_Difference.sum()\n",
    "non_citeable_gained_citations = gained_citations_ext.loc[list(non_citeable_articles_with_gain)].Citation_Difference.sum()\n",
    "\n",
    "print('Of the above, Citeable records have gained {} citations while Non-Citeable articles have gained {} citations'.format(abs(citeable_gained_citations), abs(non_citeable_gained_citations)))\n",
    "\n",
    "citeable_articles_with_gain_ext = gained_citations_ext.loc[citeable_articles_with_gain].sort_values('Citation_Difference', ascending=False)\n",
    "non_citeable_articles_with_gain_ext = gained_citations_ext.loc[non_citeable_articles_with_gain].sort_values('Citation_Difference', ascending=False)"
   ]
  },
  {
   "cell_type": "code",
   "execution_count": 101,
   "metadata": {},
   "outputs": [
    {
     "name": "stdout",
     "output_type": "stream",
     "text": [
      "\n",
      "Number of Citeable articles with gain in Citation Counts in Labs\n",
      "1.0    17117\n",
      "2.0     2075\n",
      "3.0      753\n",
      "4.0      366\n",
      "5.0      191\n",
      "Name: Citation_Difference, dtype: int64\n",
      "\n",
      "Percent (%) of Citeable Citation Gained in Labs\n",
      "1.0    2.199326\n",
      "2.0    0.266612\n",
      "3.0    0.096751\n",
      "4.0    0.047027\n",
      "5.0    0.024541\n",
      "Name: Citation_Difference, dtype: float64\n",
      "\n",
      "Total 637 Citeable records with gain greater than 5 - Percentage: 0.08184672947150397 %\n",
      "\n"
     ]
    }
   ],
   "source": [
    "# For Citeable\n",
    "citeable_gained_counts = citeable_articles_with_gain_ext.Citation_Difference.value_counts()\n",
    "\n",
    "print('\\nNumber of Citeable articles with gain in Citation Counts in Labs')\n",
    "print(citeable_gained_counts[:5])\n",
    "\n",
    "print('\\nPercent (%) of Citeable Citation Gained in Labs')\n",
    "print(citeable_gained_counts[:5] / total_unique_cited_articles * 100)\n",
    "\n",
    "citeable_gained_grt5 = sum(citeable_gained_counts[6:])\n",
    "citeable_gained_percent_grt5 = citeable_gained_grt5 / total_unique_cited_articles * 100\n",
    "print('\\nTotal {} Citeable records with gain greater than 5 - Percentage: {} %\\n'.format(citeable_gained_grt5, citeable_gained_percent_grt5))"
   ]
  },
  {
   "cell_type": "code",
   "execution_count": 102,
   "metadata": {},
   "outputs": [
    {
     "name": "stdout",
     "output_type": "stream",
     "text": [
      "\n",
      "Number of non-Citeable articles with gain in Citation Counts in Labs\n",
      "1.0    723\n",
      "2.0    125\n",
      "3.0     51\n",
      "4.0     21\n",
      "5.0     10\n",
      "Name: Citation_Difference, dtype: int64\n",
      "\n",
      "Percent (%) of non-Citeable Citation Counts Gained in Labs\n",
      "1.0    0.092897\n",
      "2.0    0.016061\n",
      "3.0    0.006553\n",
      "4.0    0.002698\n",
      "5.0    0.001285\n",
      "Name: Citation_Difference, dtype: float64\n",
      "\n",
      "Total 14 non-Citeable records with gain greater than 5 - Percentage: 0.0017988292191539338 %\n",
      "\n"
     ]
    }
   ],
   "source": [
    "# For Non-Citeable\n",
    "non_citeable_gained_counts = non_citeable_articles_with_gain_ext.Citation_Difference.value_counts()\n",
    "\n",
    "print('\\nNumber of non-Citeable articles with gain in Citation Counts in Labs')\n",
    "print(non_citeable_gained_counts[:5])\n",
    "\n",
    "print('\\nPercent (%) of non-Citeable Citation Counts Gained in Labs')\n",
    "print(non_citeable_gained_counts[:5] / total_unique_cited_articles * 100)\n",
    "\n",
    "non_citeable_gained_grt5 = sum(non_citeable_gained_counts[6:])\n",
    "non_citeable_gained_percent_grt5 = non_citeable_gained_grt5 / total_unique_cited_articles * 100\n",
    "print('\\nTotal {} non-Citeable records with gain greater than 5 - Percentage: {} %\\n'.format(non_citeable_gained_grt5, non_citeable_gained_percent_grt5))"
   ]
  },
  {
   "cell_type": "markdown",
   "metadata": {},
   "source": [
    "##### For citations with zero difference"
   ]
  },
  {
   "cell_type": "code",
   "execution_count": 103,
   "metadata": {},
   "outputs": [
    {
     "name": "stdout",
     "output_type": "stream",
     "text": [
      "Of 700031 records with 0 citation differences, 689453 are Citeable and 10578 are Non-Citeable\n"
     ]
    }
   ],
   "source": [
    "citeable_articles_with_zero_diff = np.intersect1d(zero_diff.index, citeable_list[0].unique())\n",
    "non_citeable_articles_with_zero_diff = np.setxor1d(citeable_articles_with_zero_diff, zero_diff.index)\n",
    "\n",
    "print('Of {} records with 0 citation differences, {} are Citeable and {} are Non-Citeable'.format(len(zero_diff), len(citeable_articles_with_zero_diff), len(non_citeable_articles_with_zero_diff)))"
   ]
  },
  {
   "cell_type": "markdown",
   "metadata": {},
   "source": [
    "### Investigating the CORE most Lost citations"
   ]
  },
  {
   "cell_type": "code",
   "execution_count": 104,
   "metadata": {},
   "outputs": [],
   "source": [
    "loss_greater_than_five = core_articles_with_loss_ext.Citation_Difference < -5\n",
    "loss_greater_than_five = core_articles_with_loss_ext[loss_greater_than_five]"
   ]
  },
  {
   "cell_type": "code",
   "execution_count": 105,
   "metadata": {},
   "outputs": [],
   "source": [
    "# Function to query the API for a record's metadata\n",
    "import requests\n",
    "def get_metadata(recid):\n",
    "    url = 'http://localhost:5000/api/literature/'+str(recid)\n",
    "    json_data = requests.get(url).json()\n",
    "    try:\n",
    "        if json_data['metadata']:\n",
    "            return json_data['metadata']\n",
    "    except:\n",
    "        return None"
   ]
  },
  {
   "cell_type": "code",
   "execution_count": 106,
   "metadata": {},
   "outputs": [
    {
     "name": "stdout",
     "output_type": "stream",
     "text": [
      "0/2073 Completed\n",
      "10/2073 Completed\n",
      "20/2073 Completed\n",
      "30/2073 Completed\n",
      "40/2073 Completed\n",
      "50/2073 Completed\n",
      "60/2073 Completed\n",
      "70/2073 Completed\n",
      "80/2073 Completed\n",
      "90/2073 Completed\n",
      "100/2073 Completed\n",
      "110/2073 Completed\n",
      "120/2073 Completed\n",
      "130/2073 Completed\n",
      "140/2073 Completed\n",
      "150/2073 Completed\n",
      "160/2073 Completed\n",
      "170/2073 Completed\n",
      "180/2073 Completed\n",
      "190/2073 Completed\n",
      "200/2073 Completed\n",
      "210/2073 Completed\n",
      "220/2073 Completed\n",
      "230/2073 Completed\n",
      "240/2073 Completed\n",
      "250/2073 Completed\n",
      "260/2073 Completed\n",
      "270/2073 Completed\n",
      "280/2073 Completed\n",
      "290/2073 Completed\n",
      "300/2073 Completed\n",
      "310/2073 Completed\n",
      "320/2073 Completed\n",
      "330/2073 Completed\n",
      "340/2073 Completed\n",
      "350/2073 Completed\n",
      "360/2073 Completed\n",
      "370/2073 Completed\n",
      "380/2073 Completed\n",
      "390/2073 Completed\n",
      "400/2073 Completed\n",
      "410/2073 Completed\n",
      "420/2073 Completed\n",
      "430/2073 Completed\n",
      "440/2073 Completed\n",
      "450/2073 Completed\n",
      "460/2073 Completed\n",
      "470/2073 Completed\n",
      "480/2073 Completed\n",
      "490/2073 Completed\n",
      "500/2073 Completed\n",
      "510/2073 Completed\n",
      "520/2073 Completed\n",
      "530/2073 Completed\n",
      "540/2073 Completed\n",
      "550/2073 Completed\n",
      "560/2073 Completed\n",
      "570/2073 Completed\n",
      "580/2073 Completed\n",
      "590/2073 Completed\n",
      "600/2073 Completed\n",
      "610/2073 Completed\n",
      "620/2073 Completed\n",
      "630/2073 Completed\n",
      "640/2073 Completed\n",
      "650/2073 Completed\n",
      "660/2073 Completed\n",
      "670/2073 Completed\n",
      "680/2073 Completed\n",
      "690/2073 Completed\n",
      "700/2073 Completed\n",
      "710/2073 Completed\n",
      "720/2073 Completed\n",
      "730/2073 Completed\n",
      "740/2073 Completed\n",
      "750/2073 Completed\n",
      "760/2073 Completed\n",
      "770/2073 Completed\n",
      "780/2073 Completed\n",
      "790/2073 Completed\n",
      "800/2073 Completed\n",
      "810/2073 Completed\n",
      "820/2073 Completed\n",
      "830/2073 Completed\n",
      "840/2073 Completed\n",
      "850/2073 Completed\n",
      "860/2073 Completed\n",
      "870/2073 Completed\n",
      "880/2073 Completed\n",
      "890/2073 Completed\n",
      "900/2073 Completed\n",
      "910/2073 Completed\n",
      "920/2073 Completed\n",
      "930/2073 Completed\n",
      "940/2073 Completed\n",
      "950/2073 Completed\n",
      "960/2073 Completed\n",
      "970/2073 Completed\n",
      "980/2073 Completed\n",
      "990/2073 Completed\n",
      "1000/2073 Completed\n",
      "1010/2073 Completed\n",
      "1020/2073 Completed\n",
      "1030/2073 Completed\n",
      "1040/2073 Completed\n",
      "1050/2073 Completed\n",
      "1060/2073 Completed\n",
      "1070/2073 Completed\n",
      "1080/2073 Completed\n",
      "1090/2073 Completed\n",
      "1100/2073 Completed\n",
      "1110/2073 Completed\n",
      "1120/2073 Completed\n",
      "1130/2073 Completed\n",
      "1140/2073 Completed\n",
      "1150/2073 Completed\n",
      "1160/2073 Completed\n",
      "1170/2073 Completed\n",
      "1180/2073 Completed\n",
      "1190/2073 Completed\n",
      "1200/2073 Completed\n",
      "1210/2073 Completed\n",
      "1220/2073 Completed\n",
      "1230/2073 Completed\n",
      "1240/2073 Completed\n",
      "1250/2073 Completed\n",
      "1260/2073 Completed\n",
      "1270/2073 Completed\n",
      "1280/2073 Completed\n",
      "1290/2073 Completed\n",
      "1300/2073 Completed\n",
      "1310/2073 Completed\n",
      "1320/2073 Completed\n",
      "1330/2073 Completed\n",
      "1340/2073 Completed\n",
      "1350/2073 Completed\n",
      "1360/2073 Completed\n",
      "1370/2073 Completed\n",
      "1380/2073 Completed\n",
      "1390/2073 Completed\n",
      "1400/2073 Completed\n",
      "1410/2073 Completed\n",
      "1420/2073 Completed\n",
      "1430/2073 Completed\n",
      "1440/2073 Completed\n",
      "1450/2073 Completed\n",
      "1460/2073 Completed\n",
      "1470/2073 Completed\n",
      "1480/2073 Completed\n",
      "1490/2073 Completed\n",
      "1500/2073 Completed\n",
      "1510/2073 Completed\n",
      "1520/2073 Completed\n",
      "1530/2073 Completed\n",
      "1540/2073 Completed\n",
      "1550/2073 Completed\n",
      "1560/2073 Completed\n",
      "1570/2073 Completed\n",
      "1580/2073 Completed\n",
      "1590/2073 Completed\n",
      "1600/2073 Completed\n",
      "1610/2073 Completed\n",
      "1620/2073 Completed\n",
      "1630/2073 Completed\n",
      "1640/2073 Completed\n",
      "1650/2073 Completed\n",
      "1660/2073 Completed\n",
      "1670/2073 Completed\n",
      "1680/2073 Completed\n",
      "1690/2073 Completed\n",
      "1700/2073 Completed\n",
      "1710/2073 Completed\n",
      "1720/2073 Completed\n",
      "1730/2073 Completed\n",
      "1740/2073 Completed\n",
      "1750/2073 Completed\n",
      "1760/2073 Completed\n",
      "1770/2073 Completed\n",
      "1780/2073 Completed\n",
      "1790/2073 Completed\n",
      "1800/2073 Completed\n",
      "1810/2073 Completed\n",
      "1820/2073 Completed\n",
      "1830/2073 Completed\n",
      "1840/2073 Completed\n",
      "1850/2073 Completed\n",
      "1860/2073 Completed\n",
      "1870/2073 Completed\n",
      "1880/2073 Completed\n",
      "1890/2073 Completed\n",
      "1900/2073 Completed\n",
      "1910/2073 Completed\n",
      "1920/2073 Completed\n",
      "1930/2073 Completed\n",
      "1940/2073 Completed\n",
      "1950/2073 Completed\n",
      "1960/2073 Completed\n",
      "1970/2073 Completed\n",
      "1980/2073 Completed\n",
      "1990/2073 Completed\n",
      "2000/2073 Completed\n",
      "2010/2073 Completed\n",
      "2020/2073 Completed\n",
      "2030/2073 Completed\n",
      "2040/2073 Completed\n",
      "2050/2073 Completed\n",
      "2060/2073 Completed\n",
      "2070/2073 Completed\n"
     ]
    }
   ],
   "source": [
    "books_list = []\n",
    "year_all_dict = {}\n",
    "year_nobook_dict = {}\n",
    "journal_list = []\n",
    "\n",
    "for i, recid in enumerate(loss_greater_than_five.index):\n",
    "    \n",
    "    metadata = get_metadata(recid)\n",
    "    if metadata:\n",
    "        try:\n",
    "            if 'book' in metadata['document_type'][0]:\n",
    "                books_list.append(recid)\n",
    "        except:\n",
    "            pass\n",
    "        try:\n",
    "            if metadata['publication_info'][0]['year']:\n",
    "                year_all_dict[recid] = int(metadata['publication_info'][0]['year'])\n",
    "                if not 'book' in metadata['document_type'][0]:\n",
    "                    year_nobook_dict[recid] = int(metadata['publication_info'][0]['year'])\n",
    "        except:\n",
    "            pass\n",
    "        try:\n",
    "            if metadata['publication_info'][0]['journal_title']:\n",
    "                journal_list.append(metadata['publication_info'][0]['journal_title'])\n",
    "        except:\n",
    "            pass\n",
    "    \n",
    "    if i % 10 == 0:\n",
    "        print('{}/{} Completed'.format(i, len(loss_greater_than_five)))"
   ]
  },
  {
   "cell_type": "code",
   "execution_count": 107,
   "metadata": {},
   "outputs": [
    {
     "name": "stdout",
     "output_type": "stream",
     "text": [
      "Of the 2073 records, 798 are books\n"
     ]
    }
   ],
   "source": [
    "print('Of the {} records, {} are books'.format(len(loss_greater_than_five), len(books_list)))"
   ]
  },
  {
   "cell_type": "code",
   "execution_count": 108,
   "metadata": {},
   "outputs": [
    {
     "name": "stdout",
     "output_type": "stream",
     "text": [
      "1062 records have an associated year in the publication info (Plotted below)\n"
     ]
    },
    {
     "data": {
      "text/plain": [
       "(array([ 1.,  1.,  0.,  0.,  1.,  0.,  0.,  0.,  1.,  0.,  0.,  0.,  0.,\n",
       "         0.,  1.,  3.,  0.,  0.,  0.,  2.,  2.,  3.,  2.,  3.,  4., 12.,\n",
       "        15., 12.,  7., 27., 49., 55., 61., 44., 35., 67., 41., 59., 58.,\n",
       "        47., 39., 32., 45., 56., 48., 56., 62., 46., 22., 43.]),\n",
       " array([1918., 1920., 1922., 1924., 1926., 1928., 1930., 1932., 1934.,\n",
       "        1936., 1938., 1940., 1942., 1944., 1946., 1948., 1950., 1952.,\n",
       "        1954., 1956., 1958., 1960., 1962., 1964., 1966., 1968., 1970.,\n",
       "        1972., 1974., 1976., 1978., 1980., 1982., 1984., 1986., 1988.,\n",
       "        1990., 1992., 1994., 1996., 1998., 2000., 2002., 2004., 2006.,\n",
       "        2008., 2010., 2012., 2014., 2016., 2018.]),\n",
       " <a list of 50 Patch objects>)"
      ]
     },
     "execution_count": 108,
     "metadata": {},
     "output_type": "execute_result"
    },
    {
     "data": {
      "image/png": "[encoded data removed]",
      "text/plain": [
       "<Figure size 432x288 with 1 Axes>"
      ]
     },
     "metadata": {},
     "output_type": "display_data"
    }
   ],
   "source": [
    "# Year information (All)\n",
    "print('{} records have an associated year in the publication info (Plotted below)'.format(len(year_all_dict)))\n",
    "plt.hist(year_all_dict.values(), bins=50)"
   ]
  },
  {
   "cell_type": "code",
   "execution_count": 109,
   "metadata": {},
   "outputs": [
    {
     "name": "stdout",
     "output_type": "stream",
     "text": [
      "854 records (excluding books) have an associated year in the publication info (Plotted below)\n"
     ]
    },
    {
     "data": {
      "text/plain": [
       "(array([ 1.,  1.,  0.,  0.,  1.,  0.,  0.,  0.,  1.,  0.,  0.,  0.,  0.,\n",
       "         0.,  1.,  3.,  0.,  0.,  0.,  2.,  1.,  3.,  2.,  3.,  4., 12.,\n",
       "        15., 12.,  7., 26., 43., 52., 56., 39., 32., 45., 30., 49., 51.,\n",
       "        41., 27., 22., 37., 35., 31., 46., 40., 29., 17., 37.]),\n",
       " array([1918., 1920., 1922., 1924., 1926., 1928., 1930., 1932., 1934.,\n",
       "        1936., 1938., 1940., 1942., 1944., 1946., 1948., 1950., 1952.,\n",
       "        1954., 1956., 1958., 1960., 1962., 1964., 1966., 1968., 1970.,\n",
       "        1972., 1974., 1976., 1978., 1980., 1982., 1984., 1986., 1988.,\n",
       "        1990., 1992., 1994., 1996., 1998., 2000., 2002., 2004., 2006.,\n",
       "        2008., 2010., 2012., 2014., 2016., 2018.]),\n",
       " <a list of 50 Patch objects>)"
      ]
     },
     "execution_count": 109,
     "metadata": {},
     "output_type": "execute_result"
    },
    {
     "data": {
      "image/png": "[encoded data removed]",
      "text/plain": [
       "<Figure size 432x288 with 1 Axes>"
      ]
     },
     "metadata": {},
     "output_type": "display_data"
    }
   ],
   "source": [
    "# Year information (No books)\n",
    "print('{} records (excluding books) have an associated year in the publication info (Plotted below)'.format(len(year_nobook_dict)))\n",
    "plt.hist(year_nobook_dict.values(), bins=50)"
   ]
  },
  {
   "cell_type": "code",
   "execution_count": 110,
   "metadata": {},
   "outputs": [
    {
     "name": "stdout",
     "output_type": "stream",
     "text": [
      "977 records have a journal title, of which there are 140 unique journals. Of which journals which appear the most are:\n"
     ]
    },
    {
     "data": {
      "text/plain": [
       "Nucl.Phys.A                                211\n",
       "Phys.Lett.B                                 99\n",
       "Phys.Rev.D                                  39\n",
       "Nucl.Phys.B                                 38\n",
       "Astrophys.J.                                37\n",
       "Lect.Notes Phys.                            33\n",
       "Phys.Rev.Lett.                              32\n",
       "Nuovo Cim.A                                 27\n",
       "Phys.Rept.                                  23\n",
       "Nucl.Phys.B Proc.Suppl.                     23\n",
       "Eur.Phys.J.C                                20\n",
       "Nucl.Instrum.Meth.A                         17\n",
       "Int.J.Mod.Phys.A                            16\n",
       "Camb.Monogr.Part.Phys.Nucl.Phys.Cosmol.     13\n",
       "PoS                                         13\n",
       "World Sci.Lect.Notes Phys.                  11\n",
       "Front.Phys.                                 11\n",
       "JETP Lett.                                  10\n",
       "JHEP                                        10\n",
       "Int.Ser.Monogr.Phys.                        10\n",
       "Name: 0, dtype: int64"
      ]
     },
     "execution_count": 110,
     "metadata": {},
     "output_type": "execute_result"
    }
   ],
   "source": [
    "journal_df = pd.DataFrame(journal_list)\n",
    "unique_journals = journal_df[0].value_counts()\n",
    "print('{} records have a journal title, of which there are {} unique journals. Of which journals which appear the most are:'.format(len(journal_list), len(unique_journals)))\n",
    "unique_journals[:20]"
   ]
  },
  {
   "cell_type": "markdown",
   "metadata": {},
   "source": [
    "# Please ignore after this"
   ]
  },
  {
   "cell_type": "markdown",
   "metadata": {},
   "source": [
    "### Investiagte non-existent \"cited\" articles"
   ]
  },
  {
   "cell_type": "code",
   "execution_count": 26,
   "metadata": {},
   "outputs": [],
   "source": [
    "non_overlapping = np.setdiff1d(np.union1d(records.oldRef.unique(), legacy.recID.unique()), np.intersect1d(records.oldRef.unique(), legacy.recID.unique()))\n",
    "non_overlapping = non_overlapping[1:] # Remove entry for Zero"
   ]
  },
  {
   "cell_type": "code",
   "execution_count": 27,
   "metadata": {},
   "outputs": [
    {
     "name": "stdout",
     "output_type": "stream",
     "text": [
      "List from Legacy machine and from ES queries has 5289 non-overlapping records\n"
     ]
    }
   ],
   "source": [
    "print('List from Legacy machine and from ES queries has {} non-overlapping records'.format(len(non_overlapping)))"
   ]
  },
  {
   "cell_type": "code",
   "execution_count": 50,
   "metadata": {},
   "outputs": [],
   "source": [
    "cited_in_dump_but_not_bibrank = []\n",
    "cited_in_bibrank_but_not_dump = []\n",
    "for article in non_overlapping:\n",
    "    if len(records[records.oldRef == article]) != 0:\n",
    "        cited_in_dump_but_not_bibrank.append(article)\n",
    "    if len(legacy[legacy.recID == article]) != 0:\n",
    "        cited_in_bibrank_but_not_dump.append(article)"
   ]
  },
  {
   "cell_type": "code",
   "execution_count": 100,
   "metadata": {},
   "outputs": [],
   "source": [
    "cited_in_bibrank = legacy_indexed.loc[cited_in_bibrank_but_not_dump]"
   ]
  },
  {
   "cell_type": "code",
   "execution_count": 101,
   "metadata": {},
   "outputs": [],
   "source": [
    "cited_in_dump = pd.DataFrame(records.oldRef.value_counts()[cited_in_dump_but_not_bibrank])\n",
    "cited_in_dump.columns = ['Citation_Difference']"
   ]
  },
  {
   "cell_type": "markdown",
   "metadata": {},
   "source": [
    "## Miscellaneous Stuff"
   ]
  },
  {
   "cell_type": "code",
   "execution_count": 62,
   "metadata": {},
   "outputs": [],
   "source": [
    "f = core_articles_with_loss_ext.reindex(exist_list)\n",
    "f = f[~f.Citation_Difference.isna()]"
   ]
  },
  {
   "cell_type": "code",
   "execution_count": 63,
   "metadata": {},
   "outputs": [
    {
     "data": {
      "text/plain": [
       "2073"
      ]
     },
     "execution_count": 63,
     "metadata": {},
     "output_type": "execute_result"
    }
   ],
   "source": [
    "c = core_articles_with_loss_ext.Citation_Difference.value_counts()\n",
    "sum(c[-6:])"
   ]
  },
  {
   "cell_type": "code",
   "execution_count": 64,
   "metadata": {},
   "outputs": [
    {
     "data": {
      "text/html": [
       "<div>\n",
       "<style scoped>\n",
       "    .dataframe tbody tr th:only-of-type {\n",
       "        vertical-align: middle;\n",
       "    }\n",
       "\n",
       "    .dataframe tbody tr th {\n",
       "        vertical-align: top;\n",
       "    }\n",
       "\n",
       "    .dataframe thead th {\n",
       "        text-align: right;\n",
       "    }\n",
       "</style>\n",
       "<table border=\"1\" class=\"dataframe\">\n",
       "  <thead>\n",
       "    <tr style=\"text-align: right;\">\n",
       "      <th></th>\n",
       "      <th>Citation_Difference</th>\n",
       "      <th>Legacy_Count</th>\n",
       "      <th>Labs_Count</th>\n",
       "    </tr>\n",
       "    <tr>\n",
       "      <th>recID</th>\n",
       "      <th></th>\n",
       "      <th></th>\n",
       "      <th></th>\n",
       "    </tr>\n",
       "  </thead>\n",
       "  <tbody>\n",
       "    <tr>\n",
       "      <th>299778</th>\n",
       "      <td>-1159.0</td>\n",
       "      <td>1478.0</td>\n",
       "      <td>319.0</td>\n",
       "    </tr>\n",
       "    <tr>\n",
       "      <th>181166</th>\n",
       "      <td>-924.0</td>\n",
       "      <td>1728.0</td>\n",
       "      <td>804.0</td>\n",
       "    </tr>\n",
       "    <tr>\n",
       "      <th>279039</th>\n",
       "      <td>-470.0</td>\n",
       "      <td>821.0</td>\n",
       "      <td>351.0</td>\n",
       "    </tr>\n",
       "    <tr>\n",
       "      <th>794379</th>\n",
       "      <td>-445.0</td>\n",
       "      <td>508.0</td>\n",
       "      <td>63.0</td>\n",
       "    </tr>\n",
       "    <tr>\n",
       "      <th>640063</th>\n",
       "      <td>-351.0</td>\n",
       "      <td>412.0</td>\n",
       "      <td>61.0</td>\n",
       "    </tr>\n",
       "    <tr>\n",
       "      <th>744400</th>\n",
       "      <td>-342.0</td>\n",
       "      <td>342.0</td>\n",
       "      <td>0.0</td>\n",
       "    </tr>\n",
       "    <tr>\n",
       "      <th>706151</th>\n",
       "      <td>-322.0</td>\n",
       "      <td>338.0</td>\n",
       "      <td>16.0</td>\n",
       "    </tr>\n",
       "    <tr>\n",
       "      <th>656250</th>\n",
       "      <td>-315.0</td>\n",
       "      <td>484.0</td>\n",
       "      <td>169.0</td>\n",
       "    </tr>\n",
       "    <tr>\n",
       "      <th>618647</th>\n",
       "      <td>-310.0</td>\n",
       "      <td>330.0</td>\n",
       "      <td>20.0</td>\n",
       "    </tr>\n",
       "    <tr>\n",
       "      <th>345963</th>\n",
       "      <td>-305.0</td>\n",
       "      <td>316.0</td>\n",
       "      <td>11.0</td>\n",
       "    </tr>\n",
       "    <tr>\n",
       "      <th>338625</th>\n",
       "      <td>-299.0</td>\n",
       "      <td>299.0</td>\n",
       "      <td>0.0</td>\n",
       "    </tr>\n",
       "    <tr>\n",
       "      <th>487240</th>\n",
       "      <td>-299.0</td>\n",
       "      <td>341.0</td>\n",
       "      <td>42.0</td>\n",
       "    </tr>\n",
       "    <tr>\n",
       "      <th>487241</th>\n",
       "      <td>-298.0</td>\n",
       "      <td>331.0</td>\n",
       "      <td>33.0</td>\n",
       "    </tr>\n",
       "    <tr>\n",
       "      <th>391003</th>\n",
       "      <td>-284.0</td>\n",
       "      <td>310.0</td>\n",
       "      <td>26.0</td>\n",
       "    </tr>\n",
       "    <tr>\n",
       "      <th>652597</th>\n",
       "      <td>-278.0</td>\n",
       "      <td>1619.0</td>\n",
       "      <td>1341.0</td>\n",
       "    </tr>\n",
       "    <tr>\n",
       "      <th>250488</th>\n",
       "      <td>-262.0</td>\n",
       "      <td>272.0</td>\n",
       "      <td>10.0</td>\n",
       "    </tr>\n",
       "    <tr>\n",
       "      <th>752478</th>\n",
       "      <td>-254.0</td>\n",
       "      <td>264.0</td>\n",
       "      <td>10.0</td>\n",
       "    </tr>\n",
       "    <tr>\n",
       "      <th>406190</th>\n",
       "      <td>-252.0</td>\n",
       "      <td>277.0</td>\n",
       "      <td>25.0</td>\n",
       "    </tr>\n",
       "    <tr>\n",
       "      <th>533080</th>\n",
       "      <td>-244.0</td>\n",
       "      <td>288.0</td>\n",
       "      <td>44.0</td>\n",
       "    </tr>\n",
       "    <tr>\n",
       "      <th>205394</th>\n",
       "      <td>-230.0</td>\n",
       "      <td>623.0</td>\n",
       "      <td>393.0</td>\n",
       "    </tr>\n",
       "    <tr>\n",
       "      <th>357130</th>\n",
       "      <td>-227.0</td>\n",
       "      <td>269.0</td>\n",
       "      <td>42.0</td>\n",
       "    </tr>\n",
       "    <tr>\n",
       "      <th>593015</th>\n",
       "      <td>-217.0</td>\n",
       "      <td>217.0</td>\n",
       "      <td>0.0</td>\n",
       "    </tr>\n",
       "    <tr>\n",
       "      <th>619666</th>\n",
       "      <td>-212.0</td>\n",
       "      <td>336.0</td>\n",
       "      <td>124.0</td>\n",
       "    </tr>\n",
       "    <tr>\n",
       "      <th>252419</th>\n",
       "      <td>-207.0</td>\n",
       "      <td>222.0</td>\n",
       "      <td>15.0</td>\n",
       "    </tr>\n",
       "    <tr>\n",
       "      <th>650093</th>\n",
       "      <td>-205.0</td>\n",
       "      <td>330.0</td>\n",
       "      <td>125.0</td>\n",
       "    </tr>\n",
       "    <tr>\n",
       "      <th>806976</th>\n",
       "      <td>-205.0</td>\n",
       "      <td>328.0</td>\n",
       "      <td>123.0</td>\n",
       "    </tr>\n",
       "    <tr>\n",
       "      <th>304853</th>\n",
       "      <td>-203.0</td>\n",
       "      <td>203.0</td>\n",
       "      <td>0.0</td>\n",
       "    </tr>\n",
       "    <tr>\n",
       "      <th>1252132</th>\n",
       "      <td>-195.0</td>\n",
       "      <td>199.0</td>\n",
       "      <td>4.0</td>\n",
       "    </tr>\n",
       "    <tr>\n",
       "      <th>922696</th>\n",
       "      <td>-189.0</td>\n",
       "      <td>313.0</td>\n",
       "      <td>124.0</td>\n",
       "    </tr>\n",
       "    <tr>\n",
       "      <th>430948</th>\n",
       "      <td>-186.0</td>\n",
       "      <td>207.0</td>\n",
       "      <td>21.0</td>\n",
       "    </tr>\n",
       "    <tr>\n",
       "      <th>...</th>\n",
       "      <td>...</td>\n",
       "      <td>...</td>\n",
       "      <td>...</td>\n",
       "    </tr>\n",
       "    <tr>\n",
       "      <th>78651</th>\n",
       "      <td>-6.0</td>\n",
       "      <td>81.0</td>\n",
       "      <td>75.0</td>\n",
       "    </tr>\n",
       "    <tr>\n",
       "      <th>243666</th>\n",
       "      <td>-6.0</td>\n",
       "      <td>6.0</td>\n",
       "      <td>0.0</td>\n",
       "    </tr>\n",
       "    <tr>\n",
       "      <th>64373</th>\n",
       "      <td>-6.0</td>\n",
       "      <td>6.0</td>\n",
       "      <td>0.0</td>\n",
       "    </tr>\n",
       "    <tr>\n",
       "      <th>112955</th>\n",
       "      <td>-6.0</td>\n",
       "      <td>6.0</td>\n",
       "      <td>0.0</td>\n",
       "    </tr>\n",
       "    <tr>\n",
       "      <th>108278</th>\n",
       "      <td>-6.0</td>\n",
       "      <td>6.0</td>\n",
       "      <td>0.0</td>\n",
       "    </tr>\n",
       "    <tr>\n",
       "      <th>165977</th>\n",
       "      <td>-6.0</td>\n",
       "      <td>6.0</td>\n",
       "      <td>0.0</td>\n",
       "    </tr>\n",
       "    <tr>\n",
       "      <th>135937</th>\n",
       "      <td>-6.0</td>\n",
       "      <td>6.0</td>\n",
       "      <td>0.0</td>\n",
       "    </tr>\n",
       "    <tr>\n",
       "      <th>15211</th>\n",
       "      <td>-6.0</td>\n",
       "      <td>6.0</td>\n",
       "      <td>0.0</td>\n",
       "    </tr>\n",
       "    <tr>\n",
       "      <th>146539</th>\n",
       "      <td>-6.0</td>\n",
       "      <td>6.0</td>\n",
       "      <td>0.0</td>\n",
       "    </tr>\n",
       "    <tr>\n",
       "      <th>170098</th>\n",
       "      <td>-6.0</td>\n",
       "      <td>6.0</td>\n",
       "      <td>0.0</td>\n",
       "    </tr>\n",
       "    <tr>\n",
       "      <th>837986</th>\n",
       "      <td>-6.0</td>\n",
       "      <td>8.0</td>\n",
       "      <td>2.0</td>\n",
       "    </tr>\n",
       "    <tr>\n",
       "      <th>122496</th>\n",
       "      <td>-6.0</td>\n",
       "      <td>11.0</td>\n",
       "      <td>5.0</td>\n",
       "    </tr>\n",
       "    <tr>\n",
       "      <th>286746</th>\n",
       "      <td>-6.0</td>\n",
       "      <td>368.0</td>\n",
       "      <td>362.0</td>\n",
       "    </tr>\n",
       "    <tr>\n",
       "      <th>173812</th>\n",
       "      <td>-6.0</td>\n",
       "      <td>6.0</td>\n",
       "      <td>0.0</td>\n",
       "    </tr>\n",
       "    <tr>\n",
       "      <th>173917</th>\n",
       "      <td>-6.0</td>\n",
       "      <td>6.0</td>\n",
       "      <td>0.0</td>\n",
       "    </tr>\n",
       "    <tr>\n",
       "      <th>59087</th>\n",
       "      <td>-6.0</td>\n",
       "      <td>6.0</td>\n",
       "      <td>0.0</td>\n",
       "    </tr>\n",
       "    <tr>\n",
       "      <th>9121</th>\n",
       "      <td>-6.0</td>\n",
       "      <td>6.0</td>\n",
       "      <td>0.0</td>\n",
       "    </tr>\n",
       "    <tr>\n",
       "      <th>116801</th>\n",
       "      <td>-6.0</td>\n",
       "      <td>6.0</td>\n",
       "      <td>0.0</td>\n",
       "    </tr>\n",
       "    <tr>\n",
       "      <th>58727</th>\n",
       "      <td>-6.0</td>\n",
       "      <td>6.0</td>\n",
       "      <td>0.0</td>\n",
       "    </tr>\n",
       "    <tr>\n",
       "      <th>131977</th>\n",
       "      <td>-6.0</td>\n",
       "      <td>44.0</td>\n",
       "      <td>38.0</td>\n",
       "    </tr>\n",
       "    <tr>\n",
       "      <th>255379</th>\n",
       "      <td>-6.0</td>\n",
       "      <td>6.0</td>\n",
       "      <td>0.0</td>\n",
       "    </tr>\n",
       "    <tr>\n",
       "      <th>208660</th>\n",
       "      <td>-6.0</td>\n",
       "      <td>6.0</td>\n",
       "      <td>0.0</td>\n",
       "    </tr>\n",
       "    <tr>\n",
       "      <th>122259</th>\n",
       "      <td>-6.0</td>\n",
       "      <td>4655.0</td>\n",
       "      <td>4649.0</td>\n",
       "    </tr>\n",
       "    <tr>\n",
       "      <th>692430</th>\n",
       "      <td>-6.0</td>\n",
       "      <td>7.0</td>\n",
       "      <td>1.0</td>\n",
       "    </tr>\n",
       "    <tr>\n",
       "      <th>25382</th>\n",
       "      <td>-6.0</td>\n",
       "      <td>415.0</td>\n",
       "      <td>409.0</td>\n",
       "    </tr>\n",
       "    <tr>\n",
       "      <th>770566</th>\n",
       "      <td>-6.0</td>\n",
       "      <td>92.0</td>\n",
       "      <td>86.0</td>\n",
       "    </tr>\n",
       "    <tr>\n",
       "      <th>126182</th>\n",
       "      <td>-6.0</td>\n",
       "      <td>6.0</td>\n",
       "      <td>0.0</td>\n",
       "    </tr>\n",
       "    <tr>\n",
       "      <th>158156</th>\n",
       "      <td>-6.0</td>\n",
       "      <td>6.0</td>\n",
       "      <td>0.0</td>\n",
       "    </tr>\n",
       "    <tr>\n",
       "      <th>424290</th>\n",
       "      <td>-6.0</td>\n",
       "      <td>108.0</td>\n",
       "      <td>102.0</td>\n",
       "    </tr>\n",
       "    <tr>\n",
       "      <th>65937</th>\n",
       "      <td>-6.0</td>\n",
       "      <td>6.0</td>\n",
       "      <td>0.0</td>\n",
       "    </tr>\n",
       "  </tbody>\n",
       "</table>\n",
       "<p>2073 rows × 3 columns</p>\n",
       "</div>"
      ],
      "text/plain": [
       "         Citation_Difference  Legacy_Count  Labs_Count\n",
       "recID                                                 \n",
       "299778               -1159.0        1478.0       319.0\n",
       "181166                -924.0        1728.0       804.0\n",
       "279039                -470.0         821.0       351.0\n",
       "794379                -445.0         508.0        63.0\n",
       "640063                -351.0         412.0        61.0\n",
       "744400                -342.0         342.0         0.0\n",
       "706151                -322.0         338.0        16.0\n",
       "656250                -315.0         484.0       169.0\n",
       "618647                -310.0         330.0        20.0\n",
       "345963                -305.0         316.0        11.0\n",
       "338625                -299.0         299.0         0.0\n",
       "487240                -299.0         341.0        42.0\n",
       "487241                -298.0         331.0        33.0\n",
       "391003                -284.0         310.0        26.0\n",
       "652597                -278.0        1619.0      1341.0\n",
       "250488                -262.0         272.0        10.0\n",
       "752478                -254.0         264.0        10.0\n",
       "406190                -252.0         277.0        25.0\n",
       "533080                -244.0         288.0        44.0\n",
       "205394                -230.0         623.0       393.0\n",
       "357130                -227.0         269.0        42.0\n",
       "593015                -217.0         217.0         0.0\n",
       "619666                -212.0         336.0       124.0\n",
       "252419                -207.0         222.0        15.0\n",
       "650093                -205.0         330.0       125.0\n",
       "806976                -205.0         328.0       123.0\n",
       "304853                -203.0         203.0         0.0\n",
       "1252132               -195.0         199.0         4.0\n",
       "922696                -189.0         313.0       124.0\n",
       "430948                -186.0         207.0        21.0\n",
       "...                      ...           ...         ...\n",
       "78651                   -6.0          81.0        75.0\n",
       "243666                  -6.0           6.0         0.0\n",
       "64373                   -6.0           6.0         0.0\n",
       "112955                  -6.0           6.0         0.0\n",
       "108278                  -6.0           6.0         0.0\n",
       "165977                  -6.0           6.0         0.0\n",
       "135937                  -6.0           6.0         0.0\n",
       "15211                   -6.0           6.0         0.0\n",
       "146539                  -6.0           6.0         0.0\n",
       "170098                  -6.0           6.0         0.0\n",
       "837986                  -6.0           8.0         2.0\n",
       "122496                  -6.0          11.0         5.0\n",
       "286746                  -6.0         368.0       362.0\n",
       "173812                  -6.0           6.0         0.0\n",
       "173917                  -6.0           6.0         0.0\n",
       "59087                   -6.0           6.0         0.0\n",
       "9121                    -6.0           6.0         0.0\n",
       "116801                  -6.0           6.0         0.0\n",
       "58727                   -6.0           6.0         0.0\n",
       "131977                  -6.0          44.0        38.0\n",
       "255379                  -6.0           6.0         0.0\n",
       "208660                  -6.0           6.0         0.0\n",
       "122259                  -6.0        4655.0      4649.0\n",
       "692430                  -6.0           7.0         1.0\n",
       "25382                   -6.0         415.0       409.0\n",
       "770566                  -6.0          92.0        86.0\n",
       "126182                  -6.0           6.0         0.0\n",
       "158156                  -6.0           6.0         0.0\n",
       "424290                  -6.0         108.0       102.0\n",
       "65937                   -6.0           6.0         0.0\n",
       "\n",
       "[2073 rows x 3 columns]"
      ]
     },
     "execution_count": 64,
     "metadata": {},
     "output_type": "execute_result"
    }
   ],
   "source": [
    "f[f.Citation_Difference < -5]"
   ]
  },
  {
   "cell_type": "code",
   "execution_count": 65,
   "metadata": {},
   "outputs": [],
   "source": [
    "top_200_lost_core= f.iloc[:200].index"
   ]
  },
  {
   "cell_type": "code",
   "execution_count": 66,
   "metadata": {},
   "outputs": [],
   "source": [
    "# PLEASE ONLY RUN ONCE\n",
    "if 'top_200_df' in locals():\n",
    "    del top_200_df\n",
    "\n",
    "for rid in top_200_lost_core:\n",
    "    one_of_the_200 = records[(records.oldRef == rid) | (records.newRef == rid)]\n",
    "    \n",
    "    if 'top_200_df' in locals():\n",
    "        top_200_df = top_200_df.append(one_of_the_200)\n",
    "    else:\n",
    "        top_200_df = one_of_the_200"
   ]
  },
  {
   "cell_type": "code",
   "execution_count": 135,
   "metadata": {},
   "outputs": [],
   "source": [
    "top_200_df.to_csv('top_200_core_lost_citation_records-NEWAUG2018.csv')"
   ]
  },
  {
   "cell_type": "code",
   "execution_count": 139,
   "metadata": {},
   "outputs": [],
   "source": [
    "f.iloc[0:200].to_csv('top_200_core_lost_citations_recids-NEWAUG2018.csv')"
   ]
  },
  {
   "cell_type": "code",
   "execution_count": 67,
   "metadata": {},
   "outputs": [
    {
     "data": {
      "text/html": [
       "<div>\n",
       "<style scoped>\n",
       "    .dataframe tbody tr th:only-of-type {\n",
       "        vertical-align: middle;\n",
       "    }\n",
       "\n",
       "    .dataframe tbody tr th {\n",
       "        vertical-align: top;\n",
       "    }\n",
       "\n",
       "    .dataframe thead th {\n",
       "        text-align: right;\n",
       "    }\n",
       "</style>\n",
       "<table border=\"1\" class=\"dataframe\">\n",
       "  <thead>\n",
       "    <tr style=\"text-align: right;\">\n",
       "      <th></th>\n",
       "      <th>Citation_Difference</th>\n",
       "      <th>Legacy_Count</th>\n",
       "      <th>Labs_Count</th>\n",
       "    </tr>\n",
       "    <tr>\n",
       "      <th>recID</th>\n",
       "      <th></th>\n",
       "      <th></th>\n",
       "      <th></th>\n",
       "    </tr>\n",
       "  </thead>\n",
       "  <tbody>\n",
       "    <tr>\n",
       "      <th>299778</th>\n",
       "      <td>-1159.0</td>\n",
       "      <td>1478.0</td>\n",
       "      <td>319.0</td>\n",
       "    </tr>\n",
       "    <tr>\n",
       "      <th>181166</th>\n",
       "      <td>-924.0</td>\n",
       "      <td>1728.0</td>\n",
       "      <td>804.0</td>\n",
       "    </tr>\n",
       "    <tr>\n",
       "      <th>279039</th>\n",
       "      <td>-470.0</td>\n",
       "      <td>821.0</td>\n",
       "      <td>351.0</td>\n",
       "    </tr>\n",
       "    <tr>\n",
       "      <th>794379</th>\n",
       "      <td>-445.0</td>\n",
       "      <td>508.0</td>\n",
       "      <td>63.0</td>\n",
       "    </tr>\n",
       "    <tr>\n",
       "      <th>640063</th>\n",
       "      <td>-351.0</td>\n",
       "      <td>412.0</td>\n",
       "      <td>61.0</td>\n",
       "    </tr>\n",
       "    <tr>\n",
       "      <th>744400</th>\n",
       "      <td>-342.0</td>\n",
       "      <td>342.0</td>\n",
       "      <td>0.0</td>\n",
       "    </tr>\n",
       "    <tr>\n",
       "      <th>706151</th>\n",
       "      <td>-322.0</td>\n",
       "      <td>338.0</td>\n",
       "      <td>16.0</td>\n",
       "    </tr>\n",
       "    <tr>\n",
       "      <th>656250</th>\n",
       "      <td>-315.0</td>\n",
       "      <td>484.0</td>\n",
       "      <td>169.0</td>\n",
       "    </tr>\n",
       "    <tr>\n",
       "      <th>618647</th>\n",
       "      <td>-310.0</td>\n",
       "      <td>330.0</td>\n",
       "      <td>20.0</td>\n",
       "    </tr>\n",
       "    <tr>\n",
       "      <th>345963</th>\n",
       "      <td>-305.0</td>\n",
       "      <td>316.0</td>\n",
       "      <td>11.0</td>\n",
       "    </tr>\n",
       "    <tr>\n",
       "      <th>338625</th>\n",
       "      <td>-299.0</td>\n",
       "      <td>299.0</td>\n",
       "      <td>0.0</td>\n",
       "    </tr>\n",
       "    <tr>\n",
       "      <th>487240</th>\n",
       "      <td>-299.0</td>\n",
       "      <td>341.0</td>\n",
       "      <td>42.0</td>\n",
       "    </tr>\n",
       "    <tr>\n",
       "      <th>487241</th>\n",
       "      <td>-298.0</td>\n",
       "      <td>331.0</td>\n",
       "      <td>33.0</td>\n",
       "    </tr>\n",
       "    <tr>\n",
       "      <th>391003</th>\n",
       "      <td>-284.0</td>\n",
       "      <td>310.0</td>\n",
       "      <td>26.0</td>\n",
       "    </tr>\n",
       "    <tr>\n",
       "      <th>652597</th>\n",
       "      <td>-278.0</td>\n",
       "      <td>1619.0</td>\n",
       "      <td>1341.0</td>\n",
       "    </tr>\n",
       "    <tr>\n",
       "      <th>250488</th>\n",
       "      <td>-262.0</td>\n",
       "      <td>272.0</td>\n",
       "      <td>10.0</td>\n",
       "    </tr>\n",
       "    <tr>\n",
       "      <th>752478</th>\n",
       "      <td>-254.0</td>\n",
       "      <td>264.0</td>\n",
       "      <td>10.0</td>\n",
       "    </tr>\n",
       "    <tr>\n",
       "      <th>406190</th>\n",
       "      <td>-252.0</td>\n",
       "      <td>277.0</td>\n",
       "      <td>25.0</td>\n",
       "    </tr>\n",
       "    <tr>\n",
       "      <th>533080</th>\n",
       "      <td>-244.0</td>\n",
       "      <td>288.0</td>\n",
       "      <td>44.0</td>\n",
       "    </tr>\n",
       "    <tr>\n",
       "      <th>205394</th>\n",
       "      <td>-230.0</td>\n",
       "      <td>623.0</td>\n",
       "      <td>393.0</td>\n",
       "    </tr>\n",
       "    <tr>\n",
       "      <th>357130</th>\n",
       "      <td>-227.0</td>\n",
       "      <td>269.0</td>\n",
       "      <td>42.0</td>\n",
       "    </tr>\n",
       "    <tr>\n",
       "      <th>593015</th>\n",
       "      <td>-217.0</td>\n",
       "      <td>217.0</td>\n",
       "      <td>0.0</td>\n",
       "    </tr>\n",
       "    <tr>\n",
       "      <th>619666</th>\n",
       "      <td>-212.0</td>\n",
       "      <td>336.0</td>\n",
       "      <td>124.0</td>\n",
       "    </tr>\n",
       "    <tr>\n",
       "      <th>252419</th>\n",
       "      <td>-207.0</td>\n",
       "      <td>222.0</td>\n",
       "      <td>15.0</td>\n",
       "    </tr>\n",
       "    <tr>\n",
       "      <th>650093</th>\n",
       "      <td>-205.0</td>\n",
       "      <td>330.0</td>\n",
       "      <td>125.0</td>\n",
       "    </tr>\n",
       "    <tr>\n",
       "      <th>806976</th>\n",
       "      <td>-205.0</td>\n",
       "      <td>328.0</td>\n",
       "      <td>123.0</td>\n",
       "    </tr>\n",
       "    <tr>\n",
       "      <th>304853</th>\n",
       "      <td>-203.0</td>\n",
       "      <td>203.0</td>\n",
       "      <td>0.0</td>\n",
       "    </tr>\n",
       "    <tr>\n",
       "      <th>1252132</th>\n",
       "      <td>-195.0</td>\n",
       "      <td>199.0</td>\n",
       "      <td>4.0</td>\n",
       "    </tr>\n",
       "    <tr>\n",
       "      <th>922696</th>\n",
       "      <td>-189.0</td>\n",
       "      <td>313.0</td>\n",
       "      <td>124.0</td>\n",
       "    </tr>\n",
       "    <tr>\n",
       "      <th>430948</th>\n",
       "      <td>-186.0</td>\n",
       "      <td>207.0</td>\n",
       "      <td>21.0</td>\n",
       "    </tr>\n",
       "    <tr>\n",
       "      <th>...</th>\n",
       "      <td>...</td>\n",
       "      <td>...</td>\n",
       "      <td>...</td>\n",
       "    </tr>\n",
       "    <tr>\n",
       "      <th>809194</th>\n",
       "      <td>-58.0</td>\n",
       "      <td>58.0</td>\n",
       "      <td>0.0</td>\n",
       "    </tr>\n",
       "    <tr>\n",
       "      <th>809195</th>\n",
       "      <td>-58.0</td>\n",
       "      <td>58.0</td>\n",
       "      <td>0.0</td>\n",
       "    </tr>\n",
       "    <tr>\n",
       "      <th>809196</th>\n",
       "      <td>-58.0</td>\n",
       "      <td>58.0</td>\n",
       "      <td>0.0</td>\n",
       "    </tr>\n",
       "    <tr>\n",
       "      <th>809202</th>\n",
       "      <td>-58.0</td>\n",
       "      <td>58.0</td>\n",
       "      <td>0.0</td>\n",
       "    </tr>\n",
       "    <tr>\n",
       "      <th>809197</th>\n",
       "      <td>-58.0</td>\n",
       "      <td>58.0</td>\n",
       "      <td>0.0</td>\n",
       "    </tr>\n",
       "    <tr>\n",
       "      <th>809198</th>\n",
       "      <td>-58.0</td>\n",
       "      <td>58.0</td>\n",
       "      <td>0.0</td>\n",
       "    </tr>\n",
       "    <tr>\n",
       "      <th>809180</th>\n",
       "      <td>-58.0</td>\n",
       "      <td>58.0</td>\n",
       "      <td>0.0</td>\n",
       "    </tr>\n",
       "    <tr>\n",
       "      <th>809199</th>\n",
       "      <td>-58.0</td>\n",
       "      <td>58.0</td>\n",
       "      <td>0.0</td>\n",
       "    </tr>\n",
       "    <tr>\n",
       "      <th>809181</th>\n",
       "      <td>-58.0</td>\n",
       "      <td>58.0</td>\n",
       "      <td>0.0</td>\n",
       "    </tr>\n",
       "    <tr>\n",
       "      <th>809155</th>\n",
       "      <td>-58.0</td>\n",
       "      <td>58.0</td>\n",
       "      <td>0.0</td>\n",
       "    </tr>\n",
       "    <tr>\n",
       "      <th>809179</th>\n",
       "      <td>-58.0</td>\n",
       "      <td>58.0</td>\n",
       "      <td>0.0</td>\n",
       "    </tr>\n",
       "    <tr>\n",
       "      <th>809159</th>\n",
       "      <td>-58.0</td>\n",
       "      <td>58.0</td>\n",
       "      <td>0.0</td>\n",
       "    </tr>\n",
       "    <tr>\n",
       "      <th>809205</th>\n",
       "      <td>-58.0</td>\n",
       "      <td>58.0</td>\n",
       "      <td>0.0</td>\n",
       "    </tr>\n",
       "    <tr>\n",
       "      <th>647004</th>\n",
       "      <td>-58.0</td>\n",
       "      <td>58.0</td>\n",
       "      <td>0.0</td>\n",
       "    </tr>\n",
       "    <tr>\n",
       "      <th>805478</th>\n",
       "      <td>-58.0</td>\n",
       "      <td>58.0</td>\n",
       "      <td>0.0</td>\n",
       "    </tr>\n",
       "    <tr>\n",
       "      <th>807023</th>\n",
       "      <td>-58.0</td>\n",
       "      <td>58.0</td>\n",
       "      <td>0.0</td>\n",
       "    </tr>\n",
       "    <tr>\n",
       "      <th>807024</th>\n",
       "      <td>-58.0</td>\n",
       "      <td>58.0</td>\n",
       "      <td>0.0</td>\n",
       "    </tr>\n",
       "    <tr>\n",
       "      <th>808478</th>\n",
       "      <td>-58.0</td>\n",
       "      <td>58.0</td>\n",
       "      <td>0.0</td>\n",
       "    </tr>\n",
       "    <tr>\n",
       "      <th>809154</th>\n",
       "      <td>-58.0</td>\n",
       "      <td>58.0</td>\n",
       "      <td>0.0</td>\n",
       "    </tr>\n",
       "    <tr>\n",
       "      <th>809156</th>\n",
       "      <td>-58.0</td>\n",
       "      <td>58.0</td>\n",
       "      <td>0.0</td>\n",
       "    </tr>\n",
       "    <tr>\n",
       "      <th>809158</th>\n",
       "      <td>-58.0</td>\n",
       "      <td>58.0</td>\n",
       "      <td>0.0</td>\n",
       "    </tr>\n",
       "    <tr>\n",
       "      <th>809160</th>\n",
       "      <td>-58.0</td>\n",
       "      <td>58.0</td>\n",
       "      <td>0.0</td>\n",
       "    </tr>\n",
       "    <tr>\n",
       "      <th>809178</th>\n",
       "      <td>-58.0</td>\n",
       "      <td>58.0</td>\n",
       "      <td>0.0</td>\n",
       "    </tr>\n",
       "    <tr>\n",
       "      <th>809161</th>\n",
       "      <td>-58.0</td>\n",
       "      <td>58.0</td>\n",
       "      <td>0.0</td>\n",
       "    </tr>\n",
       "    <tr>\n",
       "      <th>809164</th>\n",
       "      <td>-58.0</td>\n",
       "      <td>58.0</td>\n",
       "      <td>0.0</td>\n",
       "    </tr>\n",
       "    <tr>\n",
       "      <th>809165</th>\n",
       "      <td>-58.0</td>\n",
       "      <td>58.0</td>\n",
       "      <td>0.0</td>\n",
       "    </tr>\n",
       "    <tr>\n",
       "      <th>809166</th>\n",
       "      <td>-58.0</td>\n",
       "      <td>58.0</td>\n",
       "      <td>0.0</td>\n",
       "    </tr>\n",
       "    <tr>\n",
       "      <th>809168</th>\n",
       "      <td>-58.0</td>\n",
       "      <td>58.0</td>\n",
       "      <td>0.0</td>\n",
       "    </tr>\n",
       "    <tr>\n",
       "      <th>809171</th>\n",
       "      <td>-58.0</td>\n",
       "      <td>58.0</td>\n",
       "      <td>0.0</td>\n",
       "    </tr>\n",
       "    <tr>\n",
       "      <th>809174</th>\n",
       "      <td>-58.0</td>\n",
       "      <td>58.0</td>\n",
       "      <td>0.0</td>\n",
       "    </tr>\n",
       "  </tbody>\n",
       "</table>\n",
       "<p>200 rows × 3 columns</p>\n",
       "</div>"
      ],
      "text/plain": [
       "         Citation_Difference  Legacy_Count  Labs_Count\n",
       "recID                                                 \n",
       "299778               -1159.0        1478.0       319.0\n",
       "181166                -924.0        1728.0       804.0\n",
       "279039                -470.0         821.0       351.0\n",
       "794379                -445.0         508.0        63.0\n",
       "640063                -351.0         412.0        61.0\n",
       "744400                -342.0         342.0         0.0\n",
       "706151                -322.0         338.0        16.0\n",
       "656250                -315.0         484.0       169.0\n",
       "618647                -310.0         330.0        20.0\n",
       "345963                -305.0         316.0        11.0\n",
       "338625                -299.0         299.0         0.0\n",
       "487240                -299.0         341.0        42.0\n",
       "487241                -298.0         331.0        33.0\n",
       "391003                -284.0         310.0        26.0\n",
       "652597                -278.0        1619.0      1341.0\n",
       "250488                -262.0         272.0        10.0\n",
       "752478                -254.0         264.0        10.0\n",
       "406190                -252.0         277.0        25.0\n",
       "533080                -244.0         288.0        44.0\n",
       "205394                -230.0         623.0       393.0\n",
       "357130                -227.0         269.0        42.0\n",
       "593015                -217.0         217.0         0.0\n",
       "619666                -212.0         336.0       124.0\n",
       "252419                -207.0         222.0        15.0\n",
       "650093                -205.0         330.0       125.0\n",
       "806976                -205.0         328.0       123.0\n",
       "304853                -203.0         203.0         0.0\n",
       "1252132               -195.0         199.0         4.0\n",
       "922696                -189.0         313.0       124.0\n",
       "430948                -186.0         207.0        21.0\n",
       "...                      ...           ...         ...\n",
       "809194                 -58.0          58.0         0.0\n",
       "809195                 -58.0          58.0         0.0\n",
       "809196                 -58.0          58.0         0.0\n",
       "809202                 -58.0          58.0         0.0\n",
       "809197                 -58.0          58.0         0.0\n",
       "809198                 -58.0          58.0         0.0\n",
       "809180                 -58.0          58.0         0.0\n",
       "809199                 -58.0          58.0         0.0\n",
       "809181                 -58.0          58.0         0.0\n",
       "809155                 -58.0          58.0         0.0\n",
       "809179                 -58.0          58.0         0.0\n",
       "809159                 -58.0          58.0         0.0\n",
       "809205                 -58.0          58.0         0.0\n",
       "647004                 -58.0          58.0         0.0\n",
       "805478                 -58.0          58.0         0.0\n",
       "807023                 -58.0          58.0         0.0\n",
       "807024                 -58.0          58.0         0.0\n",
       "808478                 -58.0          58.0         0.0\n",
       "809154                 -58.0          58.0         0.0\n",
       "809156                 -58.0          58.0         0.0\n",
       "809158                 -58.0          58.0         0.0\n",
       "809160                 -58.0          58.0         0.0\n",
       "809178                 -58.0          58.0         0.0\n",
       "809161                 -58.0          58.0         0.0\n",
       "809164                 -58.0          58.0         0.0\n",
       "809165                 -58.0          58.0         0.0\n",
       "809166                 -58.0          58.0         0.0\n",
       "809168                 -58.0          58.0         0.0\n",
       "809171                 -58.0          58.0         0.0\n",
       "809174                 -58.0          58.0         0.0\n",
       "\n",
       "[200 rows x 3 columns]"
      ]
     },
     "execution_count": 67,
     "metadata": {},
     "output_type": "execute_result"
    }
   ],
   "source": [
    "f.iloc[:200]"
   ]
  },
  {
   "cell_type": "code",
   "execution_count": 32,
   "metadata": {},
   "outputs": [
    {
     "data": {
      "text/plain": [
       "Int64Index([ 299778,  181166,   54961,  279039,  533044, 1245018,    9113,\n",
       "             656250,  640063,  706151,\n",
       "            ...\n",
       "             809240,  809241,  805478,  809429,  809430,  800171,  811410,\n",
       "             809232,  809225,  809217],\n",
       "           dtype='int64', name='recID', length=200)"
      ]
     },
     "execution_count": 32,
     "metadata": {},
     "output_type": "execute_result"
    }
   ],
   "source": [
    "top_200_lost_core"
   ]
  },
  {
   "cell_type": "code",
   "execution_count": 39,
   "metadata": {},
   "outputs": [
    {
     "data": {
      "text/html": [
       "<div>\n",
       "<style scoped>\n",
       "    .dataframe tbody tr th:only-of-type {\n",
       "        vertical-align: middle;\n",
       "    }\n",
       "\n",
       "    .dataframe tbody tr th {\n",
       "        vertical-align: top;\n",
       "    }\n",
       "\n",
       "    .dataframe thead th {\n",
       "        text-align: right;\n",
       "    }\n",
       "</style>\n",
       "<table border=\"1\" class=\"dataframe\">\n",
       "  <thead>\n",
       "    <tr style=\"text-align: right;\">\n",
       "      <th></th>\n",
       "      <th>recID</th>\n",
       "      <th>oldRef</th>\n",
       "      <th>newRef</th>\n",
       "      <th>metaData</th>\n",
       "    </tr>\n",
       "  </thead>\n",
       "  <tbody>\n",
       "  </tbody>\n",
       "</table>\n",
       "</div>"
      ],
      "text/plain": [
       "Empty DataFrame\n",
       "Columns: [recID, oldRef, newRef, metaData]\n",
       "Index: []"
      ]
     },
     "execution_count": 39,
     "metadata": {},
     "output_type": "execute_result"
    }
   ],
   "source": [
    "records[(records.newRef == 809217)]"
   ]
  },
  {
   "cell_type": "code",
   "execution_count": 151,
   "metadata": {},
   "outputs": [
    {
     "data": {
      "text/plain": [
       "149056"
      ]
     },
     "execution_count": 151,
     "metadata": {},
     "output_type": "execute_result"
    }
   ],
   "source": [
    "len(exist_list)"
   ]
  },
  {
   "cell_type": "code",
   "execution_count": 152,
   "metadata": {},
   "outputs": [
    {
     "data": {
      "text/plain": [
       "6504"
      ]
     },
     "execution_count": 152,
     "metadata": {},
     "output_type": "execute_result"
    }
   ],
   "source": [
    "len(not_exist_list)"
   ]
  },
  {
   "cell_type": "code",
   "execution_count": null,
   "metadata": {},
   "outputs": [],
   "source": []
  }
 ],
 "metadata": {
  "kernelspec": {
   "display_name": "Python 3",
   "language": "python",
   "name": "python3"
  },
  "language_info": {
   "codemirror_mode": {
    "name": "ipython",
    "version": 3
   },
   "file_extension": ".py",
   "mimetype": "text/x-python",
   "name": "python",
   "nbconvert_exporter": "python",
   "pygments_lexer": "ipython3",
   "version": "3.5.2"
  }
 },
 "nbformat": 4,
 "nbformat_minor": 2
}
