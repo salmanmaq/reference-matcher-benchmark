{
 "cells": [
  {
   "cell_type": "markdown",
   "metadata": {},
   "source": [
    "### Load the Data"
   ]
  },
  {
   "cell_type": "code",
   "execution_count": 1,
   "metadata": {},
   "outputs": [],
   "source": [
    "import numpy as np\n",
    "import pandas as pd\n",
    "from collections import defaultdict\n",
    "import ast\n",
    "import matplotlib.pyplot as plt\n",
    "\n",
    "np.set_printoptions(threshold=np.nan)\n",
    "pd.options.display.max_colwidth = 1000"
   ]
  },
  {
   "cell_type": "code",
   "execution_count": 2,
   "metadata": {},
   "outputs": [
    {
     "name": "stdout",
     "output_type": "stream",
     "text": [
      "Total Records: 30230224\n",
      "CPU times: user 2min 33s, sys: 7.37 s, total: 2min 40s\n",
      "Wall time: 2min 41s\n"
     ]
    }
   ],
   "source": [
    "%%time\n",
    "\n",
    "# Read the records\n",
    "records = pd.read_csv('new-citations.tsv', sep='\\t', header=None)\n",
    "records.columns = ['recID', 'oldRef', 'newRef', 'metaData']\n",
    "\n",
    "print('Total Records: {}'.format(len(records)))"
   ]
  },
  {
   "cell_type": "code",
   "execution_count": 3,
   "metadata": {},
   "outputs": [
    {
     "name": "stdout",
     "output_type": "stream",
     "text": [
      "Total number of unattirbuted: 8485730\n",
      "CPU times: user 713 ms, sys: 200 ms, total: 913 ms\n",
      "Wall time: 917 ms\n"
     ]
    }
   ],
   "source": [
    "%%time\n",
    "\n",
    "# Filter out all the unattributed records\n",
    "un_attributed = records.newRef == 0\n",
    "unattributed = records[un_attributed]\n",
    "\n",
    "total_unattributed = len(unattributed)\n",
    "print('Total number of unattirbuted: {}'.format(total_unattributed))"
   ]
  },
  {
   "cell_type": "markdown",
   "metadata": {},
   "source": [
    "### Parse the metaData into a DataFrame"
   ]
  },
  {
   "cell_type": "code",
   "execution_count": null,
   "metadata": {
    "scrolled": true
   },
   "outputs": [],
   "source": [
    "%%time\n",
    "\n",
    "pi_count = 0\n",
    "rn_count = 0\n",
    "doi_count = 0\n",
    "misc_count = 0\n",
    "arxiv_count = 0\n",
    "isbn_count = 0\n",
    "other_count = 0\n",
    "\n",
    "for i, record in enumerate(unattributed.iterrows()):\n",
    "    \n",
    "    meta_data = ast.literal_eval(record[1]['metaData'])\n",
    "    \n",
    "    reference_info = meta_data.get('reference')\n",
    "    \n",
    "    if reference_info:\n",
    "\n",
    "        if reference_info.get('publication_info'):\n",
    "            pi_count += 1\n",
    "            \n",
    "        if reference_info.get('report_numbers'):\n",
    "            rn_count += 1\n",
    "\n",
    "        if reference_info.get('dois'):\n",
    "            doi_count += 1\n",
    "\n",
    "        if reference_info.get('misc'):\n",
    "            misc_count += 1\n",
    "            \n",
    "        if reference_info.get('arxiv_eprint'):\n",
    "            arxiv_count += 1\n",
    "\n",
    "        if reference_info.get('isbn'):\n",
    "            isbn_count += 1\n",
    "\n",
    "    else:\n",
    "        other_count += 1\n",
    "    \n",
    "    if i%1000 == 0:\n",
    "        print('Completed {} / {} - Counts: P{}, R{}, D{}, M{}, A{}, I{}, O{}'\n",
    "          .format(i + 1, total_unattributed, pi_count, rn_count, doi_count, misc_count,\n",
    "                 arxiv_count, isbn_count, other_count))"
   ]
  },
  {
   "cell_type": "code",
   "execution_count": 9,
   "metadata": {},
   "outputs": [
    {
     "name": "stdout",
     "output_type": "stream",
     "text": [
      "Total records: 8485730 - Final Counts: Publication Info: 6166111, Report Number: 97277, DOIs: 284393, Misc: 3881793, Arxiv: 100716, ISBN: 7612, Other: 685\n"
     ]
    }
   ],
   "source": [
    "print('Total records: {} - Final Counts: Publication Info: {}, Report Number: {}, DOIs: {}, Misc: {}, Arxiv: {}, ISBN: {}, Other: {}'\n",
    "    .format(total_unattributed, pi_count, rn_count, doi_count, misc_count,\n",
    "            arxiv_count, isbn_count, other_count))"
   ]
  }
 ],
 "metadata": {
  "kernelspec": {
   "display_name": "Python 3",
   "language": "python",
   "name": "python3"
  },
  "language_info": {
   "codemirror_mode": {
    "name": "ipython",
    "version": 3
   },
   "file_extension": ".py",
   "mimetype": "text/x-python",
   "name": "python",
   "nbconvert_exporter": "python",
   "pygments_lexer": "ipython3",
   "version": "3.5.2"
  }
 },
 "nbformat": 4,
 "nbformat_minor": 2
}
