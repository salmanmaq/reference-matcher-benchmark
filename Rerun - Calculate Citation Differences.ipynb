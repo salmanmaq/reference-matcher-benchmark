{
 "cells": [
  {
   "cell_type": "code",
   "execution_count": 98,
   "metadata": {},
   "outputs": [],
   "source": [
    "import numpy as np\n",
    "import pandas as pd\n",
    "import os\n",
    "\n",
    "pd.options.display.max_colwidth = 1000"
   ]
  },
  {
   "cell_type": "code",
   "execution_count": 99,
   "metadata": {},
   "outputs": [],
   "source": [
    "csv_save_dir = 'output_csvs_new'\n",
    "if not os.path.exists(csv_save_dir):\n",
    "    os.makedirs(csv_save_dir)"
   ]
  },
  {
   "cell_type": "code",
   "execution_count": 3,
   "metadata": {},
   "outputs": [
    {
     "name": "stdout",
     "output_type": "stream",
     "text": [
      "Total Records: 30230936\n",
      "CPU times: user 2min 39s, sys: 8.49 s, total: 2min 47s\n",
      "Wall time: 2min 50s\n"
     ]
    }
   ],
   "source": [
    "%%time\n",
    "\n",
    "# Read information for the new records\n",
    "records = pd.read_csv('new-citations-rerun.tsv', sep='\\t', header=None)\n",
    "records.columns = ['recID', 'oldRef', 'newRef', 'metaData']\n",
    "\n",
    "print('Total Records: {}'.format(len(records)))"
   ]
  },
  {
   "cell_type": "code",
   "execution_count": 100,
   "metadata": {},
   "outputs": [],
   "source": [
    "# Read the new citation counts\n",
    "labs = pd.read_csv('new-citation-counts-rerun.tsv', sep='\\t', header=None)\n",
    "labs.columns = ['recID', 'Citation_Difference']\n",
    "\n",
    "# Index by recIDs\n",
    "labs_indexed = labs.set_index('recID')"
   ]
  },
  {
   "cell_type": "code",
   "execution_count": 101,
   "metadata": {},
   "outputs": [],
   "source": [
    "# Read the citation counts before update\n",
    "labs_old = pd.read_csv('new-citation-counts.tsv', sep='\\t', header=None)\n",
    "labs_old.columns = ['recID', 'Citation_Difference']\n",
    "\n",
    "# Index by recIDs\n",
    "labs_indexed_old = labs_old.set_index('recID')"
   ]
  },
  {
   "cell_type": "code",
   "execution_count": 102,
   "metadata": {},
   "outputs": [],
   "source": [
    "# Read the legacy citation counts\n",
    "legacy = pd.read_csv('old-citation-counts.tsv', sep='\\t')\n",
    "legacy.columns = ['recID', 'Citation_Difference']\n",
    "\n",
    "# Index by recrod IDs\n",
    "legacy_indexed = legacy.set_index('recID')"
   ]
  },
  {
   "cell_type": "code",
   "execution_count": 103,
   "metadata": {},
   "outputs": [],
   "source": [
    "# Compute the difference in citation counts between Labs and Legacy\n",
    "diff = labs_indexed - legacy_indexed\n",
    "diff_old = labs_indexed_old - legacy_indexed"
   ]
  },
  {
   "cell_type": "code",
   "execution_count": 104,
   "metadata": {},
   "outputs": [
    {
     "name": "stdout",
     "output_type": "stream",
     "text": [
      "11434 articles are differently indexed between the legacy and labs records and have no correspondence\n"
     ]
    }
   ],
   "source": [
    "# Filter out the NaNs\n",
    "is_nan = diff.Citation_Difference.isna()\n",
    "NaN_entries = diff[is_nan]\n",
    "\n",
    "print('{} articles are differently indexed between the legacy and labs records and have no correspondence'.format(len(NaN_entries)))"
   ]
  },
  {
   "cell_type": "code",
   "execution_count": 105,
   "metadata": {},
   "outputs": [
    {
     "name": "stdout",
     "output_type": "stream",
     "text": [
      "6032 articles are differently indexed between the legacy and labs (old run) records and have no correspondence\n"
     ]
    }
   ],
   "source": [
    "# Filter out the NaNs (old)\n",
    "is_nan_old = diff_old.Citation_Difference.isna()\n",
    "NaN_entries_old = diff_old[is_nan_old]\n",
    "\n",
    "print('{} articles are differently indexed between the legacy and labs (old run) records and have no correspondence'.format(len(NaN_entries_old)))"
   ]
  },
  {
   "cell_type": "code",
   "execution_count": 106,
   "metadata": {},
   "outputs": [],
   "source": [
    "# Filter the valid entries\n",
    "is_valid = ~diff.Citation_Difference.isna()\n",
    "valid_diff = diff[is_valid]\n",
    "\n",
    "is_valid_old = ~diff_old.Citation_Difference.isna()\n",
    "valid_diff_old = diff_old[is_valid_old]"
   ]
  },
  {
   "cell_type": "code",
   "execution_count": 107,
   "metadata": {},
   "outputs": [
    {
     "name": "stdout",
     "output_type": "stream",
     "text": [
      "Total 50426 articles lost citations in the Labs algorithm, with maximum lost count being Citation_Difference   -1148.0\n",
      "dtype: float64\n"
     ]
    }
   ],
   "source": [
    "# Get the articles which have lost citations\n",
    "lost = valid_diff.Citation_Difference < 0\n",
    "lost_citations = valid_diff[lost]\n",
    "print('Total {} articles lost citations in the Labs algorithm, with maximum lost count being {}'.format(\n",
    "    len(lost_citations), lost_citations.min()))\n",
    "\n",
    "# Sort the list\n",
    "lost_citations = lost_citations.sort_values('Citation_Difference')"
   ]
  },
  {
   "cell_type": "code",
   "execution_count": 108,
   "metadata": {},
   "outputs": [
    {
     "name": "stdout",
     "output_type": "stream",
     "text": [
      "Total 46256 articles lost citations in the old Labs algorithm, with maximum lost count being Citation_Difference   -1023.0\n",
      "dtype: float64\n"
     ]
    }
   ],
   "source": [
    "# Get the articles which have lost citations (old)\n",
    "lost_old = valid_diff_old.Citation_Difference < 0\n",
    "lost_citations_old = valid_diff_old[lost_old]\n",
    "print('Total {} articles lost citations in the old Labs algorithm, with maximum lost count being {}'.format(\n",
    "    len(lost_citations_old), lost_citations_old.min()))\n",
    "\n",
    "# Sort the list\n",
    "lost_citations_old = lost_citations_old.sort_values('Citation_Difference')"
   ]
  },
  {
   "cell_type": "code",
   "execution_count": 109,
   "metadata": {},
   "outputs": [
    {
     "name": "stdout",
     "output_type": "stream",
     "text": [
      "Total 17141 articles gained citations in the Labs algorithm, with maximum gained count being Citation_Difference    267.0\n",
      "dtype: float64\n"
     ]
    }
   ],
   "source": [
    "# Get the articles which have gained citations\n",
    "gained = valid_diff.Citation_Difference > 0\n",
    "gained_citations = valid_diff[gained]\n",
    "print('Total {} articles gained citations in the Labs algorithm, with maximum gained count being {}'.format(\n",
    "    len(gained_citations), gained_citations.max()))\n",
    "\n",
    "# Sort the list\n",
    "gained_citations = gained_citations.sort_values('Citation_Difference', ascending=False)"
   ]
  },
  {
   "cell_type": "code",
   "execution_count": 110,
   "metadata": {},
   "outputs": [
    {
     "name": "stdout",
     "output_type": "stream",
     "text": [
      "Total 19416 articles gained citations in the old Labs algorithm, with maximum gained count being Citation_Difference    408.0\n",
      "dtype: float64\n"
     ]
    }
   ],
   "source": [
    "# Get the articles which have gained citations (old)\n",
    "gained_old = valid_diff_old.Citation_Difference > 0\n",
    "gained_citations_old = valid_diff_old[gained_old]\n",
    "print('Total {} articles gained citations in the old Labs algorithm, with maximum gained count being {}'.format(\n",
    "    len(gained_citations_old), gained_citations_old.max()))\n",
    "\n",
    "# Sort the list\n",
    "gained_citations_old = gained_citations_old.sort_values('Citation_Difference', ascending=False)"
   ]
  },
  {
   "cell_type": "code",
   "execution_count": 111,
   "metadata": {},
   "outputs": [],
   "source": [
    "# Get the counts for absolute differences in citation numbers\n",
    "abs_diff = np.abs(valid_diff)\n",
    "abs_diff = abs_diff.sort_values('Citation_Difference', ascending=False)\n",
    "\n",
    "# Filter out the zero difference entries\n",
    "non_zero_diff = abs_diff.Citation_Difference != 0\n",
    "abs_diff = abs_diff[non_zero_diff]"
   ]
  },
  {
   "cell_type": "code",
   "execution_count": 112,
   "metadata": {},
   "outputs": [],
   "source": [
    "# Get the counts for absolute differences in citation numbers (old)\n",
    "abs_diff_old = np.abs(valid_diff_old)\n",
    "abs_diff_old = abs_diff_old.sort_values('Citation_Difference', ascending=False)\n",
    "\n",
    "# Filter out the zero difference entries\n",
    "non_zero_diff_old = abs_diff_old.Citation_Difference != 0\n",
    "abs_diff_old = abs_diff_old[non_zero_diff_old]"
   ]
  },
  {
   "cell_type": "code",
   "execution_count": 113,
   "metadata": {},
   "outputs": [],
   "source": [
    "# Initialize extended DataFrames for the differences\n",
    "lost_citations_ext = lost_citations\n",
    "gained_citations_ext = gained_citations\n",
    "abs_diff_ext = abs_diff\n",
    "\n",
    "# For lost citations\n",
    "lost_citations_ext['Legacy_Count'] = legacy_indexed.loc[lost_citations.index]\n",
    "lost_citations_ext['Labs_Count'] = labs_indexed.loc[lost_citations.index]\n",
    "\n",
    "# For gained citations\n",
    "gained_citations_ext['Legacy_Count'] = legacy_indexed.loc[gained_citations.index]\n",
    "gained_citations_ext['Labs_Count'] = labs_indexed.loc[gained_citations.index]\n",
    "\n",
    "# For absolute difference in citation counts\n",
    "abs_diff_ext['Legacy_Count'] = legacy_indexed.loc[abs_diff.index]\n",
    "abs_diff_ext['Labs_Count'] = labs_indexed.loc[abs_diff.index]"
   ]
  },
  {
   "cell_type": "code",
   "execution_count": 114,
   "metadata": {},
   "outputs": [],
   "source": [
    "# Initialize extended DataFrames for the differences (old)\n",
    "lost_citations_ext_old = lost_citations_old\n",
    "gained_citations_ext_old = gained_citations_old\n",
    "abs_diff_ext_old = abs_diff_old\n",
    "\n",
    "# For lost citations\n",
    "lost_citations_ext_old['Legacy_Count'] = legacy_indexed.loc[lost_citations_old.index]\n",
    "lost_citations_ext_old['Labs_Count'] = labs_indexed_old.loc[lost_citations_old.index]\n",
    "\n",
    "# For gained citations\n",
    "gained_citations_ext_old['Legacy_Count'] = legacy_indexed.loc[gained_citations_old.index]\n",
    "gained_citations_ext_old['Labs_Count'] = labs_indexed_old.loc[gained_citations_old.index]\n",
    "\n",
    "# For absolute difference in citation counts\n",
    "abs_diff_ext_old['Legacy_Count'] = legacy_indexed.loc[abs_diff_old.index]\n",
    "abs_diff_ext_old['Labs_Count'] = labs_indexed_old.loc[abs_diff_old.index]"
   ]
  },
  {
   "cell_type": "code",
   "execution_count": 115,
   "metadata": {},
   "outputs": [],
   "source": [
    "# Save the citation difference DataFrames to CSV Files\n",
    "lost_citations_ext.to_csv(os.path.join(csv_save_dir, 'lost_citations.csv'))\n",
    "gained_citations_ext.to_csv(os.path.join(csv_save_dir, 'gained_citations.csv'))\n",
    "abs_diff_ext.to_csv(os.path.join(csv_save_dir, 'overall_difference.csv'))"
   ]
  },
  {
   "cell_type": "markdown",
   "metadata": {},
   "source": [
    "### Some useful statistics"
   ]
  },
  {
   "cell_type": "code",
   "execution_count": 116,
   "metadata": {},
   "outputs": [
    {
     "name": "stdout",
     "output_type": "stream",
     "text": [
      "Total number of unique Cited articles as per legacy: 760203\n",
      "Total number of unique Cited articles as per Labs: 753443\n",
      "Difference in Number between the Legacy and Labs Records: 6760\n",
      "\n",
      "Total Number of Unique Articles which cite other papers: 942172\n",
      "\n",
      "Number of Cited articles with zero difference: 683539\n",
      "Percentage of Cited articles with zero difference: 89.92 %\n"
     ]
    }
   ],
   "source": [
    "# Indicate Number of articles with zero differences in citation counts\n",
    "num_cited_legacy = len(legacy.index.unique())\n",
    "num_cited_labs = len(labs.index.unique())\n",
    "num_unique_articles = len(records.recID.unique())\n",
    "print('Total number of unique Cited articles as per legacy: {}'.format(num_cited_legacy))\n",
    "print('Total number of unique Cited articles as per Labs: {}'.format(num_cited_labs))\n",
    "print('Difference in Number between the Legacy and Labs Records: {}'.format(num_cited_legacy - num_cited_labs))\n",
    "print('\\nTotal Number of Unique Articles which cite other papers: {}\\n'.format(num_unique_articles))\n",
    "\n",
    "num_zero_diff = valid_diff.Citation_Difference.value_counts()[0]\n",
    "zero_diff = num_zero_diff / num_cited_legacy * 100\n",
    "print('Number of Cited articles with zero difference: {}'.format(num_zero_diff))\n",
    "print('Percentage of Cited articles with zero difference: {0:0.2f} %'.format(zero_diff))"
   ]
  },
  {
   "cell_type": "code",
   "execution_count": 117,
   "metadata": {},
   "outputs": [
    {
     "name": "stdout",
     "output_type": "stream",
     "text": [
      "Total number of unique Cited articles as per legacy: 760203\n",
      "Total number of unique Cited articles as per Labs: 759481\n",
      "Difference in Number between the Legacy and Labs Records: 722\n",
      "\n",
      "Total Number of Unique Articles which cite other papers: 942172\n",
      "\n",
      "Number of Cited articles with zero difference: 691154\n",
      "Percentage of Cited articles with zero difference: 90.92 %\n"
     ]
    }
   ],
   "source": [
    "# Indicate Number of articles with zero differences in citation counts (old)\n",
    "num_cited_legacy_old = len(legacy.index.unique())\n",
    "num_cited_labs_old = len(labs_old.index.unique())\n",
    "num_unique_articles_old = len(records.recID.unique())\n",
    "print('Total number of unique Cited articles as per legacy: {}'.format(num_cited_legacy_old))\n",
    "print('Total number of unique Cited articles as per Labs: {}'.format(num_cited_labs_old))\n",
    "print('Difference in Number between the Legacy and Labs Records: {}'.format(num_cited_legacy_old - num_cited_labs_old))\n",
    "print('\\nTotal Number of Unique Articles which cite other papers: {}\\n'.format(num_unique_articles_old))\n",
    "\n",
    "num_zero_diff_old = valid_diff_old.Citation_Difference.value_counts()[0]\n",
    "zero_diff_old = num_zero_diff_old / num_cited_legacy_old * 100\n",
    "print('Number of Cited articles with zero difference: {}'.format(num_zero_diff_old))\n",
    "print('Percentage of Cited articles with zero difference: {0:0.2f} %'.format(zero_diff_old))"
   ]
  },
  {
   "cell_type": "code",
   "execution_count": 118,
   "metadata": {},
   "outputs": [
    {
     "name": "stdout",
     "output_type": "stream",
     "text": [
      "Percent (%) of Citation Counts Difference in Labs\n",
      "1.0    7.017994\n",
      "2.0    1.024989\n",
      "3.0    0.321493\n",
      "4.0    0.149960\n",
      "5.0    0.084451\n",
      "Name: Citation_Difference, dtype: float64\n",
      "\n",
      "Total 2198 records with difference greater than 5 - Percentage: 0.28913329729032905 %\n",
      "\n"
     ]
    }
   ],
   "source": [
    "# Percentage Differences for absolute differences\n",
    "abs_diff_counts = abs_diff.Citation_Difference.value_counts()\n",
    "print('Percent (%) of Citation Counts Difference in Labs')\n",
    "print(abs_diff_counts[:5] / num_cited_legacy * 100)\n",
    "\n",
    "num_grt5 = sum(abs_diff_counts[6:])\n",
    "percent_grt5 = num_grt5 / num_cited_legacy * 100\n",
    "print('\\nTotal {} records with difference greater than 5 - Percentage: {} %\\n'.format(num_grt5, percent_grt5))"
   ]
  },
  {
   "cell_type": "code",
   "execution_count": 119,
   "metadata": {},
   "outputs": [
    {
     "name": "stdout",
     "output_type": "stream",
     "text": [
      "Percent (%) of Citation Counts Difference in Labs\n",
      "1.0    6.652828\n",
      "2.0    0.992498\n",
      "3.0    0.330307\n",
      "4.0    0.168508\n",
      "5.0    0.100499\n",
      "Name: Citation_Difference, dtype: float64\n",
      "\n",
      "Total 2996 records with difference greater than 5 - Percentage: 0.3941052587269453 %\n",
      "\n"
     ]
    }
   ],
   "source": [
    "# Percentage Differences for absolute differences (old)\n",
    "abs_diff_counts_old = abs_diff_old.Citation_Difference.value_counts()\n",
    "print('Percent (%) of Citation Counts Difference in Labs')\n",
    "print(abs_diff_counts_old[:5] / num_cited_legacy_old * 100)\n",
    "\n",
    "num_grt5_old = sum(abs_diff_counts_old[6:])\n",
    "percent_grt5_old = num_grt5_old / num_cited_legacy_old * 100\n",
    "print('\\nTotal {} records with difference greater than 5 - Percentage: {} %\\n'.format(num_grt5_old, percent_grt5_old))"
   ]
  },
  {
   "cell_type": "code",
   "execution_count": 120,
   "metadata": {},
   "outputs": [
    {
     "name": "stdout",
     "output_type": "stream",
     "text": [
      "Percent (%) of Citation Counts Lost in Labs\n",
      "-1.0    5.254912\n",
      "-2.0    0.782160\n",
      "-3.0    0.227439\n",
      "-4.0    0.101552\n",
      "-5.0    0.055906\n",
      "Name: Citation_Difference, dtype: float64\n",
      "\n",
      "Total 1606 records with lost citations greater than 5 - Percentage: 0.21125936098647335 %\n",
      "\n"
     ]
    }
   ],
   "source": [
    "# Percentage Differences for lost citations\n",
    "lost_citations_count = lost_citations.Citation_Difference.value_counts()\n",
    "lost_percent_diff = lost_citations_count/ num_cited_legacy * 100\n",
    "print('Percent (%) of Citation Counts Lost in Labs')\n",
    "print(lost_percent_diff[:-5])\n",
    "\n",
    "lost_grt5 = sum(lost_citations_count[-6:])\n",
    "lost_percent_grt5 = lost_grt5 / num_cited_legacy * 100\n",
    "print('\\nTotal {} records with lost citations greater than 5 - Percentage: {} %\\n'.format(lost_grt5, lost_percent_grt5))"
   ]
  },
  {
   "cell_type": "code",
   "execution_count": 121,
   "metadata": {},
   "outputs": [
    {
     "name": "stdout",
     "output_type": "stream",
     "text": [
      "Percent (%) of Citation Counts Lost in Labs\n",
      "-1.0    4.818450\n",
      "-2.0    0.701655\n",
      "-3.0    0.201788\n",
      "-4.0    0.091949\n",
      "-5.0    0.050381\n",
      "Name: Citation_Difference, dtype: float64\n",
      "\n",
      "Total 1676 records with lost citations greater than 5 - Percentage: 0.22046742777915898 %\n",
      "\n"
     ]
    }
   ],
   "source": [
    "# Percentage Differences for lost citations (old)\n",
    "lost_citations_count_old = lost_citations_old.Citation_Difference.value_counts()\n",
    "lost_percent_diff_old = lost_citations_count_old/ num_cited_legacy_old * 100\n",
    "print('Percent (%) of Citation Counts Lost in Labs')\n",
    "print(lost_percent_diff_old[:-5])\n",
    "\n",
    "lost_grt5_old = sum(lost_citations_count_old[-6:])\n",
    "lost_percent_grt5_old = lost_grt5_old / num_cited_legacy_old * 100\n",
    "print('\\nTotal {} records with lost citations greater than 5 - Percentage: {} %\\n'.format(lost_grt5_old, lost_percent_grt5_old))"
   ]
  },
  {
   "cell_type": "code",
   "execution_count": 122,
   "metadata": {},
   "outputs": [
    {
     "name": "stdout",
     "output_type": "stream",
     "text": [
      "Percent (%) of Citation Counts Gained in Labs\n",
      "1.0    1.763082\n",
      "2.0    0.242830\n",
      "3.0    0.094054\n",
      "4.0    0.048408\n",
      "5.0    0.028545\n",
      "Name: Citation_Difference, dtype: float64\n",
      "\n",
      "Total 592 records with gained citations greater than 5 - Percentage: 0.07787393630385568 %\n",
      "\n"
     ]
    }
   ],
   "source": [
    "# Percentage Differences for gained citations\n",
    "gained_citations_count = gained_citations.Citation_Difference.value_counts()\n",
    "gained_percent_diff = gained_citations_count/ num_cited_legacy * 100\n",
    "print('Percent (%) of Citation Counts Gained in Labs')\n",
    "print(gained_percent_diff[:5])\n",
    "\n",
    "gained_grt5 = sum(gained_citations_count[6:])\n",
    "gained_percent_grt5 = gained_grt5 / num_cited_legacy * 100\n",
    "print('\\nTotal {} records with gained citations greater than 5 - Percentage: {} %\\n'.format(gained_grt5, gained_percent_grt5))"
   ]
  },
  {
   "cell_type": "code",
   "execution_count": 123,
   "metadata": {},
   "outputs": [
    {
     "name": "stdout",
     "output_type": "stream",
     "text": [
      "Percent (%) of Citation Counts Gained in Labs\n",
      "1.0    1.834378\n",
      "2.0    0.290843\n",
      "3.0    0.128518\n",
      "4.0    0.076558\n",
      "5.0    0.050118\n",
      "Name: Citation_Difference, dtype: float64\n",
      "\n",
      "Total 1320 records with gained citations greater than 5 - Percentage: 0.17363783094778631 %\n",
      "\n"
     ]
    }
   ],
   "source": [
    "# Percentage Differences for gained citations (old)\n",
    "gained_citations_count_old = gained_citations_old.Citation_Difference.value_counts()\n",
    "gained_percent_diff_old = gained_citations_count_old/ num_cited_legacy_old * 100\n",
    "print('Percent (%) of Citation Counts Gained in Labs')\n",
    "print(gained_percent_diff_old[:5])\n",
    "\n",
    "gained_grt5_old = sum(gained_citations_count_old[6:])\n",
    "gained_percent_grt5_old = gained_grt5_old / num_cited_legacy_old * 100\n",
    "print('\\nTotal {} records with gained citations greater than 5 - Percentage: {} %\\n'.format(gained_grt5_old, gained_percent_grt5_old))"
   ]
  },
  {
   "cell_type": "markdown",
   "metadata": {},
   "source": [
    "### Further checking functionality"
   ]
  },
  {
   "cell_type": "code",
   "execution_count": 124,
   "metadata": {},
   "outputs": [],
   "source": [
    "# Get all the records in both oldRef and newRef which are unique\n",
    "old_unique = pd.DataFrame(records.oldRef.unique())\n",
    "new_unique = pd.DataFrame(records.newRef.unique())"
   ]
  },
  {
   "cell_type": "code",
   "execution_count": 125,
   "metadata": {},
   "outputs": [],
   "source": [
    "# Get the lists of records which are in Labs but not Legacy and vice-versa\n",
    "old_unique_diff = np.isin(old_unique, new_unique, assume_unique=True)\n",
    "new_unique_diff = np.isin(new_unique, old_unique, assume_unique=True)\n",
    "\n",
    "labs_only = new_unique[~new_unique_diff]\n",
    "legacy_only = old_unique[~old_unique_diff]"
   ]
  },
  {
   "cell_type": "code",
   "execution_count": 126,
   "metadata": {},
   "outputs": [],
   "source": [
    "# Import the records as CSV\n",
    "legacy_only.to_csv(os.path.join(csv_save_dir, 'legacy_only.csv'), index=False)\n",
    "labs_only.to_csv(os.path.join(csv_save_dir, 'labs_only.csv'), index=False)"
   ]
  }
 ],
 "metadata": {
  "kernelspec": {
   "display_name": "Python 3",
   "language": "python",
   "name": "python3"
  },
  "language_info": {
   "codemirror_mode": {
    "name": "ipython",
    "version": 3
   },
   "file_extension": ".py",
   "mimetype": "text/x-python",
   "name": "python",
   "nbconvert_exporter": "python",
   "pygments_lexer": "ipython3",
   "version": "3.5.2"
  }
 },
 "nbformat": 4,
 "nbformat_minor": 2
}
