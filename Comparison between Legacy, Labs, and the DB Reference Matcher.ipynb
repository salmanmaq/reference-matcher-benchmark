{
 "cells": [
  {
   "cell_type": "code",
   "execution_count": 1,
   "metadata": {},
   "outputs": [],
   "source": [
    "import numpy as np\n",
    "import pandas as pd\n",
    "import os\n",
    "import matplotlib.pyplot as plt\n",
    "\n",
    "pd.options.display.max_colwidth = 1000"
   ]
  },
  {
   "cell_type": "code",
   "execution_count": 2,
   "metadata": {},
   "outputs": [
    {
     "data": {
      "text/plain": [
       "769457"
      ]
     },
     "execution_count": 2,
     "metadata": {},
     "output_type": "execute_result"
    }
   ],
   "source": [
    "# Read the Labs citation counts\n",
    "labs = pd.read_csv('new-citation-counts-NEWAUG2018.tsv', sep='\\t', header=None)\n",
    "labs.columns = ['recID', 'Citation_Difference']\n",
    "# Citation_Difference is actually citation count but is used here for ease later when subtracting\n",
    "\n",
    "# Index by recIDs\n",
    "labs_indexed = labs.set_index('recID')\n",
    "len(labs_indexed)"
   ]
  },
  {
   "cell_type": "code",
   "execution_count": 3,
   "metadata": {},
   "outputs": [
    {
     "data": {
      "text/plain": [
       "776108"
      ]
     },
     "execution_count": 3,
     "metadata": {},
     "output_type": "execute_result"
    }
   ],
   "source": [
    "# Read the legacy citation counts\n",
    "legacy = pd.read_csv('old-citation-counts-AUG2018.csv', sep=',')\n",
    "legacy.columns = ['recID', 'Citation_Difference', 'Timestamp']\n",
    "# Citation_Difference is actually citation count but is used here for ease later when subtracting\n",
    "legacy = legacy.drop(['Timestamp'], axis='columns')\n",
    "\n",
    "# Index by recrod IDs\n",
    "legacy_indexed = legacy.set_index('recID')\n",
    "len(legacy_indexed)"
   ]
  },
  {
   "cell_type": "code",
   "execution_count": 4,
   "metadata": {},
   "outputs": [
    {
     "data": {
      "text/plain": [
       "1286536"
      ]
     },
     "execution_count": 4,
     "metadata": {},
     "output_type": "execute_result"
    }
   ],
   "source": [
    "# Read the db citation counts\n",
    "db = pd.read_csv('literature_count_NEWAUG2018.csv', sep=',')\n",
    "db.columns = ['recID', 'Citation_Difference']\n",
    "# Citation_Difference is actually citation count but is used here for ease later when subtracting\n",
    "\n",
    "# Index by recIDs\n",
    "db_indexed = db.set_index('recID')\n",
    "\n",
    "len(db_indexed)"
   ]
  },
  {
   "cell_type": "code",
   "execution_count": 5,
   "metadata": {},
   "outputs": [],
   "source": [
    "# Load the core records list\n",
    "core_list = pd.read_csv('inspire_core_list_NEWAUG2018.txt', sep='\\n', header=None)"
   ]
  },
  {
   "cell_type": "markdown",
   "metadata": {},
   "source": [
    "### Difference between Labs and DB"
   ]
  },
  {
   "cell_type": "code",
   "execution_count": 23,
   "metadata": {},
   "outputs": [],
   "source": [
    "diff_labs_db = db_indexed - labs_indexed"
   ]
  },
  {
   "cell_type": "code",
   "execution_count": 24,
   "metadata": {},
   "outputs": [],
   "source": [
    "diff_labs_db_valid = diff_labs_db[~diff_labs_db.Citation_Difference.isna()]\n",
    "diff_labs_db_valid = diff_labs_db_valid.sort_values('Citation_Difference')"
   ]
  },
  {
   "cell_type": "code",
   "execution_count": 25,
   "metadata": {},
   "outputs": [
    {
     "name": "stdout",
     "output_type": "stream",
     "text": [
      "694354 records have 0 difference\n"
     ]
    }
   ],
   "source": [
    "diff_labs_db_valid_zero_diff = diff_labs_db_valid[diff_labs_db_valid.Citation_Difference == 0]\n",
    "print('{} records have 0 difference'.format(len(diff_labs_db_valid_zero_diff)))"
   ]
  },
  {
   "cell_type": "code",
   "execution_count": 28,
   "metadata": {},
   "outputs": [
    {
     "name": "stdout",
     "output_type": "stream",
     "text": [
      "769387 records have some difference\n"
     ]
    }
   ],
   "source": [
    "diff_labs_db_valid_abs_diff = diff_labs_db_valid[diff_labs_db_valid.Citation_Difference != 0]\n",
    "diff_labs_db_valid_abs_diff = np.abs(diff_labs_db_valid)\n",
    "diff_labs_db_valid_abs_diff = diff_labs_db_valid_abs_diff.sort_values('Citation_Difference', ascending=False)\n",
    "print('{} records have some difference'.format(len(diff_labs_db_valid_abs_diff)))"
   ]
  },
  {
   "cell_type": "code",
   "execution_count": 30,
   "metadata": {},
   "outputs": [
    {
     "name": "stdout",
     "output_type": "stream",
     "text": [
      "51653 records have lost citations\n"
     ]
    }
   ],
   "source": [
    "diff_labs_db_valid_lost_citations  = diff_labs_db_valid[diff_labs_db_valid.Citation_Difference < 0]\n",
    "diff_labs_db_valid_lost_citations = diff_labs_db_valid_lost_citations.sort_values('Citation_Difference')\n",
    "print('{} records have lost citations'.format(len(diff_labs_db_valid_lost_citations)))"
   ]
  },
  {
   "cell_type": "code",
   "execution_count": 31,
   "metadata": {},
   "outputs": [
    {
     "name": "stdout",
     "output_type": "stream",
     "text": [
      "23380 records have gained citations\n"
     ]
    }
   ],
   "source": [
    "diff_labs_db_valid_gained_citations  = diff_labs_db_valid[diff_labs_db_valid.Citation_Difference > 0]\n",
    "diff_labs_db_valid_gained_citations = diff_labs_db_valid_gained_citations.sort_values('Citation_Difference', ascending=False)\n",
    "print('{} records have gained citations'.format(len(diff_labs_db_valid_gained_citations)))"
   ]
  },
  {
   "cell_type": "code",
   "execution_count": 32,
   "metadata": {},
   "outputs": [],
   "source": [
    "# Get the extended data frames\n",
    "# Initialize extended DataFrames for the \"invalid\" differences\n",
    "labs_db_abs_diff_ext = diff_labs_db_valid_abs_diff\n",
    "labs_db_lost_citations_ext = diff_labs_db_valid_lost_citations\n",
    "labs_db_gained_citations_ext = diff_labs_db_valid_gained_citations\n",
    "\n",
    "# For absolute difference\n",
    "labs_db_abs_diff_ext['DB_Count'] = db_indexed.loc[diff_labs_db_valid_abs_diff.index]\n",
    "labs_db_abs_diff_ext['Labs_Count'] = labs_indexed.loc[diff_labs_db_valid_abs_diff.index]\n",
    "\n",
    "# For lost citations\n",
    "labs_db_lost_citations_ext['DB_Count'] = db_indexed.loc[diff_labs_db_valid_lost_citations.index]\n",
    "labs_db_lost_citations_ext['Labs_Count'] = labs_indexed.loc[diff_labs_db_valid_lost_citations.index]\n",
    "\n",
    "# For gained citations\n",
    "labs_db_gained_citations_ext['DB_Count'] = db_indexed.loc[diff_labs_db_valid_gained_citations.index]\n",
    "labs_db_gained_citations_ext['Labs_Count'] = labs_indexed.loc[diff_labs_db_valid_gained_citations.index]"
   ]
  },
  {
   "cell_type": "markdown",
   "metadata": {},
   "source": [
    "##### Statistics"
   ]
  },
  {
   "cell_type": "code",
   "execution_count": 33,
   "metadata": {},
   "outputs": [
    {
     "name": "stdout",
     "output_type": "stream",
     "text": [
      "Union of the above two - Total unique cited articles: 769387\n",
      "Number of Cited articles with zero difference: 694354\n",
      "Percentage of Cited articles with zero difference: 90.25 %\n"
     ]
    }
   ],
   "source": [
    "# Indicate Number of articles with zero differences in citation counts\n",
    "total_unique_cited_articles = len(diff_labs_db_valid)\n",
    "print('Union of the above two - Total unique cited articles: {}'.format(total_unique_cited_articles))\n",
    "\n",
    "num_zero_diff = diff_labs_db_valid.Citation_Difference.value_counts()[0]\n",
    "percent_zero_diff = num_zero_diff / total_unique_cited_articles * 100\n",
    "print('Number of Cited articles with zero difference: {}'.format(num_zero_diff))\n",
    "print('Percentage of Cited articles with zero difference: {0:0.2f} %'.format(percent_zero_diff))"
   ]
  },
  {
   "cell_type": "code",
   "execution_count": 34,
   "metadata": {},
   "outputs": [
    {
     "name": "stdout",
     "output_type": "stream",
     "text": [
      "Total Number of article with changes in citation counts in Labs: 769387\n",
      "\n",
      "Number of articles with changes in Citation Counts in Labs\n",
      "0.0    694354\n",
      "1.0     55896\n",
      "2.0      9836\n",
      "3.0      3544\n",
      "4.0      1703\n",
      "5.0       946\n",
      "Name: Citation_Difference, dtype: int64\n",
      "\n",
      "Percent (%) of Citation Counts Difference in Labs\n",
      "0.0    90.247691\n",
      "1.0     7.265004\n",
      "2.0     1.278420\n",
      "3.0     0.460626\n",
      "4.0     0.221345\n",
      "5.0     0.122955\n",
      "Name: Citation_Difference, dtype: float64\n",
      "\n",
      "Total 3108 records with difference greater than 5 - Percentage: 0.4039579561391082 %\n",
      "\n"
     ]
    }
   ],
   "source": [
    "# Percentage Differences for absolute differences\n",
    "abs_diff_counts = labs_db_abs_diff_ext.Citation_Difference.value_counts()\n",
    "print('Total Number of article with changes in citation counts in Labs: {}'.format(len(labs_db_abs_diff_ext)))\n",
    "\n",
    "print('\\nNumber of articles with changes in Citation Counts in Labs')\n",
    "print(abs_diff_counts[:5])\n",
    "\n",
    "print('\\nPercent (%) of Citation Counts Difference in Labs')\n",
    "print(abs_diff_counts[:5] / total_unique_cited_articles * 100)\n",
    "\n",
    "num_grt5 = sum(abs_diff_counts[6:])\n",
    "percent_grt5 = num_grt5 / total_unique_cited_articles * 100\n",
    "print('\\nTotal {} records with difference greater than 5 - Percentage: {} %\\n'.format(num_grt5, percent_grt5))"
   ]
  },
  {
   "cell_type": "code",
   "execution_count": 35,
   "metadata": {},
   "outputs": [
    {
     "name": "stdout",
     "output_type": "stream",
     "text": [
      "Total Number of article with loss in citation counts in Labs: 51653\n",
      "\n",
      "Number of articles losing Citation Counts in Labs\n",
      "-1.0    38165\n",
      "-2.0     7301\n",
      "-3.0     2574\n",
      "-4.0     1190\n",
      "-5.0      668\n",
      "Name: Citation_Difference, dtype: int64\n",
      "\n",
      "Percent (%) of Citation Counts Lost in Labs\n",
      "-1.0    4.960443\n",
      "-2.0    0.948937\n",
      "-3.0    0.334552\n",
      "-4.0    0.154669\n",
      "-5.0    0.086822\n",
      "Name: Citation_Difference, dtype: float64\n",
      "\n",
      "Total 1755 records with lost citations greater than 5 - Percentage: 0.22810367214418753 %\n",
      "\n"
     ]
    }
   ],
   "source": [
    "# Percentage Differences for lost citations\n",
    "lost_citations_count = labs_db_lost_citations_ext.Citation_Difference.value_counts()\n",
    "print('Total Number of article with loss in citation counts in Labs: {}'.format(len(labs_db_lost_citations_ext)))\n",
    "\n",
    "print('\\nNumber of articles losing Citation Counts in Labs')\n",
    "print(lost_citations_count[:-5])\n",
    "\n",
    "lost_percent_diff = lost_citations_count/ total_unique_cited_articles * 100\n",
    "print('\\nPercent (%) of Citation Counts Lost in Labs')\n",
    "print(lost_percent_diff[:-5])\n",
    "\n",
    "lost_grt5 = sum(lost_citations_count[-6:])\n",
    "lost_percent_grt5 = lost_grt5 / total_unique_cited_articles * 100\n",
    "print('\\nTotal {} records with lost citations greater than 5 - Percentage: {} %\\n'.format(lost_grt5, lost_percent_grt5))"
   ]
  },
  {
   "cell_type": "code",
   "execution_count": 36,
   "metadata": {},
   "outputs": [
    {
     "name": "stdout",
     "output_type": "stream",
     "text": [
      "Total Number of article with gain in citation counts in Labs: 23380\n",
      "\n",
      "Number of articles gaining Citation Counts in Labs\n",
      "1.0    17731\n",
      "2.0     2535\n",
      "3.0      970\n",
      "4.0      513\n",
      "5.0      278\n",
      "Name: Citation_Difference, dtype: int64\n",
      "\n",
      "Percent (%) of Citation Counts Gained in Labs\n",
      "1.0    2.304562\n",
      "2.0    0.329483\n",
      "3.0    0.126074\n",
      "4.0    0.066676\n",
      "5.0    0.036133\n",
      "Name: Citation_Difference, dtype: float64\n",
      "\n",
      "Total 1353 records with gained citations greater than 5 - Percentage: 0.17585428399492065 %\n",
      "\n"
     ]
    }
   ],
   "source": [
    "# Percentage Differences for gained citations\n",
    "gained_citations_count = labs_db_gained_citations_ext.Citation_Difference.value_counts()\n",
    "print('Total Number of article with gain in citation counts in Labs: {}'.format(len(labs_db_gained_citations_ext)))\n",
    "\n",
    "print('\\nNumber of articles gaining Citation Counts in Labs')\n",
    "print(gained_citations_count[:5])\n",
    "\n",
    "gained_percent_diff = gained_citations_count/ total_unique_cited_articles * 100\n",
    "print('\\nPercent (%) of Citation Counts Gained in Labs')\n",
    "print(gained_percent_diff[:5])\n",
    "\n",
    "\n",
    "gained_grt5 = sum(gained_citations_count[6:])\n",
    "gained_percent_grt5 = gained_grt5 / total_unique_cited_articles * 100\n",
    "print('\\nTotal {} records with gained citations greater than 5 - Percentage: {} %\\n'.format(gained_grt5, gained_percent_grt5))"
   ]
  },
  {
   "cell_type": "markdown",
   "metadata": {},
   "source": [
    "##### For Core articles"
   ]
  },
  {
   "cell_type": "code",
   "execution_count": 55,
   "metadata": {},
   "outputs": [
    {
     "data": {
      "text/plain": [
       "31564"
      ]
     },
     "execution_count": 55,
     "metadata": {},
     "output_type": "execute_result"
    }
   ],
   "source": [
    "# For lost core records (in DB)\n",
    "labs_db_core_articles_with_loss = np.intersect1d(diff_labs_db_valid_lost_citations.index, core_list[0].unique())\n",
    "labs_db_core_articles_with_loss = labs_db_lost_citations_ext.loc[labs_db_core_articles_with_loss].sort_values('Citation_Difference')\n",
    "len(labs_db_core_articles_with_loss)"
   ]
  },
  {
   "cell_type": "code",
   "execution_count": 57,
   "metadata": {},
   "outputs": [
    {
     "data": {
      "text/plain": [
       "14981"
      ]
     },
     "execution_count": 57,
     "metadata": {},
     "output_type": "execute_result"
    }
   ],
   "source": [
    "# For gained core records (in DB)\n",
    "labs_db_core_articles_with_gain = np.intersect1d(diff_labs_db_valid_gained_citations.index, core_list[0].unique())\n",
    "labs_db_core_articles_with_gain = labs_db_gained_citations_ext.loc[labs_db_core_articles_with_gain].sort_values('Citation_Difference', ascending=False)\n",
    "len(labs_db_core_articles_with_gain)"
   ]
  },
  {
   "cell_type": "markdown",
   "metadata": {},
   "source": [
    "### Difference between Legacy and DB"
   ]
  },
  {
   "cell_type": "code",
   "execution_count": 48,
   "metadata": {},
   "outputs": [],
   "source": [
    "diff_legacy_db = db_indexed - legacy_indexed"
   ]
  },
  {
   "cell_type": "code",
   "execution_count": 49,
   "metadata": {},
   "outputs": [],
   "source": [
    "diff_legacy_db_valid = diff_legacy_db[~diff_legacy_db.Citation_Difference.isna()]\n",
    "diff_legacy_db_valid = diff_legacy_db_valid.sort_values('Citation_Difference')"
   ]
  },
  {
   "cell_type": "code",
   "execution_count": 50,
   "metadata": {},
   "outputs": [
    {
     "name": "stdout",
     "output_type": "stream",
     "text": [
      "692683 records have 0 difference\n"
     ]
    }
   ],
   "source": [
    "diff_legacy_db_valid_zero_diff = diff_legacy_db_valid[diff_legacy_db_valid.Citation_Difference == 0]\n",
    "print('{} records have 0 difference'.format(len(diff_legacy_db_valid_zero_diff)))"
   ]
  },
  {
   "cell_type": "code",
   "execution_count": 51,
   "metadata": {},
   "outputs": [
    {
     "name": "stdout",
     "output_type": "stream",
     "text": [
      "775936 records have some difference\n"
     ]
    }
   ],
   "source": [
    "diff_legacy_db_valid_abs_diff = diff_legacy_db_valid[diff_legacy_db_valid.Citation_Difference != 0]\n",
    "diff_legacy_db_valid_abs_diff = np.abs(diff_legacy_db_valid)\n",
    "diff_legacy_db_valid_abs_diff = diff_legacy_db_valid_abs_diff.sort_values('Citation_Difference', ascending=False)\n",
    "print('{} records have some difference'.format(len(diff_legacy_db_valid_abs_diff)))"
   ]
  },
  {
   "cell_type": "code",
   "execution_count": 52,
   "metadata": {},
   "outputs": [
    {
     "name": "stdout",
     "output_type": "stream",
     "text": [
      "68525 records have lost citations\n"
     ]
    }
   ],
   "source": [
    "diff_legacy_db_valid_lost_citations  = diff_legacy_db_valid[diff_legacy_db_valid.Citation_Difference < 0]\n",
    "diff_legacy_db_valid_lost_citations = diff_legacy_db_valid_lost_citations.sort_values('Citation_Difference')\n",
    "print('{} records have lost citations'.format(len(diff_legacy_db_valid_lost_citations)))"
   ]
  },
  {
   "cell_type": "code",
   "execution_count": 53,
   "metadata": {},
   "outputs": [
    {
     "name": "stdout",
     "output_type": "stream",
     "text": [
      "14728 records have gained citations\n"
     ]
    }
   ],
   "source": [
    "diff_legacy_db_valid_gained_citations  = diff_legacy_db_valid[diff_legacy_db_valid.Citation_Difference > 0]\n",
    "diff_legacy_db_valid_gained_citations = diff_legacy_db_valid_gained_citations.sort_values('Citation_Difference', ascending=False)\n",
    "print('{} records have gained citations'.format(len(diff_legacy_db_valid_gained_citations)))"
   ]
  },
  {
   "cell_type": "code",
   "execution_count": 54,
   "metadata": {},
   "outputs": [
    {
     "name": "stderr",
     "output_type": "stream",
     "text": [
      "/home/salman/python3venv/lib/python3.5/site-packages/ipykernel_launcher.py:8: FutureWarning: \n",
      "Passing list-likes to .loc or [] with any missing label will raise\n",
      "KeyError in the future, you can use .reindex() as an alternative.\n",
      "\n",
      "See the documentation here:\n",
      "http://pandas.pydata.org/pandas-docs/stable/indexing.html#deprecate-loc-reindex-listlike\n",
      "  \n"
     ]
    }
   ],
   "source": [
    "# Get the extended data frames\n",
    "legacy_db_abs_diff_ext = diff_legacy_db_valid_abs_diff\n",
    "legacy_db_lost_citations_ext = diff_legacy_db_valid_lost_citations\n",
    "legacy_db_gained_citations_ext = diff_legacy_db_valid_gained_citations\n",
    "\n",
    "# For absolute difference\n",
    "legacy_db_abs_diff_ext['DB_Count'] = db_indexed.loc[diff_legacy_db_valid_abs_diff.index]\n",
    "legacy_db_abs_diff_ext['Legacy_Count'] = labs_indexed.loc[diff_legacy_db_valid_abs_diff.index]\n",
    "\n",
    "# For lost citations\n",
    "legacy_db_lost_citations_ext['DB_Count'] = db_indexed.loc[diff_legacy_db_valid_lost_citations.index]\n",
    "legacy_db_lost_citations_ext['Legacy_Count'] = legacy_indexed.loc[diff_legacy_db_valid_lost_citations.index]\n",
    "\n",
    "# For gained citations\n",
    "legacy_db_gained_citations_ext['DB_Count'] = db_indexed.loc[diff_legacy_db_valid_gained_citations.index]\n",
    "legacy_db_gained_citations_ext['Legacy_Count'] = legacy_indexed.loc[diff_legacy_db_valid_gained_citations.index]"
   ]
  },
  {
   "cell_type": "markdown",
   "metadata": {},
   "source": [
    "##### Statistics"
   ]
  },
  {
   "cell_type": "code",
   "execution_count": 55,
   "metadata": {},
   "outputs": [
    {
     "name": "stdout",
     "output_type": "stream",
     "text": [
      "Total unique cited articles: 775936\n",
      "Number of Cited articles with zero difference: 692683\n",
      "Percentage of Cited articles with zero difference: 89.27 %\n"
     ]
    }
   ],
   "source": [
    "# Indicate Number of articles with zero differences in citation counts\n",
    "total_unique_cited_articles = len(diff_legacy_db_valid)\n",
    "print('Total unique cited articles: {}'.format(total_unique_cited_articles))\n",
    "\n",
    "num_zero_diff = diff_legacy_db_valid.Citation_Difference.value_counts()[0]\n",
    "percent_zero_diff = num_zero_diff / total_unique_cited_articles * 100\n",
    "print('Number of Cited articles with zero difference: {}'.format(num_zero_diff))\n",
    "print('Percentage of Cited articles with zero difference: {0:0.2f} %'.format(percent_zero_diff))"
   ]
  },
  {
   "cell_type": "code",
   "execution_count": 56,
   "metadata": {},
   "outputs": [
    {
     "name": "stdout",
     "output_type": "stream",
     "text": [
      "Total Number of article with changes in citation counts in Labs: 775936\n",
      "\n",
      "Number of articles with changes in Citation Counts in Labs\n",
      "0.0    692683\n",
      "1.0     62950\n",
      "2.0     11122\n",
      "3.0      3696\n",
      "4.0      1728\n",
      "5.0       967\n",
      "Name: Citation_Difference, dtype: int64\n",
      "\n",
      "Percent (%) of Citation Counts Difference in Labs\n",
      "0.0    89.270636\n",
      "1.0     8.112782\n",
      "2.0     1.433366\n",
      "3.0     0.476328\n",
      "4.0     0.222699\n",
      "5.0     0.124624\n",
      "Name: Citation_Difference, dtype: float64\n",
      "\n",
      "Total 2790 records with difference greater than 5 - Percentage: 0.3595657373804025 %\n",
      "\n"
     ]
    }
   ],
   "source": [
    "# Percentage Differences for absolute differences\n",
    "abs_diff_counts = legacy_db_abs_diff_ext.Citation_Difference.value_counts()\n",
    "print('Total Number of article with changes in citation counts in Labs: {}'.format(len(legacy_db_abs_diff_ext)))\n",
    "\n",
    "print('\\nNumber of articles with changes in Citation Counts in Labs')\n",
    "print(abs_diff_counts[:5])\n",
    "\n",
    "print('\\nPercent (%) of Citation Counts Difference in Labs')\n",
    "print(abs_diff_counts[:5] / total_unique_cited_articles * 100)\n",
    "\n",
    "num_grt5 = sum(abs_diff_counts[6:])\n",
    "percent_grt5 = num_grt5 / total_unique_cited_articles * 100\n",
    "print('\\nTotal {} records with difference greater than 5 - Percentage: {} %\\n'.format(num_grt5, percent_grt5))"
   ]
  },
  {
   "cell_type": "code",
   "execution_count": 57,
   "metadata": {},
   "outputs": [
    {
     "name": "stdout",
     "output_type": "stream",
     "text": [
      "Total Number of article with loss in citation counts in Labs: 68525\n",
      "\n",
      "Number of articles losing Citation Counts in Labs\n",
      "-1.0    50893\n",
      "-2.0     9730\n",
      "-3.0     3192\n",
      "-4.0     1481\n",
      "-5.0      850\n",
      "Name: Citation_Difference, dtype: int64\n",
      "\n",
      "Percent (%) of Citation Counts Lost in Labs\n",
      "-1.0    6.558917\n",
      "-2.0    1.253969\n",
      "-3.0    0.411374\n",
      "-4.0    0.190866\n",
      "-5.0    0.109545\n",
      "Name: Citation_Difference, dtype: float64\n",
      "\n",
      "Total 2379 records with lost citations greater than 5 - Percentage: 0.30659745133619265 %\n",
      "\n"
     ]
    }
   ],
   "source": [
    "# Percentage Differences for lost citations\n",
    "lost_citations_count = legacy_db_lost_citations_ext.Citation_Difference.value_counts()\n",
    "print('Total Number of article with loss in citation counts in Labs: {}'.format(len(legacy_db_lost_citations_ext)))\n",
    "\n",
    "print('\\nNumber of articles losing Citation Counts in Labs')\n",
    "print(lost_citations_count[:-5])\n",
    "\n",
    "lost_percent_diff = lost_citations_count/ total_unique_cited_articles * 100\n",
    "print('\\nPercent (%) of Citation Counts Lost in Labs')\n",
    "print(lost_percent_diff[:-5])\n",
    "\n",
    "lost_grt5 = sum(lost_citations_count[-6:])\n",
    "lost_percent_grt5 = lost_grt5 / total_unique_cited_articles * 100\n",
    "print('\\nTotal {} records with lost citations greater than 5 - Percentage: {} %\\n'.format(lost_grt5, lost_percent_grt5))"
   ]
  },
  {
   "cell_type": "code",
   "execution_count": 58,
   "metadata": {},
   "outputs": [
    {
     "name": "stdout",
     "output_type": "stream",
     "text": [
      "Total Number of article with gain in citation counts in Labs: 14728\n",
      "\n",
      "Number of articles gaining Citation Counts in Labs\n",
      "1.0    12057\n",
      "2.0     1392\n",
      "3.0      504\n",
      "4.0      247\n",
      "5.0      117\n",
      "Name: Citation_Difference, dtype: int64\n",
      "\n",
      "Percent (%) of Citation Counts Gained in Labs\n",
      "1.0    1.553865\n",
      "2.0    0.179396\n",
      "3.0    0.064954\n",
      "4.0    0.031833\n",
      "5.0    0.015079\n",
      "Name: Citation_Difference, dtype: float64\n",
      "\n",
      "Total 411 records with gained citations greater than 5 - Percentage: 0.05296828604420983 %\n",
      "\n"
     ]
    }
   ],
   "source": [
    "# Percentage Differences for gained citations\n",
    "gained_citations_count = legacy_db_gained_citations_ext.Citation_Difference.value_counts()\n",
    "print('Total Number of article with gain in citation counts in Labs: {}'.format(len(legacy_db_gained_citations_ext)))\n",
    "\n",
    "print('\\nNumber of articles gaining Citation Counts in Labs')\n",
    "print(gained_citations_count[:5])\n",
    "\n",
    "gained_percent_diff = gained_citations_count/ total_unique_cited_articles * 100\n",
    "print('\\nPercent (%) of Citation Counts Gained in Labs')\n",
    "print(gained_percent_diff[:5])\n",
    "\n",
    "\n",
    "gained_grt5 = sum(gained_citations_count[6:])\n",
    "gained_percent_grt5 = gained_grt5 / total_unique_cited_articles * 100\n",
    "print('\\nTotal {} records with gained citations greater than 5 - Percentage: {} %\\n'.format(gained_grt5, gained_percent_grt5))"
   ]
  },
  {
   "cell_type": "markdown",
   "metadata": {},
   "source": [
    "##### For Core articles"
   ]
  },
  {
   "cell_type": "code",
   "execution_count": 65,
   "metadata": {},
   "outputs": [
    {
     "data": {
      "text/plain": [
       "40935"
      ]
     },
     "execution_count": 65,
     "metadata": {},
     "output_type": "execute_result"
    }
   ],
   "source": [
    "# For lost core records (in DB)\n",
    "legacy_db_core_articles_with_loss = np.intersect1d(diff_legacy_db_valid_lost_citations.index, core_list[0].unique())\n",
    "legacy_db_core_articles_with_loss = legacy_db_lost_citations_ext.loc[legacy_db_core_articles_with_loss].sort_values('Citation_Difference')\n",
    "len(legacy_db_core_articles_with_loss)"
   ]
  },
  {
   "cell_type": "code",
   "execution_count": 66,
   "metadata": {},
   "outputs": [
    {
     "data": {
      "text/plain": [
       "11512"
      ]
     },
     "execution_count": 66,
     "metadata": {},
     "output_type": "execute_result"
    }
   ],
   "source": [
    "# For gained core records (in DB)\n",
    "legacy_db_core_articles_with_gain = np.intersect1d(diff_legacy_db_valid_gained_citations.index, core_list[0].unique())\n",
    "legacy_db_core_articles_with_gain = legacy_db_gained_citations_ext.loc[legacy_db_core_articles_with_gain].sort_values('Citation_Difference', ascending=False)\n",
    "len(legacy_db_core_articles_with_gain)"
   ]
  }
 ],
 "metadata": {
  "kernelspec": {
   "display_name": "Python 3",
   "language": "python",
   "name": "python3"
  },
  "language_info": {
   "codemirror_mode": {
    "name": "ipython",
    "version": 3
   },
   "file_extension": ".py",
   "mimetype": "text/x-python",
   "name": "python",
   "nbconvert_exporter": "python",
   "pygments_lexer": "ipython3",
   "version": "3.5.2"
  }
 },
 "nbformat": 4,
 "nbformat_minor": 2
}
