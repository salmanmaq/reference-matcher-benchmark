{
 "cells": [
  {
   "cell_type": "code",
   "execution_count": 1,
   "metadata": {},
   "outputs": [],
   "source": [
    "import numpy as np\n",
    "import pandas as pd\n",
    "import os\n",
    "import matplotlib.pyplot as plt\n",
    "\n",
    "pd.options.display.max_colwidth = 1000"
   ]
  },
  {
   "cell_type": "code",
   "execution_count": 12,
   "metadata": {},
   "outputs": [
    {
     "data": {
      "text/plain": [
       "769457"
      ]
     },
     "execution_count": 12,
     "metadata": {},
     "output_type": "execute_result"
    }
   ],
   "source": [
    "# Read the Labs citation counts\n",
    "labs = pd.read_csv('new-citation-counts-NEWAUG2018.tsv', sep='\\t', header=None)\n",
    "labs.columns = ['recID', 'Citation_Difference']\n",
    "# Citation_Difference is actually citation count but is used here for ease later when subtracting\n",
    "\n",
    "# Index by recIDs\n",
    "labs_indexed = labs.set_index('recID')\n",
    "len(labs_indexed)"
   ]
  },
  {
   "cell_type": "code",
   "execution_count": 13,
   "metadata": {},
   "outputs": [
    {
     "data": {
      "text/plain": [
       "776108"
      ]
     },
     "execution_count": 13,
     "metadata": {},
     "output_type": "execute_result"
    }
   ],
   "source": [
    "# Read the legacy citation counts\n",
    "legacy = pd.read_csv('old-citation-counts-AUG2018.csv', sep=',')\n",
    "legacy.columns = ['recID', 'Citation_Difference', 'Timestamp']\n",
    "# Citation_Difference is actually citation count but is used here for ease later when subtracting\n",
    "legacy = legacy.drop(['Timestamp'], axis='columns')\n",
    "\n",
    "# Index by recrod IDs\n",
    "legacy_indexed = legacy.set_index('recID')\n",
    "len(legacy_indexed)"
   ]
  },
  {
   "cell_type": "code",
   "execution_count": 14,
   "metadata": {},
   "outputs": [
    {
     "data": {
      "text/plain": [
       "1286536"
      ]
     },
     "execution_count": 14,
     "metadata": {},
     "output_type": "execute_result"
    }
   ],
   "source": [
    "# Read the db citation counts\n",
    "db = pd.read_csv('literature_count_NEWAUG2018.csv', sep=',')\n",
    "db.columns = ['recID', 'Citation_Difference']\n",
    "# Citation_Difference is actually citation count but is used here for ease later when subtracting\n",
    "\n",
    "# Index by recIDs\n",
    "db_indexed = db.set_index('recID')\n",
    "\n",
    "len(db_indexed)"
   ]
  },
  {
   "cell_type": "code",
   "execution_count": 39,
   "metadata": {},
   "outputs": [],
   "source": [
    "# Load the core records list\n",
    "core_list = pd.read_csv('inspire_core_list_NEWAUG2018.txt', sep='\\n', header=None)"
   ]
  },
  {
   "cell_type": "markdown",
   "metadata": {},
   "source": [
    "### Difference between Labs and DB"
   ]
  },
  {
   "cell_type": "code",
   "execution_count": 15,
   "metadata": {},
   "outputs": [],
   "source": [
    "diff_labs_db = db_indexed - labs_indexed"
   ]
  },
  {
   "cell_type": "code",
   "execution_count": 22,
   "metadata": {},
   "outputs": [],
   "source": [
    "diff_labs_db_valid = diff_labs_db[~diff_labs_db.Citation_Difference.isna()]\n",
    "diff_labs_db_valid = diff_labs_db_valid.sort_values('Citation_Difference')"
   ]
  },
  {
   "cell_type": "code",
   "execution_count": 26,
   "metadata": {},
   "outputs": [
    {
     "name": "stdout",
     "output_type": "stream",
     "text": [
      "694354 records have 0 difference\n"
     ]
    }
   ],
   "source": [
    "diff_labs_db_valid_zero_diff = diff_labs_db_valid[diff_labs_db_valid.Citation_Difference == 0]\n",
    "print('{} records have 0 difference'.format(len(diff_labs_db_valid_zero_diff)))"
   ]
  },
  {
   "cell_type": "code",
   "execution_count": 33,
   "metadata": {},
   "outputs": [
    {
     "name": "stdout",
     "output_type": "stream",
     "text": [
      "51653 records have lost citations\n"
     ]
    }
   ],
   "source": [
    "diff_labs_db_valid_lost_citations  = diff_labs_db_valid[diff_labs_db_valid.Citation_Difference < 0]\n",
    "diff_labs_db_valid_lost_citations = diff_labs_db_valid_lost_citations.sort_values('Citation_Difference')\n",
    "print('{} records have lost citations'.format(len(diff_labs_db_valid_lost_citations)))"
   ]
  },
  {
   "cell_type": "code",
   "execution_count": 35,
   "metadata": {},
   "outputs": [
    {
     "name": "stdout",
     "output_type": "stream",
     "text": [
      "23380 records have gained citations\n"
     ]
    }
   ],
   "source": [
    "diff_labs_db_valid_gained_citations  = diff_labs_db_valid[diff_labs_db_valid.Citation_Difference > 0]\n",
    "diff_labs_db_valid_gained_citations = diff_labs_db_valid_gained_citations.sort_values('Citation_Difference', ascending=False)\n",
    "print('{} records have gained citations'.format(len(diff_labs_db_valid_gained_citations)))"
   ]
  },
  {
   "cell_type": "code",
   "execution_count": 52,
   "metadata": {},
   "outputs": [],
   "source": [
    "# Get the extended data frames\n",
    "# Initialize extended DataFrames for the \"invalid\" differences\n",
    "labs_db_lost_citations_ext = diff_labs_db_valid_lost_citations\n",
    "labs_db_gained_citations_ext = diff_labs_db_valid_gained_citations\n",
    "\n",
    "# For lost citations\n",
    "labs_db_lost_citations_ext['DB_Count'] = db_indexed.loc[diff_labs_db_valid_lost_citations.index]\n",
    "labs_db_lost_citations_ext['Labs_Count'] = labs_indexed.loc[diff_labs_db_valid_lost_citations.index]\n",
    "\n",
    "# For gained citations\n",
    "labs_db_gained_citations_ext['DB_Count'] = db_indexed.loc[diff_labs_db_valid_gained_citations.index]\n",
    "labs_db_gained_citations_ext['Labs_Count'] = labs_indexed.loc[diff_labs_db_valid_gained_citations.index]"
   ]
  },
  {
   "cell_type": "code",
   "execution_count": 55,
   "metadata": {},
   "outputs": [
    {
     "data": {
      "text/plain": [
       "31564"
      ]
     },
     "execution_count": 55,
     "metadata": {},
     "output_type": "execute_result"
    }
   ],
   "source": [
    "# For lost core records (in DB)\n",
    "labs_db_core_articles_with_loss = np.intersect1d(diff_labs_db_valid_lost_citations.index, core_list[0].unique())\n",
    "labs_db_core_articles_with_loss = labs_db_lost_citations_ext.loc[labs_db_core_articles_with_loss].sort_values('Citation_Difference')\n",
    "len(labs_db_core_articles_with_loss)"
   ]
  },
  {
   "cell_type": "code",
   "execution_count": 57,
   "metadata": {},
   "outputs": [
    {
     "data": {
      "text/plain": [
       "14981"
      ]
     },
     "execution_count": 57,
     "metadata": {},
     "output_type": "execute_result"
    }
   ],
   "source": [
    "# For gained core records (in DB)\n",
    "labs_db_core_articles_with_gain = np.intersect1d(diff_labs_db_valid_gained_citations.index, core_list[0].unique())\n",
    "labs_db_core_articles_with_gain = labs_db_gained_citations_ext.loc[labs_db_core_articles_with_gain].sort_values('Citation_Difference', ascending=False)\n",
    "len(labs_db_core_articles_with_gain)"
   ]
  },
  {
   "cell_type": "markdown",
   "metadata": {},
   "source": [
    "### Difference between Legacy and DB"
   ]
  },
  {
   "cell_type": "code",
   "execution_count": 59,
   "metadata": {},
   "outputs": [],
   "source": [
    "diff_legacy_db = db_indexed - legacy_indexed"
   ]
  },
  {
   "cell_type": "code",
   "execution_count": 60,
   "metadata": {},
   "outputs": [],
   "source": [
    "diff_legacy_db_valid = diff_legacy_db[~diff_legacy_db.Citation_Difference.isna()]\n",
    "diff_legacy_db_valid = diff_legacy_db_valid.sort_values('Citation_Difference')"
   ]
  },
  {
   "cell_type": "code",
   "execution_count": 61,
   "metadata": {},
   "outputs": [
    {
     "name": "stdout",
     "output_type": "stream",
     "text": [
      "692683 records have 0 difference\n"
     ]
    }
   ],
   "source": [
    "diff_legacy_db_valid_zero_diff = diff_legacy_db_valid[diff_legacy_db_valid.Citation_Difference == 0]\n",
    "print('{} records have 0 difference'.format(len(diff_legacy_db_valid_zero_diff)))"
   ]
  },
  {
   "cell_type": "code",
   "execution_count": 62,
   "metadata": {},
   "outputs": [
    {
     "name": "stdout",
     "output_type": "stream",
     "text": [
      "68525 records have lost citations\n"
     ]
    }
   ],
   "source": [
    "diff_legacy_db_valid_lost_citations  = diff_legacy_db_valid[diff_legacy_db_valid.Citation_Difference < 0]\n",
    "diff_legacy_db_valid_lost_citations = diff_legacy_db_valid_lost_citations.sort_values('Citation_Difference')\n",
    "print('{} records have lost citations'.format(len(diff_legacy_db_valid_lost_citations)))"
   ]
  },
  {
   "cell_type": "code",
   "execution_count": 63,
   "metadata": {},
   "outputs": [
    {
     "name": "stdout",
     "output_type": "stream",
     "text": [
      "14728 records have gained citations\n"
     ]
    }
   ],
   "source": [
    "diff_legacy_db_valid_gained_citations  = diff_legacy_db_valid[diff_legacy_db_valid.Citation_Difference > 0]\n",
    "diff_legacy_db_valid_gained_citations = diff_legacy_db_valid_gained_citations.sort_values('Citation_Difference', ascending=False)\n",
    "print('{} records have gained citations'.format(len(diff_legacy_db_valid_gained_citations)))"
   ]
  },
  {
   "cell_type": "code",
   "execution_count": 64,
   "metadata": {},
   "outputs": [],
   "source": [
    "# Get the extended data frames\n",
    "# Initialize extended DataFrames for the \"invalid\" differences\n",
    "legacy_db_lost_citations_ext = diff_legacy_db_valid_lost_citations\n",
    "legacy_db_gained_citations_ext = diff_legacy_db_valid_gained_citations\n",
    "\n",
    "# For lost citations\n",
    "legacy_db_lost_citations_ext['DB_Count'] = db_indexed.loc[diff_legacy_db_valid_lost_citations.index]\n",
    "legacy_db_lost_citations_ext['Legacy_Count'] = legacy_indexed.loc[diff_legacy_db_valid_lost_citations.index]\n",
    "\n",
    "# For gained citations\n",
    "legacy_db_gained_citations_ext['DB_Count'] = db_indexed.loc[diff_legacy_db_valid_gained_citations.index]\n",
    "legacy_db_gained_citations_ext['Legacy_Count'] = legacy_indexed.loc[diff_legacy_db_valid_gained_citations.index]"
   ]
  },
  {
   "cell_type": "code",
   "execution_count": 65,
   "metadata": {},
   "outputs": [
    {
     "data": {
      "text/plain": [
       "40935"
      ]
     },
     "execution_count": 65,
     "metadata": {},
     "output_type": "execute_result"
    }
   ],
   "source": [
    "# For lost core records (in DB)\n",
    "legacy_db_core_articles_with_loss = np.intersect1d(diff_legacy_db_valid_lost_citations.index, core_list[0].unique())\n",
    "legacy_db_core_articles_with_loss = legacy_db_lost_citations_ext.loc[legacy_db_core_articles_with_loss].sort_values('Citation_Difference')\n",
    "len(legacy_db_core_articles_with_loss)"
   ]
  },
  {
   "cell_type": "code",
   "execution_count": 66,
   "metadata": {},
   "outputs": [
    {
     "data": {
      "text/plain": [
       "11512"
      ]
     },
     "execution_count": 66,
     "metadata": {},
     "output_type": "execute_result"
    }
   ],
   "source": [
    "# For gained core records (in DB)\n",
    "legacy_db_core_articles_with_gain = np.intersect1d(diff_legacy_db_valid_gained_citations.index, core_list[0].unique())\n",
    "legacy_db_core_articles_with_gain = legacy_db_gained_citations_ext.loc[legacy_db_core_articles_with_gain].sort_values('Citation_Difference', ascending=False)\n",
    "len(legacy_db_core_articles_with_gain)"
   ]
  },
  {
   "cell_type": "code",
   "execution_count": null,
   "metadata": {},
   "outputs": [],
   "source": []
  }
 ],
 "metadata": {
  "kernelspec": {
   "display_name": "Python 3",
   "language": "python",
   "name": "python3"
  },
  "language_info": {
   "codemirror_mode": {
    "name": "ipython",
    "version": 3
   },
   "file_extension": ".py",
   "mimetype": "text/x-python",
   "name": "python",
   "nbconvert_exporter": "python",
   "pygments_lexer": "ipython3",
   "version": "3.5.2"
  }
 },
 "nbformat": 4,
 "nbformat_minor": 2
}
