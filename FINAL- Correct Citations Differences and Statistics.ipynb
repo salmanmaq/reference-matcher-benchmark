{
 "cells": [
  {
   "cell_type": "code",
   "execution_count": 1,
   "metadata": {},
   "outputs": [],
   "source": [
    "import numpy as np\n",
    "import pandas as pd\n",
    "import os\n",
    "\n",
    "pd.options.display.max_colwidth = 1000"
   ]
  },
  {
   "cell_type": "code",
   "execution_count": 2,
   "metadata": {},
   "outputs": [],
   "source": [
    "csv_save_dir = 'output_csvs_NEW_DATA'\n",
    "if not os.path.exists(csv_save_dir):\n",
    "    os.makedirs(csv_save_dir)"
   ]
  },
  {
   "cell_type": "code",
   "execution_count": 3,
   "metadata": {},
   "outputs": [
    {
     "name": "stdout",
     "output_type": "stream",
     "text": [
      "Total Records: 30230936\n",
      "CPU times: user 2min 38s, sys: 8.99 s, total: 2min 47s\n",
      "Wall time: 2min 48s\n"
     ]
    }
   ],
   "source": [
    "%%time\n",
    "\n",
    "# Read information for the new records\n",
    "records = pd.read_csv('new-citations-rerun.tsv', sep='\\t', header=None)\n",
    "records.columns = ['recID', 'oldRef', 'newRef', 'metaData']\n",
    "\n",
    "print('Total Records: {}'.format(len(records)))"
   ]
  },
  {
   "cell_type": "code",
   "execution_count": 4,
   "metadata": {},
   "outputs": [],
   "source": [
    "# Read the new citation counts\n",
    "labs = pd.read_csv('new-citation-counts-rerun.tsv', sep='\\t', header=None)\n",
    "labs.columns = ['recID', 'Citation_Difference']\n",
    "# Citation_Difference is actually citation count but is used here for ease later when subtracting\n",
    "\n",
    "# Index by recIDs\n",
    "labs_indexed = labs.set_index('recID')"
   ]
  },
  {
   "cell_type": "code",
   "execution_count": 5,
   "metadata": {},
   "outputs": [],
   "source": [
    "# Read the legacy citation counts\n",
    "legacy = pd.read_csv('old-citation-counts.tsv', sep='\\t')\n",
    "legacy.columns = ['recID', 'Citation_Difference']\n",
    "# Citation_Difference is actually citation count but is used here for ease later when subtracting\n",
    "\n",
    "# Index by recrod IDs\n",
    "legacy_indexed = legacy.set_index('recID')"
   ]
  },
  {
   "cell_type": "code",
   "execution_count": 6,
   "metadata": {},
   "outputs": [],
   "source": [
    "# Compute the difference in citation counts between Labs and Legacy\n",
    "diff = labs_indexed - legacy_indexed"
   ]
  },
  {
   "cell_type": "code",
   "execution_count": 7,
   "metadata": {},
   "outputs": [
    {
     "name": "stdout",
     "output_type": "stream",
     "text": [
      "11434 articles are differently indexed between the legacy and labs records and have no correspondence\n"
     ]
    }
   ],
   "source": [
    "# Filter out the NaNs\n",
    "is_nan = diff.Citation_Difference.isna()\n",
    "NaN_entries = diff[is_nan]\n",
    "\n",
    "print('{} articles are differently indexed between the legacy and labs records and have no correspondence'.format(len(NaN_entries)))"
   ]
  },
  {
   "cell_type": "code",
   "execution_count": 8,
   "metadata": {},
   "outputs": [],
   "source": [
    "# Filter the valid entries\n",
    "is_valid = ~diff.Citation_Difference.isna()\n",
    "valid_diff = diff[is_valid]"
   ]
  },
  {
   "cell_type": "code",
   "execution_count": 9,
   "metadata": {},
   "outputs": [],
   "source": [
    "# Get the articles which have lost citations\n",
    "lost = valid_diff.Citation_Difference < 0\n",
    "lost_citations = valid_diff[lost]\n",
    "\n",
    "# Sort the list\n",
    "lost_citations = lost_citations.sort_values('Citation_Difference')"
   ]
  },
  {
   "cell_type": "code",
   "execution_count": 10,
   "metadata": {},
   "outputs": [],
   "source": [
    "# Get the articles which have gained citations\n",
    "gained = valid_diff.Citation_Difference > 0\n",
    "gained_citations = valid_diff[gained]\n",
    "\n",
    "# Sort the list\n",
    "gained_citations = gained_citations.sort_values('Citation_Difference', ascending=False)"
   ]
  },
  {
   "cell_type": "code",
   "execution_count": 11,
   "metadata": {},
   "outputs": [],
   "source": [
    "# Get the counts for absolute differences in citation numbers\n",
    "abs_diff = np.abs(valid_diff)\n",
    "abs_diff = abs_diff.sort_values('Citation_Difference', ascending=False)\n",
    "\n",
    "# Filter out the zero difference entries\n",
    "non_zero_diff = abs_diff.Citation_Difference != 0\n",
    "abs_diff = abs_diff[non_zero_diff]"
   ]
  },
  {
   "cell_type": "code",
   "execution_count": 12,
   "metadata": {},
   "outputs": [],
   "source": [
    "# Initialize extended DataFrames for the differences\n",
    "lost_citations_ext = lost_citations\n",
    "gained_citations_ext = gained_citations\n",
    "abs_diff_ext = abs_diff\n",
    "\n",
    "# For lost citations\n",
    "lost_citations_ext['Legacy_Count'] = legacy_indexed.loc[lost_citations.index]\n",
    "lost_citations_ext['Labs_Count'] = labs_indexed.loc[lost_citations.index]\n",
    "\n",
    "# For gained citations\n",
    "gained_citations_ext['Legacy_Count'] = legacy_indexed.loc[gained_citations.index]\n",
    "gained_citations_ext['Labs_Count'] = labs_indexed.loc[gained_citations.index]\n",
    "\n",
    "# For absolute difference in citation counts\n",
    "abs_diff_ext['Legacy_Count'] = legacy_indexed.loc[abs_diff.index]\n",
    "abs_diff_ext['Labs_Count'] = labs_indexed.loc[abs_diff.index]"
   ]
  },
  {
   "cell_type": "markdown",
   "metadata": {},
   "source": [
    "### Incorporate \"invalid/NaN\" entries"
   ]
  },
  {
   "cell_type": "code",
   "execution_count": 13,
   "metadata": {},
   "outputs": [],
   "source": [
    "invalid_records = NaN_entries.index"
   ]
  },
  {
   "cell_type": "code",
   "execution_count": 14,
   "metadata": {},
   "outputs": [
    {
     "data": {
      "text/plain": [
       "9097"
      ]
     },
     "execution_count": 14,
     "metadata": {},
     "output_type": "execute_result"
    }
   ],
   "source": [
    "legacy_NaNs = np.intersect1d(legacy_indexed.index, invalid_records)\n",
    "legacy_only = legacy_indexed.loc[list(legacy_NaNs)]\n",
    "len(legacy_only)"
   ]
  },
  {
   "cell_type": "code",
   "execution_count": 15,
   "metadata": {},
   "outputs": [
    {
     "data": {
      "text/plain": [
       "2337"
      ]
     },
     "execution_count": 15,
     "metadata": {},
     "output_type": "execute_result"
    }
   ],
   "source": [
    "labs_NaNs = np.intersect1d(labs_indexed.index, invalid_records)\n",
    "labs_only = labs_indexed.loc[list(labs_NaNs)]\n",
    "len(labs_only)"
   ]
  },
  {
   "cell_type": "code",
   "execution_count": 16,
   "metadata": {},
   "outputs": [],
   "source": [
    "# PLEASE RUN ONLY ONCE TO AVOID MULTIPLE APPENDS\n",
    "\n",
    "# Initialize extended DataFrames for the \"invalid\" differences\n",
    "legacy_only_ext = legacy_only\n",
    "labs_only_ext = labs_only\n",
    "\n",
    "# For legacy_only (Lost citations)\n",
    "legacy_only_ext['Legacy_Count'] = legacy_only.Citation_Difference\n",
    "legacy_only_ext['Labs_Count'] = 0\n",
    "\n",
    "\n",
    "# For labs_only (Gained citations)\n",
    "labs_only_ext['Legacy_Count'] = 0\n",
    "labs_only_ext['Labs_Count'] = labs_only.Citation_Difference\n",
    "\n",
    "# Append to the appropriate categories\n",
    "abs_diff_ext = abs_diff_ext.append(legacy_only_ext)\n",
    "abs_diff_ext = abs_diff_ext.append(labs_only_ext)\n",
    "abs_diff_ext = abs_diff_ext.sort_values('Citation_Difference', ascending=False)\n",
    "\n",
    "gained_citations_ext = gained_citations_ext.append(labs_only_ext)\n",
    "gained_citations_ext = gained_citations_ext.sort_values('Citation_Difference', ascending=False)\n",
    "\n",
    "legacy_only_ext.Citation_Difference = legacy_only_ext.Citation_Difference * -1\n",
    "lost_citations_ext = lost_citations_ext.append(legacy_only_ext)\n",
    "lost_citations_ext = lost_citations_ext.sort_values('Citation_Difference')"
   ]
  },
  {
   "cell_type": "raw",
   "metadata": {},
   "source": [
    "# Save the citation difference DataFrames to CSV Files\n",
    "lost_citations_ext.to_csv(os.path.join(csv_save_dir, 'lost_citations_prev.csv'))\n",
    "gained_citations_ext.to_csv(os.path.join(csv_save_dir, 'gained_citations_prev.csv'))\n",
    "abs_diff_ext.to_csv(os.path.join(csv_save_dir, 'overall_difference_prev.csv'))"
   ]
  },
  {
   "cell_type": "markdown",
   "metadata": {},
   "source": [
    "### Some useful statistics"
   ]
  },
  {
   "cell_type": "code",
   "execution_count": 17,
   "metadata": {},
   "outputs": [
    {
     "name": "stdout",
     "output_type": "stream",
     "text": [
      "Total number of unique Cited articles as per legacy: 760203\n",
      "Total number of unique Cited articles as per Labs: 753443\n",
      "Union of the above two - Total unique cited articles: 762540\n",
      "\n",
      "Total Number of Unique Articles which cite other papers: 942172\n",
      "\n",
      "Number of Cited articles with zero difference: 683539\n",
      "Percentage of Cited articles with zero difference: 89.64 %\n"
     ]
    }
   ],
   "source": [
    "# Indicate Number of articles with zero differences in citation counts\n",
    "num_cited_legacy = len(legacy.index.unique())\n",
    "num_cited_labs = len(labs.index.unique())\n",
    "num_unique_articles = len(records.recID.unique())\n",
    "total_unique_cited_articles = len(np.union1d(legacy_indexed.index, labs_indexed.index))\n",
    "print('Total number of unique Cited articles as per legacy: {}'.format(num_cited_legacy))\n",
    "print('Total number of unique Cited articles as per Labs: {}'.format(num_cited_labs))\n",
    "print('Union of the above two - Total unique cited articles: {}'.format(total_unique_cited_articles))\n",
    "print('\\nTotal Number of Unique Articles which cite other papers: {}\\n'.format(num_unique_articles))\n",
    "\n",
    "num_zero_diff = valid_diff.Citation_Difference.value_counts()[0]\n",
    "zero_diff = num_zero_diff / total_unique_cited_articles * 100\n",
    "print('Number of Cited articles with zero difference: {}'.format(num_zero_diff))\n",
    "print('Percentage of Cited articles with zero difference: {0:0.2f} %'.format(zero_diff))"
   ]
  },
  {
   "cell_type": "code",
   "execution_count": 18,
   "metadata": {},
   "outputs": [
    {
     "name": "stdout",
     "output_type": "stream",
     "text": [
      "Total Number of article with changes in citation counts in Labs: 79001\n",
      "\n",
      "Number of articles with changes in Citation Counts in Labs\n",
      "1.0    61460\n",
      "2.0     9039\n",
      "3.0     2949\n",
      "4.0     1410\n",
      "5.0      835\n",
      "Name: Citation_Difference, dtype: int64\n",
      "\n",
      "Percent (%) of Citation Counts Difference in Labs\n",
      "1.0    8.059905\n",
      "2.0    1.185380\n",
      "3.0    0.386734\n",
      "4.0    0.184908\n",
      "5.0    0.109502\n",
      "Name: Citation_Difference, dtype: float64\n",
      "\n",
      "Total 3308 records with difference greater than 5 - Percentage: 0.43381330815432634 %\n",
      "\n"
     ]
    }
   ],
   "source": [
    "# Percentage Differences for absolute differences\n",
    "abs_diff_counts = abs_diff_ext.Citation_Difference.value_counts()\n",
    "print('Total Number of article with changes in citation counts in Labs: {}'.format(len(abs_diff_ext)))\n",
    "\n",
    "print('\\nNumber of articles with changes in Citation Counts in Labs')\n",
    "print(abs_diff_counts[:5])\n",
    "\n",
    "print('\\nPercent (%) of Citation Counts Difference in Labs')\n",
    "print(abs_diff_counts[:5] / total_unique_cited_articles * 100)\n",
    "\n",
    "num_grt5 = sum(abs_diff_counts[6:])\n",
    "percent_grt5 = num_grt5 / total_unique_cited_articles * 100\n",
    "print('\\nTotal {} records with difference greater than 5 - Percentage: {} %\\n'.format(num_grt5, percent_grt5))"
   ]
  },
  {
   "cell_type": "code",
   "execution_count": 19,
   "metadata": {},
   "outputs": [
    {
     "name": "stdout",
     "output_type": "stream",
     "text": [
      "Total Number of article with loss in citation counts in Labs: 59523\n",
      "\n",
      "Number of articles losing Citation Counts in Labs\n",
      "-1.0    46100\n",
      "-2.0     7016\n",
      "-3.0     2175\n",
      "-4.0     1013\n",
      "-5.0      589\n",
      "Name: Citation_Difference, dtype: int64\n",
      "\n",
      "Percent (%) of Citation Counts Lost in Labs\n",
      "-1.0    6.045584\n",
      "-2.0    0.920083\n",
      "-3.0    0.285231\n",
      "-4.0    0.132845\n",
      "-5.0    0.077242\n",
      "Name: Citation_Difference, dtype: float64\n",
      "\n",
      "Total 2630 records with lost citations greater than 5 - Percentage: 0.3448999396752957 %\n",
      "\n"
     ]
    }
   ],
   "source": [
    "# Percentage Differences for lost citations\n",
    "lost_citations_count = lost_citations_ext.Citation_Difference.value_counts()\n",
    "print('Total Number of article with loss in citation counts in Labs: {}'.format(len(lost_citations_ext)))\n",
    "\n",
    "print('\\nNumber of articles losing Citation Counts in Labs')\n",
    "print(lost_citations_count[:-5])\n",
    "\n",
    "lost_percent_diff = lost_citations_count/ total_unique_cited_articles * 100\n",
    "print('\\nPercent (%) of Citation Counts Lost in Labs')\n",
    "print(lost_percent_diff[:-5])\n",
    "\n",
    "lost_grt5 = sum(lost_citations_count[-6:])\n",
    "lost_percent_grt5 = lost_grt5 / total_unique_cited_articles * 100\n",
    "print('\\nTotal {} records with lost citations greater than 5 - Percentage: {} %\\n'.format(lost_grt5, lost_percent_grt5))"
   ]
  },
  {
   "cell_type": "code",
   "execution_count": 20,
   "metadata": {},
   "outputs": [
    {
     "name": "stdout",
     "output_type": "stream",
     "text": [
      "Total Number of article with gain in citation counts in Labs: 19478\n",
      "\n",
      "Number of articles gaining Citation Counts in Labs\n",
      "1.0    15360\n",
      "2.0     2023\n",
      "3.0      774\n",
      "4.0      397\n",
      "5.0      246\n",
      "Name: Citation_Difference, dtype: int64\n",
      "\n",
      "Percent (%) of Citation Counts Gained in Labs\n",
      "1.0    2.014321\n",
      "2.0    0.265298\n",
      "3.0    0.101503\n",
      "4.0    0.052063\n",
      "5.0    0.032261\n",
      "Name: Citation_Difference, dtype: float64\n",
      "\n",
      "Total 678 records with gained citations greater than 5 - Percentage: 0.08891336847903061 %\n",
      "\n"
     ]
    }
   ],
   "source": [
    "# Percentage Differences for gained citations\n",
    "gained_citations_count = gained_citations_ext.Citation_Difference.value_counts()\n",
    "print('Total Number of article with gain in citation counts in Labs: {}'.format(len(gained_citations_ext)))\n",
    "\n",
    "print('\\nNumber of articles gaining Citation Counts in Labs')\n",
    "print(gained_citations_count[:5])\n",
    "\n",
    "gained_percent_diff = gained_citations_count/ total_unique_cited_articles * 100\n",
    "print('\\nPercent (%) of Citation Counts Gained in Labs')\n",
    "print(gained_percent_diff[:5])\n",
    "\n",
    "\n",
    "gained_grt5 = sum(gained_citations_count[6:])\n",
    "gained_percent_grt5 = gained_grt5 / total_unique_cited_articles * 100\n",
    "print('\\nTotal {} records with gained citations greater than 5 - Percentage: {} %\\n'.format(gained_grt5, gained_percent_grt5))"
   ]
  },
  {
   "cell_type": "markdown",
   "metadata": {},
   "source": [
    "### Analyze \"Core-ness\" of the records with citation differences"
   ]
  },
  {
   "cell_type": "code",
   "execution_count": 100,
   "metadata": {},
   "outputs": [],
   "source": [
    "core_list = pd.read_csv('inspire_core.txt', sep='\\n', header=None)"
   ]
  },
  {
   "cell_type": "markdown",
   "metadata": {},
   "source": [
    "##### For Absolute differences"
   ]
  },
  {
   "cell_type": "code",
   "execution_count": 101,
   "metadata": {},
   "outputs": [
    {
     "name": "stdout",
     "output_type": "stream",
     "text": [
      "Of 79001 records with citation differences, 53593 are CORE and 25408 are Non-Core\n",
      "Of the above, CORE records have 133075.0 number of citations while Non-Core articles have 48645.0 different number of citations\n"
     ]
    }
   ],
   "source": [
    "core_articles_with_diff = np.intersect1d(abs_diff_ext.index, core_list[0].unique())\n",
    "non_core_articles_with_diff = np.setxor1d(core_articles_with_diff, abs_diff_ext.index)\n",
    "\n",
    "print('Of {} records with citation differences, {} are CORE and {} are Non-Core'.format(len(abs_diff_ext), len(core_articles_with_diff), len(non_core_articles_with_diff)))\n",
    "\n",
    "core_changed_citations = abs_diff_ext.loc[list(core_articles_with_diff)].Citation_Difference.sum()\n",
    "non_core_changed_citations = abs_diff_ext.loc[list(non_core_articles_with_diff)].Citation_Difference.sum()\n",
    "\n",
    "print('Of the above, CORE records have {} number of citations while Non-Core articles have {} different number of citations'.format(core_changed_citations, non_core_changed_citations))\n",
    "\n",
    "core_articles_with_diff_ext = abs_diff_ext.loc[core_articles_with_diff].sort_values('Citation_Difference', ascending=False)\n",
    "non_core_articles_with_diff_ext = abs_diff_ext.loc[non_core_articles_with_diff].sort_values('Citation_Difference', ascending=False)"
   ]
  },
  {
   "cell_type": "code",
   "execution_count": 103,
   "metadata": {},
   "outputs": [
    {
     "name": "stdout",
     "output_type": "stream",
     "text": [
      "\n",
      "Number of CORE articles with changes in Citation Counts in Labs\n",
      "1.0    41114\n",
      "2.0     6184\n",
      "3.0     2126\n",
      "4.0     1003\n",
      "5.0      606\n",
      "Name: Citation_Difference, dtype: int64\n",
      "\n",
      "Percent (%) of CORE Citation Counts Difference in Labs\n",
      "1.0    5.391717\n",
      "2.0    0.810974\n",
      "3.0    0.278805\n",
      "4.0    0.131534\n",
      "5.0    0.079471\n",
      "Name: Citation_Difference, dtype: float64\n",
      "\n",
      "Total 2560 CORE records with difference greater than 5 - Percentage: 0.335720093372151 %\n",
      "\n"
     ]
    }
   ],
   "source": [
    "# For Core\n",
    "core_diff_counts = core_articles_with_diff_ext.Citation_Difference.value_counts()\n",
    "\n",
    "print('\\nNumber of CORE articles with changes in Citation Counts in Labs')\n",
    "print(core_diff_counts[:5])\n",
    "\n",
    "print('\\nPercent (%) of CORE Citation Counts Difference in Labs')\n",
    "print(core_diff_counts[:5] / total_unique_cited_articles * 100)\n",
    "\n",
    "core_num_grt5 = sum(core_diff_counts[6:])\n",
    "core_percent_grt5 = core_num_grt5 / total_unique_cited_articles * 100\n",
    "print('\\nTotal {} CORE records with difference greater than 5 - Percentage: {} %\\n'.format(core_num_grt5, core_percent_grt5))"
   ]
  },
  {
   "cell_type": "code",
   "execution_count": 104,
   "metadata": {},
   "outputs": [
    {
     "name": "stdout",
     "output_type": "stream",
     "text": [
      "\n",
      "Number of non-CORE articles with changes in Citation Counts in Labs\n",
      "1.0    20346\n",
      "2.0     2855\n",
      "3.0      823\n",
      "4.0      407\n",
      "5.0      229\n",
      "Name: Citation_Difference, dtype: int64\n",
      "\n",
      "Percent (%) of non-CORE Citation Counts Difference in Labs\n",
      "1.0    2.668188\n",
      "2.0    0.374407\n",
      "3.0    0.107929\n",
      "4.0    0.053374\n",
      "5.0    0.030031\n",
      "Name: Citation_Difference, dtype: float64\n",
      "\n",
      "Total 748 non-CORE records with difference greater than 5 - Percentage: 0.09809321478217536 %\n",
      "\n"
     ]
    }
   ],
   "source": [
    "# For Non-Core\n",
    "non_core_diff_counts = non_core_articles_with_diff_ext.Citation_Difference.value_counts()\n",
    "\n",
    "print('\\nNumber of non-CORE articles with changes in Citation Counts in Labs')\n",
    "print(non_core_diff_counts[:5])\n",
    "\n",
    "print('\\nPercent (%) of non-CORE Citation Counts Difference in Labs')\n",
    "print(non_core_diff_counts[:5] / total_unique_cited_articles * 100)\n",
    "\n",
    "non_core_num_grt5 = sum(non_core_diff_counts[6:])\n",
    "non_core_percent_grt5 = non_core_num_grt5 / total_unique_cited_articles * 100\n",
    "print('\\nTotal {} non-CORE records with difference greater than 5 - Percentage: {} %\\n'.format(non_core_num_grt5, non_core_percent_grt5))"
   ]
  },
  {
   "cell_type": "markdown",
   "metadata": {},
   "source": [
    "##### For Lost Citations"
   ]
  },
  {
   "cell_type": "code",
   "execution_count": 105,
   "metadata": {},
   "outputs": [
    {
     "name": "stdout",
     "output_type": "stream",
     "text": [
      "Of 59523 records with citation losses, 39259 are CORE and 20264 are Non-Core\n",
      "Of the above, CORE records have lost 104417.0 citations while Non-Core articles have lost 40217.0 citations\n"
     ]
    }
   ],
   "source": [
    "core_articles_with_loss = np.intersect1d(lost_citations_ext.index, core_list[0].unique())\n",
    "non_core_articles_with_loss = np.setxor1d(core_articles_with_loss, lost_citations_ext.index)\n",
    "\n",
    "print('Of {} records with citation losses, {} are CORE and {} are Non-Core'.format(len(lost_citations_ext), len(core_articles_with_loss), len(non_core_articles_with_loss)))\n",
    "\n",
    "core_lost_citations = lost_citations_ext.loc[list(core_articles_with_loss)].Citation_Difference.sum()\n",
    "non_core_lost_citations = lost_citations_ext.loc[list(non_core_articles_with_loss)].Citation_Difference.sum()\n",
    "\n",
    "print('Of the above, CORE records have lost {} citations while Non-Core articles have lost {} citations'.format(abs(core_lost_citations), abs(non_core_lost_citations)))\n",
    "\n",
    "core_articles_with_loss_ext = lost_citations_ext.loc[core_articles_with_loss].sort_values('Citation_Difference')\n",
    "non_core_articles_with_loss_ext = lost_citations_ext.loc[non_core_articles_with_loss].sort_values('Citation_Difference')"
   ]
  },
  {
   "cell_type": "code",
   "execution_count": 106,
   "metadata": {},
   "outputs": [
    {
     "name": "stdout",
     "output_type": "stream",
     "text": [
      "\n",
      "Number of CORE articles with loss in Citation Counts in Labs\n",
      "-1.0    30021\n",
      "-2.0     4626\n",
      "-3.0     1495\n",
      "-4.0      690\n",
      "-5.0      412\n",
      "Name: Citation_Difference, dtype: int64\n",
      "\n",
      "Percent (%) of CORE Citation Lost in Labs\n",
      "-1.0    3.936974\n",
      "-2.0    0.606657\n",
      "-3.0    0.196055\n",
      "-4.0    0.090487\n",
      "-5.0    0.054030\n",
      "Name: Citation_Difference, dtype: float64\n",
      "\n",
      "Total 2015 CORE records with loss greater than 5 - Percentage: 0.2642484328690954 %\n",
      "\n"
     ]
    }
   ],
   "source": [
    "# For Core\n",
    "core_lost_counts = core_articles_with_loss_ext.Citation_Difference.value_counts()\n",
    "\n",
    "print('\\nNumber of CORE articles with loss in Citation Counts in Labs')\n",
    "print(core_lost_counts[:-5])\n",
    "\n",
    "print('\\nPercent (%) of CORE Citation Lost in Labs')\n",
    "print(core_lost_counts[:-5] / total_unique_cited_articles * 100)\n",
    "\n",
    "core_lost_grt5 = sum(core_lost_counts[-6:])\n",
    "core_lost_percent_grt5 = core_lost_grt5 / total_unique_cited_articles * 100\n",
    "print('\\nTotal {} CORE records with loss greater than 5 - Percentage: {} %\\n'.format(core_lost_grt5, core_lost_percent_grt5))"
   ]
  },
  {
   "cell_type": "code",
   "execution_count": 107,
   "metadata": {},
   "outputs": [
    {
     "name": "stdout",
     "output_type": "stream",
     "text": [
      "\n",
      "Number of non-CORE articles with loss in Citation Counts in Labs\n",
      "-1.0    16079\n",
      "-2.0     2390\n",
      "-3.0      680\n",
      "-4.0      323\n",
      "-5.0      177\n",
      "Name: Citation_Difference, dtype: int64\n",
      "\n",
      "Percent (%) of non-CORE Citation Counts Lost in Labs\n",
      "-1.0    2.108611\n",
      "-2.0    0.313426\n",
      "-3.0    0.089176\n",
      "-4.0    0.042358\n",
      "-5.0    0.023212\n",
      "Name: Citation_Difference, dtype: float64\n",
      "\n",
      "Total 615 Non-CORE records with loss greater than 5 - Percentage: 0.08065150680620034 %\n",
      "\n"
     ]
    }
   ],
   "source": [
    "# For Non-Core\n",
    "non_core_lost_counts = non_core_articles_with_loss_ext.Citation_Difference.value_counts()\n",
    "\n",
    "print('\\nNumber of non-CORE articles with loss in Citation Counts in Labs')\n",
    "print(non_core_lost_counts[:-5])\n",
    "\n",
    "print('\\nPercent (%) of non-CORE Citation Counts Lost in Labs')\n",
    "print(non_core_lost_counts[:-5] / total_unique_cited_articles * 100)\n",
    "\n",
    "non_core_lost_grt5 = sum(non_core_lost_counts[-6:])\n",
    "non_core_lost_percent_grt5 = non_core_lost_grt5 / total_unique_cited_articles * 100\n",
    "print('\\nTotal {} Non-CORE records with loss greater than 5 - Percentage: {} %\\n'.format(non_core_lost_grt5, non_core_lost_percent_grt5))"
   ]
  },
  {
   "cell_type": "markdown",
   "metadata": {},
   "source": [
    "##### For Gained Citations"
   ]
  },
  {
   "cell_type": "code",
   "execution_count": 108,
   "metadata": {},
   "outputs": [
    {
     "name": "stdout",
     "output_type": "stream",
     "text": [
      "Of 19478 records with citation gains, 14334 are CORE and 5144 are Non-Core\n",
      "Of the above, CORE records have gained 28658.0 citations while Non-Core articles have gained 8428.0 citations\n"
     ]
    }
   ],
   "source": [
    "core_articles_with_gain = np.intersect1d(gained_citations_ext.index, core_list[0].unique())\n",
    "non_core_articles_with_gain = np.setxor1d(core_articles_with_gain, gained_citations_ext.index)\n",
    "\n",
    "print('Of {} records with citation gains, {} are CORE and {} are Non-Core'.format(len(gained_citations_ext), len(core_articles_with_gain), len(non_core_articles_with_gain)))\n",
    "\n",
    "core_gained_citations = gained_citations_ext.loc[list(core_articles_with_gain)].Citation_Difference.sum()\n",
    "non_core_gained_citations = gained_citations_ext.loc[list(non_core_articles_with_gain)].Citation_Difference.sum()\n",
    "\n",
    "print('Of the above, CORE records have gained {} citations while Non-Core articles have gained {} citations'.format(abs(core_gained_citations), abs(non_core_gained_citations)))\n",
    "\n",
    "core_articles_with_gain_ext = gained_citations_ext.loc[core_articles_with_gain].sort_values('Citation_Difference', ascending=False)\n",
    "non_core_articles_with_gain_ext = gained_citations_ext.loc[non_core_articles_with_gain].sort_values('Citation_Difference', ascending=False)"
   ]
  },
  {
   "cell_type": "code",
   "execution_count": 109,
   "metadata": {},
   "outputs": [
    {
     "name": "stdout",
     "output_type": "stream",
     "text": [
      "\n",
      "Number of CORE articles with gain in Citation Counts in Labs\n",
      "1.0    11093\n",
      "2.0     1558\n",
      "3.0      631\n",
      "4.0      313\n",
      "5.0      194\n",
      "Name: Citation_Difference, dtype: int64\n",
      "\n",
      "Percent (%) of CORE Citation Gained in Labs\n",
      "1.0    1.454743\n",
      "2.0    0.204317\n",
      "3.0    0.082750\n",
      "4.0    0.041047\n",
      "5.0    0.025441\n",
      "Name: Citation_Difference, dtype: float64\n",
      "\n",
      "Total 545 CORE records with gain greater than 5 - Percentage: 0.07147166050305559 %\n",
      "\n"
     ]
    }
   ],
   "source": [
    "# For Core\n",
    "core_gained_counts = core_articles_with_gain_ext.Citation_Difference.value_counts()\n",
    "\n",
    "print('\\nNumber of CORE articles with gain in Citation Counts in Labs')\n",
    "print(core_gained_counts[:5])\n",
    "\n",
    "print('\\nPercent (%) of CORE Citation Gained in Labs')\n",
    "print(core_gained_counts[:5] / total_unique_cited_articles * 100)\n",
    "\n",
    "core_gained_grt5 = sum(core_gained_counts[6:])\n",
    "core_gained_percent_grt5 = core_gained_grt5 / total_unique_cited_articles * 100\n",
    "print('\\nTotal {} CORE records with gain greater than 5 - Percentage: {} %\\n'.format(core_gained_grt5, core_gained_percent_grt5))"
   ]
  },
  {
   "cell_type": "code",
   "execution_count": 110,
   "metadata": {},
   "outputs": [
    {
     "name": "stdout",
     "output_type": "stream",
     "text": [
      "\n",
      "Number of non-CORE articles with gain in Citation Counts in Labs\n",
      "1.0    4267\n",
      "2.0     465\n",
      "3.0     143\n",
      "4.0      84\n",
      "5.0      52\n",
      "Name: Citation_Difference, dtype: int64\n",
      "\n",
      "Percent (%) of non-CORE Citation Counts Gained in Labs\n",
      "1.0    0.559577\n",
      "2.0    0.060980\n",
      "3.0    0.018753\n",
      "4.0    0.011016\n",
      "5.0    0.006819\n",
      "Name: Citation_Difference, dtype: float64\n",
      "\n",
      "Total 133 non-CORE records with gain greater than 5 - Percentage: 0.01744170797597503 %\n",
      "\n"
     ]
    }
   ],
   "source": [
    "# For Non-Core\n",
    "non_core_gained_counts = non_core_articles_with_gain_ext.Citation_Difference.value_counts()\n",
    "\n",
    "print('\\nNumber of non-CORE articles with gain in Citation Counts in Labs')\n",
    "print(non_core_gained_counts[:5])\n",
    "\n",
    "print('\\nPercent (%) of non-CORE Citation Counts Gained in Labs')\n",
    "print(non_core_gained_counts[:5] / total_unique_cited_articles * 100)\n",
    "\n",
    "non_core_gained_grt5 = sum(non_core_gained_counts[6:])\n",
    "non_core_gained_percent_grt5 = non_core_gained_grt5 / total_unique_cited_articles * 100\n",
    "print('\\nTotal {} non-CORE records with gain greater than 5 - Percentage: {} %\\n'.format(non_core_gained_grt5, non_core_gained_percent_grt5))"
   ]
  },
  {
   "cell_type": "markdown",
   "metadata": {},
   "source": [
    "### Analyze by \"citeable\""
   ]
  },
  {
   "cell_type": "code",
   "execution_count": 111,
   "metadata": {},
   "outputs": [],
   "source": [
    "citeable_list = pd.read_csv('inspire_citeable.txt', sep='\\n', header=None)"
   ]
  },
  {
   "cell_type": "markdown",
   "metadata": {},
   "source": [
    "##### For Absolute differences"
   ]
  },
  {
   "cell_type": "code",
   "execution_count": 112,
   "metadata": {},
   "outputs": [
    {
     "name": "stdout",
     "output_type": "stream",
     "text": [
      "Of 79001 records with citation differences, 75620 are Citeable and 3381 are Non-Citeable\n",
      "Of the above, Citeable records have 169691.0 number of citations while Non-Citeable articles have 12029.0 different number of citations\n"
     ]
    }
   ],
   "source": [
    "citeable_articles_with_diff = np.intersect1d(abs_diff_ext.index, citeable_list[0].unique())\n",
    "non_citeable_articles_with_diff = np.setxor1d(citeable_articles_with_diff, abs_diff_ext.index)\n",
    "\n",
    "print('Of {} records with citation differences, {} are Citeable and {} are Non-Citeable'.format(len(abs_diff_ext), len(citeable_articles_with_diff), len(non_citeable_articles_with_diff)))\n",
    "\n",
    "citeable_changed_citations = abs_diff_ext.loc[list(citeable_articles_with_diff)].Citation_Difference.sum()\n",
    "non_citeable_changed_citations = abs_diff_ext.loc[list(non_citeable_articles_with_diff)].Citation_Difference.sum()\n",
    "\n",
    "print('Of the above, Citeable records have {} number of citations while Non-Citeable articles have {} different number of citations'.format(citeable_changed_citations, non_citeable_changed_citations))\n",
    "\n",
    "citeable_articles_with_diff_ext = abs_diff_ext.loc[citeable_articles_with_diff].sort_values('Citation_Difference', ascending=False)\n",
    "non_citeable_articles_with_diff_ext = abs_diff_ext.loc[non_citeable_articles_with_diff].sort_values('Citation_Difference', ascending=False)"
   ]
  },
  {
   "cell_type": "code",
   "execution_count": 113,
   "metadata": {},
   "outputs": [
    {
     "name": "stdout",
     "output_type": "stream",
     "text": [
      "\n",
      "Number of Citeable articles with changes in Citation Counts in Labs\n",
      "1.0    59116\n",
      "2.0     8585\n",
      "3.0     2783\n",
      "4.0     1309\n",
      "5.0      764\n",
      "Name: Citation_Difference, dtype: int64\n",
      "\n",
      "Percent (%) of Citeable Citation Counts Difference in Labs\n",
      "1.0    7.752511\n",
      "2.0    1.125843\n",
      "3.0    0.364964\n",
      "4.0    0.171663\n",
      "5.0    0.100191\n",
      "Name: Citation_Difference, dtype: float64\n",
      "\n",
      "Total 3063 Citeable records with difference greater than 5 - Percentage: 0.4016838460933197 %\n",
      "\n"
     ]
    }
   ],
   "source": [
    "# For Citeable\n",
    "citeable_diff_counts = citeable_articles_with_diff_ext.Citation_Difference.value_counts()\n",
    "\n",
    "print('\\nNumber of Citeable articles with changes in Citation Counts in Labs')\n",
    "print(citeable_diff_counts[:5])\n",
    "\n",
    "print('\\nPercent (%) of Citeable Citation Counts Difference in Labs')\n",
    "print(citeable_diff_counts[:5] / total_unique_cited_articles * 100)\n",
    "\n",
    "citeable_num_grt5 = sum(citeable_diff_counts[6:])\n",
    "citeable_percent_grt5 = citeable_num_grt5 / total_unique_cited_articles * 100\n",
    "print('\\nTotal {} Citeable records with difference greater than 5 - Percentage: {} %\\n'.format(citeable_num_grt5, citeable_percent_grt5))"
   ]
  },
  {
   "cell_type": "code",
   "execution_count": 114,
   "metadata": {},
   "outputs": [
    {
     "name": "stdout",
     "output_type": "stream",
     "text": [
      "\n",
      "Number of non-Citeable articles with changes in Citation Counts in Labs\n",
      "1.0    2344\n",
      "2.0     454\n",
      "3.0     166\n",
      "4.0     101\n",
      "5.0      71\n",
      "Name: Citation_Difference, dtype: int64\n",
      "\n",
      "Percent (%) of non-Citeable Citation Counts Difference in Labs\n",
      "1.0    0.307394\n",
      "2.0    0.059538\n",
      "3.0    0.021769\n",
      "4.0    0.013245\n",
      "5.0    0.009311\n",
      "Name: Citation_Difference, dtype: float64\n",
      "\n",
      "Total 208 non-Citeable records with difference greater than 5 - Percentage: 0.027277257586487268 %\n",
      "\n"
     ]
    }
   ],
   "source": [
    "# For Non-Citeable\n",
    "non_citeable_diff_counts = non_citeable_articles_with_diff_ext.Citation_Difference.value_counts()\n",
    "\n",
    "print('\\nNumber of non-Citeable articles with changes in Citation Counts in Labs')\n",
    "print(non_citeable_diff_counts[:5])\n",
    "\n",
    "print('\\nPercent (%) of non-Citeable Citation Counts Difference in Labs')\n",
    "print(non_citeable_diff_counts[:5] / total_unique_cited_articles * 100)\n",
    "\n",
    "non_citeable_num_grt5 = sum(non_citeable_diff_counts[6:])\n",
    "non_citeable_percent_grt5 = non_citeable_num_grt5 / total_unique_cited_articles * 100\n",
    "print('\\nTotal {} non-Citeable records with difference greater than 5 - Percentage: {} %\\n'.format(non_citeable_num_grt5, non_citeable_percent_grt5))"
   ]
  },
  {
   "cell_type": "markdown",
   "metadata": {},
   "source": [
    "##### For Lost Citations"
   ]
  },
  {
   "cell_type": "code",
   "execution_count": 115,
   "metadata": {},
   "outputs": [
    {
     "name": "stdout",
     "output_type": "stream",
     "text": [
      "Of 59523 records with citation losses, 56947 are Citeable and 2576 are Non-Citeable\n",
      "Of the above, Citeable records have lost 133837.0 citations while Non-Citeable articles have lost 10797.0 citations\n"
     ]
    }
   ],
   "source": [
    "citeable_articles_with_loss = np.intersect1d(lost_citations_ext.index, citeable_list[0].unique())\n",
    "non_citeable_articles_with_loss = np.setxor1d(citeable_articles_with_loss, lost_citations_ext.index)\n",
    "\n",
    "print('Of {} records with citation losses, {} are Citeable and {} are Non-Citeable'.format(len(lost_citations_ext), len(citeable_articles_with_loss), len(non_citeable_articles_with_loss)))\n",
    "\n",
    "citeable_lost_citations = lost_citations_ext.loc[list(citeable_articles_with_loss)].Citation_Difference.sum()\n",
    "non_citeable_lost_citations = lost_citations_ext.loc[list(non_citeable_articles_with_loss)].Citation_Difference.sum()\n",
    "\n",
    "print('Of the above, Citeable records have lost {} citations while Non-Citeable articles have lost {} citations'.format(abs(citeable_lost_citations), abs(non_citeable_lost_citations)))\n",
    "\n",
    "citeable_articles_with_loss_ext = lost_citations_ext.loc[citeable_articles_with_loss].sort_values('Citation_Difference')\n",
    "non_citeable_articles_with_loss_ext = lost_citations_ext.loc[non_citeable_articles_with_loss].sort_values('Citation_Difference')"
   ]
  },
  {
   "cell_type": "code",
   "execution_count": 116,
   "metadata": {},
   "outputs": [
    {
     "name": "stdout",
     "output_type": "stream",
     "text": [
      "\n",
      "Number of Citeable articles with loss in Citation Counts in Labs\n",
      "-1.0    44373\n",
      "-2.0     6669\n",
      "-3.0     2047\n",
      "-4.0      932\n",
      "-5.0      528\n",
      "Name: Citation_Difference, dtype: int64\n",
      "\n",
      "Percent (%) of Citeable Citation Lost in Labs\n",
      "-1.0    5.819105\n",
      "-2.0    0.874577\n",
      "-3.0    0.268445\n",
      "-4.0    0.122223\n",
      "-5.0    0.069242\n",
      "Name: Citation_Difference, dtype: float64\n",
      "\n",
      "Total 2398 Citeable records with loss greater than 5 - Percentage: 0.31447530621344455 %\n",
      "\n"
     ]
    }
   ],
   "source": [
    "# For Citeable\n",
    "citeable_lost_counts = citeable_articles_with_loss_ext.Citation_Difference.value_counts()\n",
    "\n",
    "print('\\nNumber of Citeable articles with loss in Citation Counts in Labs')\n",
    "print(citeable_lost_counts[:-5])\n",
    "\n",
    "print('\\nPercent (%) of Citeable Citation Lost in Labs')\n",
    "print(citeable_lost_counts[:-5] / total_unique_cited_articles * 100)\n",
    "\n",
    "citeable_lost_grt5 = sum(citeable_lost_counts[-6:])\n",
    "citeable_lost_percent_grt5 = citeable_lost_grt5 / total_unique_cited_articles * 100\n",
    "print('\\nTotal {} Citeable records with loss greater than 5 - Percentage: {} %\\n'.format(citeable_lost_grt5, citeable_lost_percent_grt5))"
   ]
  },
  {
   "cell_type": "code",
   "execution_count": 117,
   "metadata": {},
   "outputs": [
    {
     "name": "stdout",
     "output_type": "stream",
     "text": [
      "\n",
      "Number of non-Citeable articles with loss in Citation Counts in Labs\n",
      "-1.0    1727\n",
      "-2.0     347\n",
      "-3.0     128\n",
      "-4.0      81\n",
      "-5.0      61\n",
      "Name: Citation_Difference, dtype: int64\n",
      "\n",
      "Percent (%) of non-Citeable Citation Counts Lost in Labs\n",
      "-1.0    0.226480\n",
      "-2.0    0.045506\n",
      "-3.0    0.016786\n",
      "-4.0    0.010622\n",
      "-5.0    0.008000\n",
      "Name: Citation_Difference, dtype: float64\n",
      "\n",
      "Total 197 Non-Citeable records with loss greater than 5 - Percentage: 0.025834710310278806 %\n",
      "\n"
     ]
    }
   ],
   "source": [
    "# For Non-Citeable\n",
    "non_citeable_lost_counts = non_citeable_articles_with_loss_ext.Citation_Difference.value_counts()\n",
    "\n",
    "print('\\nNumber of non-Citeable articles with loss in Citation Counts in Labs')\n",
    "print(non_citeable_lost_counts[:-5])\n",
    "\n",
    "print('\\nPercent (%) of non-Citeable Citation Counts Lost in Labs')\n",
    "print(non_citeable_lost_counts[:-5] / total_unique_cited_articles * 100)\n",
    "\n",
    "non_citeable_lost_grt5 = sum(non_citeable_lost_counts[-6:])\n",
    "non_citeable_lost_percent_grt5 = non_citeable_lost_grt5 / total_unique_cited_articles * 100\n",
    "print('\\nTotal {} Non-Citeable records with loss greater than 5 - Percentage: {} %\\n'.format(non_citeable_lost_grt5, non_citeable_lost_percent_grt5))"
   ]
  },
  {
   "cell_type": "markdown",
   "metadata": {},
   "source": [
    "##### For Gained Citations"
   ]
  },
  {
   "cell_type": "code",
   "execution_count": 118,
   "metadata": {},
   "outputs": [
    {
     "name": "stdout",
     "output_type": "stream",
     "text": [
      "Of 19478 records with citation gains, 18673 are Citeable and 805 are Non-Citeable\n",
      "Of the above, Citeable records have gained 35854.0 citations while Non-Citeable articles have gained 1232.0 citations\n"
     ]
    }
   ],
   "source": [
    "citeable_articles_with_gain = np.intersect1d(gained_citations_ext.index, citeable_list[0].unique())\n",
    "non_citeable_articles_with_gain = np.setxor1d(citeable_articles_with_gain, gained_citations_ext.index)\n",
    "\n",
    "print('Of {} records with citation gains, {} are Citeable and {} are Non-Citeable'.format(len(gained_citations_ext), len(citeable_articles_with_gain), len(non_citeable_articles_with_gain)))\n",
    "\n",
    "citeable_gained_citations = gained_citations_ext.loc[list(citeable_articles_with_gain)].Citation_Difference.sum()\n",
    "non_citeable_gained_citations = gained_citations_ext.loc[list(non_citeable_articles_with_gain)].Citation_Difference.sum()\n",
    "\n",
    "print('Of the above, Citeable records have gained {} citations while Non-Citeable articles have gained {} citations'.format(abs(citeable_gained_citations), abs(non_citeable_gained_citations)))\n",
    "\n",
    "citeable_articles_with_gain_ext = gained_citations_ext.loc[citeable_articles_with_gain].sort_values('Citation_Difference', ascending=False)\n",
    "non_citeable_articles_with_gain_ext = gained_citations_ext.loc[non_citeable_articles_with_gain].sort_values('Citation_Difference', ascending=False)"
   ]
  },
  {
   "cell_type": "code",
   "execution_count": 119,
   "metadata": {},
   "outputs": [
    {
     "name": "stdout",
     "output_type": "stream",
     "text": [
      "\n",
      "Number of Citeable articles with gain in Citation Counts in Labs\n",
      "1.0    14743\n",
      "2.0     1916\n",
      "3.0      736\n",
      "4.0      377\n",
      "5.0      236\n",
      "Name: Citation_Difference, dtype: int64\n",
      "\n",
      "Percent (%) of Citeable Citation Gained in Labs\n",
      "1.0    1.933407\n",
      "2.0    0.251266\n",
      "3.0    0.096520\n",
      "4.0    0.049440\n",
      "5.0    0.030949\n",
      "Name: Citation_Difference, dtype: float64\n",
      "\n",
      "Total 665 Citeable records with gain greater than 5 - Percentage: 0.08720853987987515 %\n",
      "\n"
     ]
    }
   ],
   "source": [
    "# For Citeable\n",
    "citeable_gained_counts = citeable_articles_with_gain_ext.Citation_Difference.value_counts()\n",
    "\n",
    "print('\\nNumber of Citeable articles with gain in Citation Counts in Labs')\n",
    "print(citeable_gained_counts[:5])\n",
    "\n",
    "print('\\nPercent (%) of Citeable Citation Gained in Labs')\n",
    "print(citeable_gained_counts[:5] / total_unique_cited_articles * 100)\n",
    "\n",
    "citeable_gained_grt5 = sum(citeable_gained_counts[6:])\n",
    "citeable_gained_percent_grt5 = citeable_gained_grt5 / total_unique_cited_articles * 100\n",
    "print('\\nTotal {} Citeable records with gain greater than 5 - Percentage: {} %\\n'.format(citeable_gained_grt5, citeable_gained_percent_grt5))"
   ]
  },
  {
   "cell_type": "code",
   "execution_count": 120,
   "metadata": {},
   "outputs": [
    {
     "name": "stdout",
     "output_type": "stream",
     "text": [
      "\n",
      "Number of non-Citeable articles with gain in Citation Counts in Labs\n",
      "1.0    617\n",
      "2.0    107\n",
      "3.0     38\n",
      "4.0     20\n",
      "5.0     10\n",
      "Name: Citation_Difference, dtype: int64\n",
      "\n",
      "Percent (%) of non-Citeable Citation Counts Gained in Labs\n",
      "1.0    0.080914\n",
      "2.0    0.014032\n",
      "3.0    0.004983\n",
      "4.0    0.002623\n",
      "5.0    0.001311\n",
      "Name: Citation_Difference, dtype: float64\n",
      "\n",
      "Total 9 non-Citeable records with gain greater than 5 - Percentage: 0.0011802659532614682 %\n",
      "\n"
     ]
    }
   ],
   "source": [
    "# For Non-Citeable\n",
    "non_citeable_gained_counts = non_citeable_articles_with_gain_ext.Citation_Difference.value_counts()\n",
    "\n",
    "print('\\nNumber of non-Citeable articles with gain in Citation Counts in Labs')\n",
    "print(non_citeable_gained_counts[:5])\n",
    "\n",
    "print('\\nPercent (%) of non-Citeable Citation Counts Gained in Labs')\n",
    "print(non_citeable_gained_counts[:5] / total_unique_cited_articles * 100)\n",
    "\n",
    "non_citeable_gained_grt5 = sum(non_citeable_gained_counts[6:])\n",
    "non_citeable_gained_percent_grt5 = non_citeable_gained_grt5 / total_unique_cited_articles * 100\n",
    "print('\\nTotal {} non-Citeable records with gain greater than 5 - Percentage: {} %\\n'.format(non_citeable_gained_grt5, non_citeable_gained_percent_grt5))"
   ]
  },
  {
   "cell_type": "markdown",
   "metadata": {},
   "source": [
    "# Please ignore after this\n",
    "### Investiagte non-existent \"cited\" articles"
   ]
  },
  {
   "cell_type": "code",
   "execution_count": 26,
   "metadata": {},
   "outputs": [],
   "source": [
    "non_overlapping = np.setdiff1d(np.union1d(records.oldRef.unique(), legacy.recID.unique()), np.intersect1d(records.oldRef.unique(), legacy.recID.unique()))\n",
    "non_overlapping = non_overlapping[1:] # Remove entry for Zero"
   ]
  },
  {
   "cell_type": "code",
   "execution_count": 27,
   "metadata": {},
   "outputs": [
    {
     "name": "stdout",
     "output_type": "stream",
     "text": [
      "List from Legacy machine and from ES queries has 5289 non-overlapping records\n"
     ]
    }
   ],
   "source": [
    "print('List from Legacy machine and from ES queries has {} non-overlapping records'.format(len(non_overlapping)))"
   ]
  },
  {
   "cell_type": "code",
   "execution_count": 50,
   "metadata": {},
   "outputs": [],
   "source": [
    "cited_in_dump_but_not_bibrank = []\n",
    "cited_in_bibrank_but_not_dump = []\n",
    "for article in non_overlapping:\n",
    "    if len(records[records.oldRef == article]) != 0:\n",
    "        cited_in_dump_but_not_bibrank.append(article)\n",
    "    if len(legacy[legacy.recID == article]) != 0:\n",
    "        cited_in_bibrank_but_not_dump.append(article)"
   ]
  },
  {
   "cell_type": "code",
   "execution_count": 100,
   "metadata": {},
   "outputs": [],
   "source": [
    "cited_in_bibrank = legacy_indexed.loc[cited_in_bibrank_but_not_dump]"
   ]
  },
  {
   "cell_type": "code",
   "execution_count": 101,
   "metadata": {},
   "outputs": [],
   "source": [
    "cited_in_dump = pd.DataFrame(records.oldRef.value_counts()[cited_in_dump_but_not_bibrank])\n",
    "cited_in_dump.columns = ['Citation_Difference']"
   ]
  }
 ],
 "metadata": {
  "kernelspec": {
   "display_name": "Python 3",
   "language": "python",
   "name": "python3"
  },
  "language_info": {
   "codemirror_mode": {
    "name": "ipython",
    "version": 3
   },
   "file_extension": ".py",
   "mimetype": "text/x-python",
   "name": "python",
   "nbconvert_exporter": "python",
   "pygments_lexer": "ipython3",
   "version": "3.5.2"
  }
 },
 "nbformat": 4,
 "nbformat_minor": 2
}
