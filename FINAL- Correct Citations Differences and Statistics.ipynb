{
 "cells": [
  {
   "cell_type": "code",
   "execution_count": 2,
   "metadata": {},
   "outputs": [],
   "source": [
    "import numpy as np\n",
    "import pandas as pd\n",
    "import os\n",
    "\n",
    "pd.options.display.max_colwidth = 1000"
   ]
  },
  {
   "cell_type": "code",
   "execution_count": 3,
   "metadata": {},
   "outputs": [],
   "source": [
    "csv_save_dir = 'output_csvs_new'\n",
    "if not os.path.exists(csv_save_dir):\n",
    "    os.makedirs(csv_save_dir)"
   ]
  },
  {
   "cell_type": "code",
   "execution_count": 4,
   "metadata": {},
   "outputs": [
    {
     "name": "stdout",
     "output_type": "stream",
     "text": [
      "Total Records: 30230936\n",
      "CPU times: user 2min 41s, sys: 9.49 s, total: 2min 50s\n",
      "Wall time: 2min 53s\n"
     ]
    }
   ],
   "source": [
    "%%time\n",
    "\n",
    "# Read information for the new records\n",
    "records = pd.read_csv('new-citations-rerun.tsv', sep='\\t', header=None)\n",
    "records.columns = ['recID', 'oldRef', 'newRef', 'metaData']\n",
    "\n",
    "print('Total Records: {}'.format(len(records)))"
   ]
  },
  {
   "cell_type": "code",
   "execution_count": 5,
   "metadata": {},
   "outputs": [],
   "source": [
    "# Read the new citation counts\n",
    "labs = pd.read_csv('new-citation-counts-rerun.tsv', sep='\\t', header=None)\n",
    "labs.columns = ['recID', 'Citation_Difference']\n",
    "# Citation_Difference is actually citation count but is used here for ease later when subtracting\n",
    "\n",
    "# Index by recIDs\n",
    "labs_indexed = labs.set_index('recID')"
   ]
  },
  {
   "cell_type": "code",
   "execution_count": 6,
   "metadata": {},
   "outputs": [],
   "source": [
    "# Read the legacy citation counts\n",
    "legacy = pd.read_csv('old-citation-counts.tsv', sep='\\t')\n",
    "legacy.columns = ['recID', 'Citation_Difference']\n",
    "# Citation_Difference is actually citation count but is used here for ease later when subtracting\n",
    "\n",
    "# Index by recrod IDs\n",
    "legacy_indexed = legacy.set_index('recID')"
   ]
  },
  {
   "cell_type": "code",
   "execution_count": 7,
   "metadata": {},
   "outputs": [],
   "source": [
    "# Compute the difference in citation counts between Labs and Legacy\n",
    "diff = labs_indexed - legacy_indexed"
   ]
  },
  {
   "cell_type": "code",
   "execution_count": 8,
   "metadata": {},
   "outputs": [
    {
     "name": "stdout",
     "output_type": "stream",
     "text": [
      "11434 articles are differently indexed between the legacy and labs records and have no correspondence\n"
     ]
    }
   ],
   "source": [
    "# Filter out the NaNs\n",
    "is_nan = diff.Citation_Difference.isna()\n",
    "NaN_entries = diff[is_nan]\n",
    "\n",
    "print('{} articles are differently indexed between the legacy and labs records and have no correspondence'.format(len(NaN_entries)))"
   ]
  },
  {
   "cell_type": "code",
   "execution_count": 9,
   "metadata": {},
   "outputs": [],
   "source": [
    "# Filter the valid entries\n",
    "is_valid = ~diff.Citation_Difference.isna()\n",
    "valid_diff = diff[is_valid]"
   ]
  },
  {
   "cell_type": "code",
   "execution_count": 10,
   "metadata": {},
   "outputs": [],
   "source": [
    "# Get the articles which have lost citations\n",
    "lost = valid_diff.Citation_Difference < 0\n",
    "lost_citations = valid_diff[lost]\n",
    "\n",
    "# Sort the list\n",
    "lost_citations = lost_citations.sort_values('Citation_Difference')"
   ]
  },
  {
   "cell_type": "code",
   "execution_count": 11,
   "metadata": {},
   "outputs": [],
   "source": [
    "# Get the articles which have gained citations\n",
    "gained = valid_diff.Citation_Difference > 0\n",
    "gained_citations = valid_diff[gained]\n",
    "\n",
    "# Sort the list\n",
    "gained_citations = gained_citations.sort_values('Citation_Difference', ascending=False)"
   ]
  },
  {
   "cell_type": "code",
   "execution_count": 12,
   "metadata": {},
   "outputs": [],
   "source": [
    "# Get the counts for absolute differences in citation numbers\n",
    "abs_diff = np.abs(valid_diff)\n",
    "abs_diff = abs_diff.sort_values('Citation_Difference', ascending=False)\n",
    "\n",
    "# Filter out the zero difference entries\n",
    "non_zero_diff = abs_diff.Citation_Difference != 0\n",
    "abs_diff = abs_diff[non_zero_diff]"
   ]
  },
  {
   "cell_type": "code",
   "execution_count": 13,
   "metadata": {},
   "outputs": [],
   "source": [
    "# Initialize extended DataFrames for the differences\n",
    "lost_citations_ext = lost_citations\n",
    "gained_citations_ext = gained_citations\n",
    "abs_diff_ext = abs_diff\n",
    "\n",
    "# For lost citations\n",
    "lost_citations_ext['Legacy_Count'] = legacy_indexed.loc[lost_citations.index]\n",
    "lost_citations_ext['Labs_Count'] = labs_indexed.loc[lost_citations.index]\n",
    "\n",
    "# For gained citations\n",
    "gained_citations_ext['Legacy_Count'] = legacy_indexed.loc[gained_citations.index]\n",
    "gained_citations_ext['Labs_Count'] = labs_indexed.loc[gained_citations.index]\n",
    "\n",
    "# For absolute difference in citation counts\n",
    "abs_diff_ext['Legacy_Count'] = legacy_indexed.loc[abs_diff.index]\n",
    "abs_diff_ext['Labs_Count'] = labs_indexed.loc[abs_diff.index]"
   ]
  },
  {
   "cell_type": "raw",
   "metadata": {},
   "source": [
    "# Save the citation difference DataFrames to CSV Files\n",
    "lost_citations_ext.to_csv(os.path.join(csv_save_dir, 'lost_citations.csv'))\n",
    "gained_citations_ext.to_csv(os.path.join(csv_save_dir, 'gained_citations.csv'))\n",
    "abs_diff_ext.to_csv(os.path.join(csv_save_dir, 'overall_difference.csv'))"
   ]
  },
  {
   "cell_type": "markdown",
   "metadata": {},
   "source": [
    "### Incorporate \"invalid/NaN\" entries"
   ]
  },
  {
   "cell_type": "code",
   "execution_count": 14,
   "metadata": {},
   "outputs": [],
   "source": [
    "invalid_records = NaN_entries.index"
   ]
  },
  {
   "cell_type": "code",
   "execution_count": 15,
   "metadata": {},
   "outputs": [
    {
     "data": {
      "text/plain": [
       "9097"
      ]
     },
     "execution_count": 15,
     "metadata": {},
     "output_type": "execute_result"
    }
   ],
   "source": [
    "legacy_NaNs = np.intersect1d(legacy_indexed.index, invalid_records)\n",
    "legacy_only = legacy_indexed.loc[list(legacy_NaNs)]\n",
    "len(legacy_only)"
   ]
  },
  {
   "cell_type": "code",
   "execution_count": 16,
   "metadata": {},
   "outputs": [
    {
     "data": {
      "text/plain": [
       "2337"
      ]
     },
     "execution_count": 16,
     "metadata": {},
     "output_type": "execute_result"
    }
   ],
   "source": [
    "labs_NaNs = np.intersect1d(labs_indexed.index, invalid_records)\n",
    "labs_only = labs_indexed.loc[list(labs_NaNs)]\n",
    "len(labs_only)"
   ]
  },
  {
   "cell_type": "code",
   "execution_count": 17,
   "metadata": {},
   "outputs": [],
   "source": [
    "# PLEASE RUN ONLY ONCE TO AVOID MULTIPLE APPENDS\n",
    "\n",
    "# Initialize extended DataFrames for the \"invalid\" differences\n",
    "legacy_only_ext = legacy_only\n",
    "labs_only_ext = labs_only\n",
    "\n",
    "# For legacy_only (Lost citations)\n",
    "legacy_only_ext['Legacy_Count'] = legacy_only.Citation_Difference\n",
    "legacy_only_ext['Labs_Count'] = 0\n",
    "\n",
    "\n",
    "# For labs_only (Gained citations)\n",
    "labs_only_ext['Legacy_Count'] = 0\n",
    "labs_only_ext['Labs_Count'] = labs_only.Citation_Difference\n",
    "\n",
    "# Append to the appropriate categories\n",
    "abs_diff_ext = abs_diff_ext.append(legacy_only_ext)\n",
    "abs_diff_ext = abs_diff_ext.append(labs_only_ext)\n",
    "abs_diff_ext = abs_diff_ext.sort_values('Citation_Difference', ascending=False)\n",
    "\n",
    "gained_citations_ext = gained_citations_ext.append(labs_only_ext)\n",
    "gained_citations_ext = gained_citations_ext.sort_values('Citation_Difference', ascending=False)\n",
    "\n",
    "legacy_only_ext.Citation_Difference = legacy_only_ext.Citation_Difference * -1\n",
    "lost_citations_ext = lost_citations_ext.append(legacy_only_ext)\n",
    "lost_citations_ext = lost_citations_ext.sort_values('Citation_Difference')"
   ]
  },
  {
   "cell_type": "markdown",
   "metadata": {},
   "source": [
    "### Some useful statistics"
   ]
  },
  {
   "cell_type": "code",
   "execution_count": 18,
   "metadata": {},
   "outputs": [
    {
     "name": "stdout",
     "output_type": "stream",
     "text": [
      "Total number of unique Cited articles as per legacy: 760203\n",
      "Total number of unique Cited articles as per Labs: 753443\n",
      "Union of the above two - Total unique cited articles: 762540\n",
      "\n",
      "Total Number of Unique Articles which cite other papers: 942172\n",
      "\n",
      "Number of Cited articles with zero difference: 683539\n",
      "Percentage of Cited articles with zero difference: 89.64 %\n"
     ]
    }
   ],
   "source": [
    "# Indicate Number of articles with zero differences in citation counts\n",
    "num_cited_legacy = len(legacy.index.unique())\n",
    "num_cited_labs = len(labs.index.unique())\n",
    "num_unique_articles = len(records.recID.unique())\n",
    "total_unique_cited_articles = len(np.union1d(legacy_indexed.index, labs_indexed.index))\n",
    "print('Total number of unique Cited articles as per legacy: {}'.format(num_cited_legacy))\n",
    "print('Total number of unique Cited articles as per Labs: {}'.format(num_cited_labs))\n",
    "print('Union of the above two - Total unique cited articles: {}'.format(total_unique_cited_articles))\n",
    "print('\\nTotal Number of Unique Articles which cite other papers: {}\\n'.format(num_unique_articles))\n",
    "\n",
    "num_zero_diff = valid_diff.Citation_Difference.value_counts()[0]\n",
    "zero_diff = num_zero_diff / total_unique_cited_articles * 100\n",
    "print('Number of Cited articles with zero difference: {}'.format(num_zero_diff))\n",
    "print('Percentage of Cited articles with zero difference: {0:0.2f} %'.format(zero_diff))"
   ]
  },
  {
   "cell_type": "code",
   "execution_count": 19,
   "metadata": {},
   "outputs": [
    {
     "name": "stdout",
     "output_type": "stream",
     "text": [
      "Total Number of article with changes in citation counts in Labs: 79001\n",
      "\n",
      "Number of articles with changes in Citation Counts in Labs\n",
      "1.0    61460\n",
      "2.0     9039\n",
      "3.0     2949\n",
      "4.0     1410\n",
      "5.0      835\n",
      "Name: Citation_Difference, dtype: int64\n",
      "\n",
      "Percent (%) of Citation Counts Difference in Labs\n",
      "1.0    8.059905\n",
      "2.0    1.185380\n",
      "3.0    0.386734\n",
      "4.0    0.184908\n",
      "5.0    0.109502\n",
      "Name: Citation_Difference, dtype: float64\n",
      "\n",
      "Total 3308 records with difference greater than 5 - Percentage: 0.43381330815432634 %\n",
      "\n"
     ]
    }
   ],
   "source": [
    "# Percentage Differences for absolute differences\n",
    "abs_diff_counts = abs_diff_ext.Citation_Difference.value_counts()\n",
    "print('Total Number of article with changes in citation counts in Labs: {}'.format(len(abs_diff_ext)))\n",
    "\n",
    "print('\\nNumber of articles with changes in Citation Counts in Labs')\n",
    "print(abs_diff_counts[:5])\n",
    "\n",
    "print('\\nPercent (%) of Citation Counts Difference in Labs')\n",
    "print(abs_diff_counts[:5] / total_unique_cited_articles * 100)\n",
    "\n",
    "num_grt5 = sum(abs_diff_counts[6:])\n",
    "percent_grt5 = num_grt5 / total_unique_cited_articles * 100\n",
    "print('\\nTotal {} records with difference greater than 5 - Percentage: {} %\\n'.format(num_grt5, percent_grt5))"
   ]
  },
  {
   "cell_type": "code",
   "execution_count": 20,
   "metadata": {},
   "outputs": [
    {
     "name": "stdout",
     "output_type": "stream",
     "text": [
      "Total Number of article with loss in citation counts in Labs: 59523\n",
      "\n",
      "Number of articles losing Citation Counts in Labs\n",
      "-1.0    46100\n",
      "-2.0     7016\n",
      "-3.0     2175\n",
      "-4.0     1013\n",
      "-5.0      589\n",
      "Name: Citation_Difference, dtype: int64\n",
      "\n",
      "Percent (%) of Citation Counts Lost in Labs\n",
      "-1.0    6.045584\n",
      "-2.0    0.920083\n",
      "-3.0    0.285231\n",
      "-4.0    0.132845\n",
      "-5.0    0.077242\n",
      "Name: Citation_Difference, dtype: float64\n",
      "\n",
      "Total 2630 records with lost citations greater than 5 - Percentage: 0.3448999396752957 %\n",
      "\n"
     ]
    }
   ],
   "source": [
    "# Percentage Differences for lost citations\n",
    "lost_citations_count = lost_citations_ext.Citation_Difference.value_counts()\n",
    "print('Total Number of article with loss in citation counts in Labs: {}'.format(len(lost_citations_ext)))\n",
    "\n",
    "print('\\nNumber of articles losing Citation Counts in Labs')\n",
    "print(lost_citations_count[:-5])\n",
    "\n",
    "lost_percent_diff = lost_citations_count/ total_unique_cited_articles * 100\n",
    "print('\\nPercent (%) of Citation Counts Lost in Labs')\n",
    "print(lost_percent_diff[:-5])\n",
    "\n",
    "lost_grt5 = sum(lost_citations_count[-6:])\n",
    "lost_percent_grt5 = lost_grt5 / total_unique_cited_articles * 100\n",
    "print('\\nTotal {} records with lost citations greater than 5 - Percentage: {} %\\n'.format(lost_grt5, lost_percent_grt5))"
   ]
  },
  {
   "cell_type": "code",
   "execution_count": 21,
   "metadata": {},
   "outputs": [
    {
     "name": "stdout",
     "output_type": "stream",
     "text": [
      "Total Number of article with gain in citation counts in Labs: 19478\n",
      "\n",
      "Number of articles gaining Citation Counts in Labs\n",
      "1.0    15360\n",
      "2.0     2023\n",
      "3.0      774\n",
      "4.0      397\n",
      "5.0      246\n",
      "Name: Citation_Difference, dtype: int64\n",
      "\n",
      "Percent (%) of Citation Counts Gained in Labs\n",
      "1.0    2.014321\n",
      "2.0    0.265298\n",
      "3.0    0.101503\n",
      "4.0    0.052063\n",
      "5.0    0.032261\n",
      "Name: Citation_Difference, dtype: float64\n",
      "\n",
      "Total 678 records with gained citations greater than 5 - Percentage: 0.08891336847903061 %\n",
      "\n"
     ]
    }
   ],
   "source": [
    "# Percentage Differences for gained citations\n",
    "gained_citations_count = gained_citations_ext.Citation_Difference.value_counts()\n",
    "print('Total Number of article with gain in citation counts in Labs: {}'.format(len(gained_citations_ext)))\n",
    "\n",
    "print('\\nNumber of articles gaining Citation Counts in Labs')\n",
    "print(gained_citations_count[:5])\n",
    "\n",
    "gained_percent_diff = gained_citations_count/ total_unique_cited_articles * 100\n",
    "print('\\nPercent (%) of Citation Counts Gained in Labs')\n",
    "print(gained_percent_diff[:5])\n",
    "\n",
    "\n",
    "gained_grt5 = sum(gained_citations_count[6:])\n",
    "gained_percent_grt5 = gained_grt5 / total_unique_cited_articles * 100\n",
    "print('\\nTotal {} records with gained citations greater than 5 - Percentage: {} %\\n'.format(gained_grt5, gained_percent_grt5))"
   ]
  },
  {
   "cell_type": "markdown",
   "metadata": {},
   "source": [
    "### Analyze \"Core-ness\" of the records with citation differences"
   ]
  },
  {
   "cell_type": "code",
   "execution_count": 26,
   "metadata": {},
   "outputs": [],
   "source": [
    "core_list = pd.read_csv('inspire_core.txt', sep='\\n', header=None)"
   ]
  },
  {
   "cell_type": "code",
   "execution_count": 101,
   "metadata": {},
   "outputs": [
    {
     "name": "stdout",
     "output_type": "stream",
     "text": [
      "Of 79001 records with citation differences, 53593 are CORE and 25408 are Non-Core\n"
     ]
    }
   ],
   "source": [
    "core_articles_with_diff = np.intersect1d(abs_diff_ext.index, core_list[0].unique())\n",
    "non_core_articles_with_diff = np.setxor1d(core_articles_with_diff, abs_diff_ext.index)\n",
    "\n",
    "print('Of {} records with citation differences, {} are CORE and {} are Non-Core'.format(len(abs_diff_ext), len(core_articles_with_diff), len(non_core_articles_with_diff)))"
   ]
  },
  {
   "cell_type": "code",
   "execution_count": 115,
   "metadata": {},
   "outputs": [
    {
     "name": "stdout",
     "output_type": "stream",
     "text": [
      "Of the above, CORE records lose 133075.0 citations while Non-Core articles lose 48645.0 citations\n"
     ]
    }
   ],
   "source": [
    "core_changed_citations = abs_diff_ext.loc[list(core_articles_with_diff)].Citation_Difference.sum()\n",
    "non_core_changed_citations = abs_diff_ext.loc[list(non_core_articles_with_diff)].Citation_Difference.sum()\n",
    "\n",
    "print('Of the above, CORE records lose {} citations while Non-Core articles lose {} citations'.format(core_changed_citations, non_core_changed_citations))"
   ]
  },
  {
   "cell_type": "code",
   "execution_count": 136,
   "metadata": {},
   "outputs": [
    {
     "data": {
      "text/plain": [
       "<matplotlib.axes._subplots.AxesSubplot at 0x7f98ede049e8>"
      ]
     },
     "execution_count": 136,
     "metadata": {},
     "output_type": "execute_result"
    },
    {
     "data": {
      "image/png": "[encoded data removed]",
      "text/plain": [
       "<Figure size 432x288 with 1 Axes>"
      ]
     },
     "metadata": {},
     "output_type": "display_data"
    }
   ],
   "source": [
    "# For Non-Core\n",
    "abs_diff_ext.loc[list(non_core_articles_with_diff)].sort_values('Citation_Difference', ascending=False).plot('Citation_Difference')"
   ]
  },
  {
   "cell_type": "code",
   "execution_count": 135,
   "metadata": {},
   "outputs": [
    {
     "data": {
      "text/plain": [
       "<matplotlib.axes._subplots.AxesSubplot at 0x7f98ed860e48>"
      ]
     },
     "execution_count": 135,
     "metadata": {},
     "output_type": "execute_result"
    },
    {
     "data": {
      "image/png": "[encoded data removed]",
      "text/plain": [
       "<Figure size 432x288 with 1 Axes>"
      ]
     },
     "metadata": {},
     "output_type": "display_data"
    }
   ],
   "source": [
    "# For Core\n",
    "abs_diff_ext.loc[list(core_articles_with_diff)].sort_values('Citation_Difference', ascending=False).plot('Citation_Difference')"
   ]
  },
  {
   "cell_type": "markdown",
   "metadata": {},
   "source": [
    "### Analyze by \"citeable\""
   ]
  },
  {
   "cell_type": "code",
   "execution_count": 128,
   "metadata": {},
   "outputs": [],
   "source": [
    "citeable_list = pd.read_csv('inspire_citeable.txt', sep='\\n', header=None)"
   ]
  },
  {
   "cell_type": "code",
   "execution_count": 132,
   "metadata": {},
   "outputs": [
    {
     "name": "stdout",
     "output_type": "stream",
     "text": [
      "Of 79001 records with citation differences, 75620 are CITEABLE and 3381 are not Citeable\n"
     ]
    }
   ],
   "source": [
    "citeable_articles_with_diff = np.intersect1d(abs_diff_ext.index, citeable_list[0].unique())\n",
    "non_citeable_articles_with_diff = np.setxor1d(citeable_articles_with_diff, abs_diff_ext.index)\n",
    "\n",
    "print('Of {} records with citation differences, {} are CITEABLE and {} are not Citeable'.format(len(abs_diff_ext), len(citeable_articles_with_diff), len(non_citeable_articles_with_diff)))"
   ]
  },
  {
   "cell_type": "code",
   "execution_count": 134,
   "metadata": {},
   "outputs": [
    {
     "name": "stdout",
     "output_type": "stream",
     "text": [
      "Of the above, CITEABLE records lose 169691.0 citations while not Citeable articles lose 12029.0 citations\n"
     ]
    }
   ],
   "source": [
    "citeable_changed_citations = abs_diff_ext.loc[list(citeable_articles_with_diff)].Citation_Difference.sum()\n",
    "non_citeable_changed_citations = abs_diff_ext.loc[list(non_citeable_articles_with_diff)].Citation_Difference.sum()\n",
    "\n",
    "print('Of the above, CITEABLE records lose {} citations while not Citeable articles lose {} citations'.format(citeable_changed_citations, non_citeable_changed_citations))"
   ]
  },
  {
   "cell_type": "code",
   "execution_count": 137,
   "metadata": {},
   "outputs": [
    {
     "data": {
      "text/plain": [
       "<matplotlib.axes._subplots.AxesSubplot at 0x7f98ed7a4240>"
      ]
     },
     "execution_count": 137,
     "metadata": {},
     "output_type": "execute_result"
    },
    {
     "data": {
      "image/png": "[encoded data removed]",
      "text/plain": [
       "<Figure size 432x288 with 1 Axes>"
      ]
     },
     "metadata": {},
     "output_type": "display_data"
    }
   ],
   "source": [
    "# For not Citeable\n",
    "abs_diff_ext.loc[list(non_citeable_articles_with_diff)].sort_values('Citation_Difference', ascending=False).plot('Citation_Difference')"
   ]
  },
  {
   "cell_type": "code",
   "execution_count": 138,
   "metadata": {},
   "outputs": [
    {
     "data": {
      "text/plain": [
       "<matplotlib.axes._subplots.AxesSubplot at 0x7f98ed7415f8>"
      ]
     },
     "execution_count": 138,
     "metadata": {},
     "output_type": "execute_result"
    },
    {
     "data": {
      "image/png": "[encoded data removed]",
      "text/plain": [
       "<Figure size 432x288 with 1 Axes>"
      ]
     },
     "metadata": {},
     "output_type": "display_data"
    }
   ],
   "source": [
    "# For Citeable\n",
    "abs_diff_ext.loc[list(citeable_articles_with_diff)].sort_values('Citation_Difference', ascending=False).plot('Citation_Difference')"
   ]
  },
  {
   "cell_type": "markdown",
   "metadata": {},
   "source": [
    "# Please ignore after this\n",
    "### Investiagte non-existent \"cited\" articles"
   ]
  },
  {
   "cell_type": "code",
   "execution_count": 26,
   "metadata": {},
   "outputs": [],
   "source": [
    "non_overlapping = np.setdiff1d(np.union1d(records.oldRef.unique(), legacy.recID.unique()), np.intersect1d(records.oldRef.unique(), legacy.recID.unique()))\n",
    "non_overlapping = non_overlapping[1:] # Remove entry for Zero"
   ]
  },
  {
   "cell_type": "code",
   "execution_count": 27,
   "metadata": {},
   "outputs": [
    {
     "name": "stdout",
     "output_type": "stream",
     "text": [
      "List from Legacy machine and from ES queries has 5289 non-overlapping records\n"
     ]
    }
   ],
   "source": [
    "print('List from Legacy machine and from ES queries has {} non-overlapping records'.format(len(non_overlapping)))"
   ]
  },
  {
   "cell_type": "code",
   "execution_count": 50,
   "metadata": {},
   "outputs": [],
   "source": [
    "cited_in_dump_but_not_bibrank = []\n",
    "cited_in_bibrank_but_not_dump = []\n",
    "for article in non_overlapping:\n",
    "    if len(records[records.oldRef == article]) != 0:\n",
    "        cited_in_dump_but_not_bibrank.append(article)\n",
    "    if len(legacy[legacy.recID == article]) != 0:\n",
    "        cited_in_bibrank_but_not_dump.append(article)"
   ]
  },
  {
   "cell_type": "code",
   "execution_count": 100,
   "metadata": {},
   "outputs": [],
   "source": [
    "cited_in_bibrank = legacy_indexed.loc[cited_in_bibrank_but_not_dump]"
   ]
  },
  {
   "cell_type": "code",
   "execution_count": 101,
   "metadata": {},
   "outputs": [],
   "source": [
    "cited_in_dump = pd.DataFrame(records.oldRef.value_counts()[cited_in_dump_but_not_bibrank])\n",
    "cited_in_dump.columns = ['Citation_Difference']"
   ]
  }
 ],
 "metadata": {
  "kernelspec": {
   "display_name": "Python 3",
   "language": "python",
   "name": "python3"
  },
  "language_info": {
   "codemirror_mode": {
    "name": "ipython",
    "version": 3
   },
   "file_extension": ".py",
   "mimetype": "text/x-python",
   "name": "python",
   "nbconvert_exporter": "python",
   "pygments_lexer": "ipython3",
   "version": "3.5.2"
  }
 },
 "nbformat": 4,
 "nbformat_minor": 2
}
